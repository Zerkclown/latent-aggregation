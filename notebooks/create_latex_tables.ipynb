{
 "cells": [
  {
   "cell_type": "code",
   "execution_count": null,
   "metadata": {},
   "outputs": [],
   "source": [
    "from nn_core.common import PROJECT_ROOT\n",
    "import json\n",
    "import numpy as np\n",
    "\n",
    "\n",
    "def adjust_cmap_alpha(cmap, alpha=1.0):\n",
    "    # Get the colormap colors\n",
    "    colors = cmap(np.arange(cmap.N))\n",
    "\n",
    "    # Set the alpha value\n",
    "    colors[:, -1] = alpha\n",
    "\n",
    "    # Create a new colormap with the modified colors\n",
    "    new_cmap = plt.matplotlib.colors.ListedColormap(colors)\n",
    "    return new_cmap\n",
    "\n",
    "\n",
    "def rgba_to_rgb(rgba, background=(1, 1, 1)):\n",
    "    print(rgba)\n",
    "    \"\"\"Convert an RGBA color to an RGB color, blending over a specified background color.\"\"\"\n",
    "    return [rgba[i] * rgba[3] + background[i] * (1 - rgba[3]) for i in range(3)]"
   ]
  },
  {
   "cell_type": "markdown",
   "metadata": {},
   "source": [
    "## Experiment 1 -- part shared part novel "
   ]
  },
  {
   "cell_type": "markdown",
   "metadata": {},
   "source": [
    "### CKA"
   ]
  },
  {
   "cell_type": "code",
   "execution_count": null,
   "metadata": {},
   "outputs": [],
   "source": [
    "file_path = PROJECT_ROOT / \"paper_results\" / \"exp_1_cka_analysis.json\"\n",
    "with open(file_path) as json_file:\n",
    "    data = json.load(json_file)"
   ]
  },
  {
   "cell_type": "code",
   "execution_count": null,
   "metadata": {},
   "outputs": [],
   "source": [
    "data"
   ]
  },
  {
   "cell_type": "code",
   "execution_count": null,
   "metadata": {},
   "outputs": [],
   "source": [
    "import seaborn as sns\n",
    "import matplotlib.pyplot as plt\n",
    "\n",
    "\n",
    "def decimal_to_rgb_color(decimal_value, cmap=\"viridis\"):\n",
    "    \"\"\"\n",
    "    Convert a decimal value (between 0 and 1) to the corresponding RGB color in the given colormap.\n",
    "    \"\"\"\n",
    "    if not (0 <= decimal_value <= 1):\n",
    "        raise ValueError(\"decimal_value should be between 0 and 1 inclusive.\")\n",
    "\n",
    "    colormap = plt.get_cmap(cmap)\n",
    "    color = colormap(decimal_value)[:3]\n",
    "\n",
    "    color = [round(c, 2) for c in color]\n",
    "    return tuple(color)\n",
    "\n",
    "\n",
    "def compute_num_tasks(C, S, N):\n",
    "    return (C - S) // N"
   ]
  },
  {
   "cell_type": "code",
   "execution_count": null,
   "metadata": {},
   "outputs": [],
   "source": [
    "num_classes = {\"cifar100\": 100, \"tiny_imagenet\": 200}\n",
    "models = [\"vanilla_cnn\", \"efficient_net\"]\n",
    "S = {\"cifar100\": [80, 60, 40, 20], \"tiny_imagenet\": [100, 50]}\n",
    "N = {\"cifar100\": [10, 5], \"tiny_imagenet\": [25]}\n",
    "datasets = [\"cifar100\", \"tiny_imagenet\"]\n",
    "dataset_names = {\"cifar100\": \"CIFAR100\", \"tiny_imagenet\": \"TINY\"}\n",
    "model_names = {\"vanilla_cnn\": \"VanillaCNN\", \"efficient_net\": \"EfficientNet\"}"
   ]
  },
  {
   "cell_type": "code",
   "execution_count": null,
   "metadata": {},
   "outputs": [],
   "source": [
    "# cmap = \"coolwarm\"\n",
    "cmap = sns.light_palette(\"seagreen\", as_cmap=True)\n",
    "# cmap = adjust_cmap_alpha(cmap, alpha=1)\n",
    "cmap = sns.color_palette(\"vlag\", as_cmap=True)\n",
    "\n",
    "\n",
    "num_cols = 10\n",
    "num_rows = {\"cifar100\": 10, \"tiny_imagenet\": 3}\n",
    "\n",
    "header = r\"\"\"\n",
    "\\begin{table}\n",
    "\\centering\n",
    "\\begin{tabular}{cccccccccc}\n",
    "    \\toprule\n",
    "    & & & \\multicolumn{7}{c}{CKA Measure} \\\\\n",
    "    \\cmidrule(lr){5-10}\n",
    "    Dataset & S & N & \\# tasks & non-shared & shared & total & non-shared & shared & total \\\\\n",
    "    \\midrule\n",
    "\"\"\"\n",
    "\n",
    "\n",
    "rows = []\n",
    "for dataset in datasets:\n",
    "\n",
    "    dataset_str = f\"\\\\texttt{{{dataset_names[dataset]}}}\"\n",
    "    rows.append(\n",
    "        f\"        \\\\parbox[t]{{2mm}}{{\\\\multirow{{{num_rows[dataset]}}}{{*}}{{ \\\\rotatebox[origin=c]{{90}}{{{dataset_str}}} }}}}\"\n",
    "    )\n",
    "\n",
    "    dataset_results = data[dataset]\n",
    "\n",
    "    models_str = [f\"\\\\texttt{{{model_names[model]}}}\" for model in models]\n",
    "    rows.append(\n",
    "        f\"& & & & \\multicolumn{{3}}{{c}}{{{models_str[0]}}} & \\multicolumn{{3}}{{c}}{{{models_str[1]}}}    \\\\\\\\    \\\\cmidrule(lr){{5-7}} \\\\cmidrule(lr){{8-10}}\"\n",
    "    )\n",
    "    for n in N[dataset]:\n",
    "        for s in S[dataset]:\n",
    "            row = f\"& ${s}$ & ${n}$ & {compute_num_tasks(num_classes[dataset], s, n)}\"\n",
    "\n",
    "            for model in models:\n",
    "\n",
    "                run_results = data[dataset][model][f\"S{s}\"][f\"N{n}\"]\n",
    "                non_shared = run_results.get(\"cka_non_shared\", \"---\")\n",
    "                non_shared_col = decimal_to_rgb_color(non_shared, cmap)\n",
    "\n",
    "                shared = run_results.get(\"cka_shared\", \"---\")\n",
    "                shared_col = decimal_to_rgb_color(shared, cmap)\n",
    "\n",
    "                total = run_results.get(\"cka_orig_aggr_rel_rel\", \"---\")\n",
    "                total_col = decimal_to_rgb_color(total, cmap)\n",
    "\n",
    "                # rel_abs = cka_values.get('cka_rel_abs', '---')\n",
    "                # rel_abs_col = decimal_to_rgb_color(rel_abs, cmap)\n",
    "\n",
    "                # model_row = f\"& \\cellcolor[rgb]{{{non_shared_col[:3]}}}{non_shared:.2f} & \\cellcolor[rgb]{{{shared_col[:3]}}}{shared:.2f} & \\cellcolor[rgb]{{{total_col[:3]}}}{total:.2f}\"\n",
    "                model_row = f\"& {non_shared:.2f} & {shared:.2f} & \\cellcolor[rgb]{{{total_col[:3]}}}{total:.2f}\"\n",
    "                row += model_row\n",
    "            row += \"\\\\\\\\\"\n",
    "            rows.append(row.replace(\"(\", \"\").replace(\")\", \"\"))\n",
    "        rows.append(f\"        \\\\cmidrule(lr){{2-{num_cols}}}\")\n",
    "\n",
    "# remove last cmidrule\n",
    "rows.pop(-1)\n",
    "\n",
    "footer = r\"\"\"\n",
    "    \\bottomrule\n",
    "\\end{tabular}\n",
    "\\caption{(\\texttt{Experiment 1}). CKA values for different configurations spanning model, dataset, number of shared classes and number of novel classes per task.}\\label{tab:cka-part-shared-part-novel}\n",
    "\\end{table}\n",
    "\"\"\"\n",
    "\n",
    "full_table = header + \"\\n\".join(rows) + footer\n",
    "\n",
    "print(full_table)"
   ]
  },
  {
   "cell_type": "markdown",
   "metadata": {},
   "source": [
    "### Classification analysis"
   ]
  },
  {
   "cell_type": "code",
   "execution_count": null,
   "metadata": {},
   "outputs": [],
   "source": [
    "file_path = PROJECT_ROOT / \"paper_results\" / \"exp_1_classification_results.json\"\n",
    "with open(file_path) as json_file:\n",
    "    data = json.load(json_file)"
   ]
  },
  {
   "cell_type": "code",
   "execution_count": null,
   "metadata": {},
   "outputs": [],
   "source": [
    "end_to_end_results = {\n",
    "    \"cifar100\": {\"efficient_net\": 0.7043, \"vanilla_cnn\": 0.3933},\n",
    "    \"tiny_imagenet\": {\n",
    "        \"efficient_net\": 0.6863,\n",
    "        \"vanilla_cnn\": 0.2222,\n",
    "    },\n",
    "}"
   ]
  },
  {
   "cell_type": "code",
   "execution_count": null,
   "metadata": {},
   "outputs": [],
   "source": [
    "print(datasets)\n",
    "print(S[\"cifar100\"])\n",
    "print(N[\"cifar100\"])"
   ]
  },
  {
   "cell_type": "code",
   "execution_count": null,
   "metadata": {},
   "outputs": [],
   "source": [
    "max_alphas = {\n",
    "    dataset: {\n",
    "        model: max(\n",
    "            [data[dataset][model][f\"S{s}\"][f\"N{n}\"][\"merged\"][\"total_acc\"] for s in S[dataset] for n in N[dataset]]\n",
    "        )\n",
    "        - end_to_end_results[dataset][model]\n",
    "        for model in models\n",
    "    }\n",
    "    for dataset in datasets\n",
    "}"
   ]
  },
  {
   "cell_type": "code",
   "execution_count": null,
   "metadata": {},
   "outputs": [],
   "source": [
    "num_cols = 14\n",
    "\n",
    "header = r\"\"\"\n",
    "\\begin{table}\n",
    "        \\resizebox{\\textwidth}{!}{%\n",
    "\n",
    "        \\centering\n",
    "        \\begin{tabular}{cccccccccccccc} %\n",
    "                % HEADER\n",
    "\n",
    "                \\toprule\n",
    "                Dataset & $S$                                       & $N$ & tasks & vanilla & non-shared     & shared         & total          & improv & vanilla & non-shared     & shared         & total          & improv \\\\\n",
    "                \\midrule\n",
    "                % DATASET\n",
    "\"\"\"\n",
    "\n",
    "row_per_dataset = {\"tiny_imagenet\": 3, \"cifar100\": 9}\n",
    "rows = []\n",
    "for dataset in datasets:\n",
    "\n",
    "    dataset_str = f\"\\\\texttt{{{dataset_names[dataset]}}}\"\n",
    "    rows.append(\n",
    "        f\"        \\\\parbox[t]{{2mm}}{{\\\\multirow{{{row_per_dataset[dataset]}}}{{*}}{{ \\\\rotatebox[origin=c]{{90}}{{{dataset_str}}} }}}}\"\n",
    "    )\n",
    "\n",
    "    dataset_results = data[dataset]\n",
    "\n",
    "    models_str = [f\"\\\\texttt{{{model_names[model]}}}\" for model in models]\n",
    "    rows.append(\n",
    "        f\"& & & & \\multicolumn{{4}}{{c}}{{{models_str[0]}}} & {end_to_end_results[dataset][models[0]]:.2f} & \\multicolumn{{4}}{{c}}{{{models_str[1]}}} & {end_to_end_results[dataset][models[1]]:.2f}   \\\\\\\\    \\\\cmidrule(lr){{5-9}} \\\\cmidrule(lr){{10-14}}\"\n",
    "    )\n",
    "    for n in N[dataset]:\n",
    "        for s in S[dataset]:\n",
    "            row = f\"& ${s}$ & ${n}$ & {compute_num_tasks(num_classes[dataset], s, n)}\"\n",
    "\n",
    "            for model in models:\n",
    "\n",
    "                run_results = data[dataset][model][f\"S{s}\"][f\"N{n}\"]\n",
    "                non_shared = run_results[\"merged\"].get(\"non_shared_class_acc\", \"---\")\n",
    "                non_shared_col = decimal_to_rgb_color(non_shared, cmap)\n",
    "\n",
    "                shared = run_results[\"merged\"].get(\"shared_class_acc\", \"---\")\n",
    "                shared_col = decimal_to_rgb_color(shared, cmap)\n",
    "\n",
    "                total = run_results[\"merged\"].get(\"total_acc\", \"---\")\n",
    "                total_col = decimal_to_rgb_color(total, cmap)\n",
    "\n",
    "                jumble = run_results[\"jumble_abs\"].get(\"total_acc\", \"---\")\n",
    "                jumble_col = decimal_to_rgb_color(jumble, cmap)\n",
    "\n",
    "                end_to_end_res = end_to_end_results[dataset][model]\n",
    "\n",
    "                # TODO\n",
    "                alpha_max = max_alphas[dataset][model]\n",
    "                cmap = sns.light_palette(\"seagreen\", as_cmap=True)\n",
    "\n",
    "                cmap = adjust_cmap_alpha(cmap, alpha=alpha_max)\n",
    "\n",
    "                improvement = abs(total - end_to_end_res)\n",
    "                improv_col = decimal_to_rgb_color(improvement, cmap)\n",
    "                model_row = f\"& {jumble: .2f} & {non_shared:.2f} & {shared:.2f} & {total:.2f} & \\cellcolor[rgb]{{{improv_col}}}+{improvement:.2f}\"\n",
    "                row += model_row\n",
    "            row += \"\\\\\\\\\"\n",
    "            rows.append(row.replace(\"(\", \"\").replace(\")\", \"\"))\n",
    "        rows.append(f\"        \\\\cmidrule(lr){{2-{num_cols}}}\")\n",
    "\n",
    "# remove last cmidrule\n",
    "rows.pop(-1)\n",
    "\n",
    "footer = r\"\"\"\n",
    "                \\bottomrule                                                                                                                           \\\\\n",
    "        \\end{tabular}\n",
    "        }\n",
    "        \\caption{(\\texttt{Experiment 1}). Accuracy obtained by a simple classifier trained on the original absolute space (first line of each block), trained on the original relative space (second line of each block) and trained on the merged spaces (following lines).}\\label{tab:part-shared-part-novel}\n",
    "\\end{table}\n",
    "\"\"\"\n",
    "\n",
    "full_table = header + \"\\n\".join(rows) + footer\n",
    "\n",
    "print(full_table)"
   ]
  },
  {
   "cell_type": "markdown",
   "metadata": {},
   "source": [
    "## Experiment 2: CKA "
   ]
  },
  {
   "cell_type": "code",
   "execution_count": null,
   "metadata": {},
   "outputs": [],
   "source": [
    "values = [[0.9085, 0.9158], [0.8410, 0.8772]]\n",
    "\n",
    "colors = [[decimal_to_rgb_color(value, cmap=cmap) for value in l] for l in values]"
   ]
  },
  {
   "cell_type": "code",
   "execution_count": null,
   "metadata": {},
   "outputs": [],
   "source": [
    "colors"
   ]
  },
  {
   "cell_type": "code",
   "execution_count": null,
   "metadata": {},
   "outputs": [],
   "source": [
    "table_str = \"\"\n",
    "for values_row, colors_row in zip(values, colors):\n",
    "    row_str = \"\"\n",
    "    for value, color in zip(values_row, colors_row):\n",
    "        cell_str = f\"\\\\cellcolor[rgb]{{{color[:3]}}}{value:.4f}&\".replace(\"(\", \"\").replace(\")\", \"\")\n",
    "        row_str += cell_str\n",
    "    table_str += row_str[:-2] + \" \\\\\\\\ \\n\"\n",
    "\n",
    "print(table_str)"
   ]
  },
  {
   "cell_type": "code",
   "execution_count": null,
   "metadata": {},
   "outputs": [],
   "source": []
  },
  {
   "cell_type": "code",
   "execution_count": null,
   "metadata": {},
   "outputs": [],
   "source": []
  }
 ],
 "metadata": {
  "kernelspec": {
   "display_name": "la",
   "language": "python",
   "name": "python3"
  },
  "language_info": {
   "codemirror_mode": {
    "name": "ipython",
    "version": 3
   },
   "file_extension": ".py",
   "mimetype": "text/x-python",
   "name": "python",
   "nbconvert_exporter": "python",
   "pygments_lexer": "ipython3",
   "version": "3.9.16"
  }
 },
 "nbformat": 4,
 "nbformat_minor": 2
}
