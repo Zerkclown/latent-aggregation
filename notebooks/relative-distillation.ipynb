{
 "cells": [
  {
   "cell_type": "code",
   "execution_count": 1,
   "metadata": {},
   "outputs": [
    {
     "name": "stderr",
     "output_type": "stream",
     "text": [
      "/home/don/miniconda3/envs/lf/lib/python3.9/site-packages/tqdm/auto.py:21: TqdmWarning: IProgress not found. Please update jupyter and ipywidgets. See https://ipywidgets.readthedocs.io/en/stable/user_install.html\n",
      "  from .autonotebook import tqdm as notebook_tqdm\n",
      "/home/don/miniconda3/envs/lf/lib/python3.9/site-packages/torchvision/io/image.py:13: UserWarning: Failed to load image Python extension: '/home/don/miniconda3/envs/lf/lib/python3.9/site-packages/torchvision/image.so: undefined symbol: _ZNK3c107SymBool10guard_boolEPKcl'If you don't plan on using image functionality from `torchvision.io`, you can ignore this warning. Otherwise, there might be something wrong with your environment. Did you have `libjpeg` or `libpng` installed before building `torchvision` from source?\n",
      "  warn(\n"
     ]
    }
   ],
   "source": [
    "import torch\n",
    "from torchvision.datasets import MNIST\n",
    "from torch import nn\n",
    "from nn_core.common import PROJECT_ROOT"
   ]
  },
  {
   "cell_type": "markdown",
   "metadata": {},
   "source": [
    "# Instantiate datasets"
   ]
  },
  {
   "cell_type": "code",
   "execution_count": 2,
   "metadata": {},
   "outputs": [],
   "source": [
    "from torchvision import transforms\n",
    "\n",
    "transf = transforms.Compose([transforms.ToTensor()])"
   ]
  },
  {
   "cell_type": "code",
   "execution_count": 4,
   "metadata": {},
   "outputs": [
    {
     "name": "stdout",
     "output_type": "stream",
     "text": [
      "Downloading http://yann.lecun.com/exdb/mnist/train-images-idx3-ubyte.gz\n",
      "Downloading http://yann.lecun.com/exdb/mnist/train-images-idx3-ubyte.gz to /home/don/Code/latent-aggregation/data/MNIST/raw/train-images-idx3-ubyte.gz\n"
     ]
    },
    {
     "name": "stderr",
     "output_type": "stream",
     "text": [
      "100%|██████████| 9912422/9912422 [00:06<00:00, 1571930.31it/s]\n"
     ]
    },
    {
     "name": "stdout",
     "output_type": "stream",
     "text": [
      "Extracting /home/don/Code/latent-aggregation/data/MNIST/raw/train-images-idx3-ubyte.gz to /home/don/Code/latent-aggregation/data/MNIST/raw\n",
      "\n",
      "Downloading http://yann.lecun.com/exdb/mnist/train-labels-idx1-ubyte.gz\n",
      "Downloading http://yann.lecun.com/exdb/mnist/train-labels-idx1-ubyte.gz to /home/don/Code/latent-aggregation/data/MNIST/raw/train-labels-idx1-ubyte.gz\n"
     ]
    },
    {
     "name": "stderr",
     "output_type": "stream",
     "text": [
      "100%|██████████| 28881/28881 [00:00<00:00, 1647544.29it/s]"
     ]
    },
    {
     "name": "stdout",
     "output_type": "stream",
     "text": [
      "Extracting /home/don/Code/latent-aggregation/data/MNIST/raw/train-labels-idx1-ubyte.gz to /home/don/Code/latent-aggregation/data/MNIST/raw\n",
      "\n",
      "Downloading http://yann.lecun.com/exdb/mnist/t10k-images-idx3-ubyte.gz\n"
     ]
    },
    {
     "name": "stderr",
     "output_type": "stream",
     "text": [
      "\n"
     ]
    },
    {
     "name": "stdout",
     "output_type": "stream",
     "text": [
      "Downloading http://yann.lecun.com/exdb/mnist/t10k-images-idx3-ubyte.gz to /home/don/Code/latent-aggregation/data/MNIST/raw/t10k-images-idx3-ubyte.gz\n"
     ]
    },
    {
     "name": "stderr",
     "output_type": "stream",
     "text": [
      "100%|██████████| 1648877/1648877 [00:00<00:00, 2846598.76it/s]\n"
     ]
    },
    {
     "name": "stdout",
     "output_type": "stream",
     "text": [
      "Extracting /home/don/Code/latent-aggregation/data/MNIST/raw/t10k-images-idx3-ubyte.gz to /home/don/Code/latent-aggregation/data/MNIST/raw\n",
      "\n",
      "Downloading http://yann.lecun.com/exdb/mnist/t10k-labels-idx1-ubyte.gz\n",
      "Downloading http://yann.lecun.com/exdb/mnist/t10k-labels-idx1-ubyte.gz to /home/don/Code/latent-aggregation/data/MNIST/raw/t10k-labels-idx1-ubyte.gz\n"
     ]
    },
    {
     "name": "stderr",
     "output_type": "stream",
     "text": [
      "100%|██████████| 4542/4542 [00:00<00:00, 1790126.74it/s]"
     ]
    },
    {
     "name": "stdout",
     "output_type": "stream",
     "text": [
      "Extracting /home/don/Code/latent-aggregation/data/MNIST/raw/t10k-labels-idx1-ubyte.gz to /home/don/Code/latent-aggregation/data/MNIST/raw\n",
      "\n"
     ]
    },
    {
     "name": "stderr",
     "output_type": "stream",
     "text": [
      "\n"
     ]
    }
   ],
   "source": [
    "train_dataset = MNIST(root=PROJECT_ROOT / \"data\", train=True, transform=transf, download=True)\n",
    "val_dataset = MNIST(root=PROJECT_ROOT / \"data\", train=False, transform=transf, download=True)"
   ]
  },
  {
   "cell_type": "markdown",
   "metadata": {},
   "source": [
    "# Select Anchors"
   ]
  },
  {
   "cell_type": "code",
   "execution_count": 5,
   "metadata": {},
   "outputs": [],
   "source": [
    "ANCHORS_NUM = 300"
   ]
  },
  {
   "cell_type": "code",
   "execution_count": 6,
   "metadata": {},
   "outputs": [],
   "source": [
    "import random\n",
    "\n",
    "idxs = list(range(len(train_dataset)))\n",
    "random.shuffle(idxs)\n",
    "anchors_idxs = idxs[:ANCHORS_NUM]\n",
    "\n",
    "anchors = torch.stack([train_dataset[anchor_idx][0] for anchor_idx in anchors_idxs])"
   ]
  },
  {
   "cell_type": "markdown",
   "metadata": {},
   "source": [
    "## Define Model\n"
   ]
  },
  {
   "cell_type": "code",
   "execution_count": 7,
   "metadata": {},
   "outputs": [],
   "source": [
    "class NaiveCNN(nn.Module):\n",
    "    def __init__(self, hidden_size: int = 128, in_channels: int = 1, num_classes: int = 10):\n",
    "        super().__init__()\n",
    "        self.hidden_size = hidden_size\n",
    "        self.num_classes = num_classes\n",
    "\n",
    "        self.encoding = nn.Sequential(\n",
    "            nn.Conv2d(\n",
    "                in_channels=1,\n",
    "                out_channels=16,\n",
    "                kernel_size=5,\n",
    "                stride=1,\n",
    "                padding=2,\n",
    "            ),\n",
    "            nn.SiLU(),\n",
    "            nn.MaxPool2d(kernel_size=2),\n",
    "            nn.Conv2d(16, 32, 5, 1, 2),\n",
    "            nn.SiLU(),\n",
    "            nn.MaxPool2d(2),\n",
    "        )\n",
    "        fake_out = self.encoding(torch.randn(2, 1, 28, 28)).view(2, -1).shape[-1]\n",
    "        self.encoding_proj = nn.Linear(fake_out, hidden_size)\n",
    "\n",
    "        self.decoder = nn.Sequential(\n",
    "            nn.Linear(hidden_size, hidden_size // 2),\n",
    "            nn.BatchNorm1d(hidden_size // 2),\n",
    "            nn.Dropout(0.25),\n",
    "            nn.Tanh(),\n",
    "            nn.Linear(hidden_size // 2, num_classes),\n",
    "        )\n",
    "\n",
    "    def forward(self, x, return_embeddings: bool = False):\n",
    "        embedding = self.encoding(x)\n",
    "        embedding = embedding.view(x.shape[0], -1)\n",
    "        embedding = self.encoding_proj(embedding)\n",
    "\n",
    "        if return_embeddings:\n",
    "            return embedding\n",
    "\n",
    "        logits = self.decoder(embedding)\n",
    "        return logits"
   ]
  },
  {
   "cell_type": "markdown",
   "metadata": {},
   "source": [
    "# Train function\n"
   ]
  },
  {
   "cell_type": "code",
   "execution_count": 12,
   "metadata": {},
   "outputs": [],
   "source": [
    "from torch.optim import Adam\n",
    "from tqdm import tqdm\n",
    "from pytorch_lightning import seed_everything\n",
    "from torch.utils.data import Dataset, DataLoader, random_split\n",
    "\n",
    "from torchmetrics import Accuracy\n",
    "import matplotlib.pyplot as plt\n",
    "\n",
    "\n",
    "DEVICE = \"cuda\" if torch.cuda.is_available() else \"cpu\"\n",
    "def plot_history(history, keys=\"train_acc\"):\n",
    "    if isinstance(keys, str):\n",
    "        keys = [keys]\n",
    "    fig, ax = plt.subplots(1, 1)\n",
    "    for key in keys:\n",
    "        ax.scatter(x=history[\"global_step\"], y=history[key], label=key)\n",
    "    ax.legend()\n",
    "    return fig\n",
    "\n",
    "\n",
    "def validate(model, val_dataset=val_dataset, device=DEVICE):\n",
    "    val_acc = Accuracy().to(device)\n",
    "\n",
    "    val_dl = DataLoader(val_dataset, batch_size=256, shuffle=False, pin_memory=True, num_workers=1)\n",
    "    model = model.to(device).eval()\n",
    "    for images, gt_y in val_dl:\n",
    "        images = images.to(device, non_blocking=True)\n",
    "        gt_y = gt_y.to(device, non_blocking=True)\n",
    "        pred_y = model(images)\n",
    "        val_acc(pred_y, gt_y)\n",
    "\n",
    "    model = model.eval().cpu()\n",
    "\n",
    "    return val_acc.compute().cpu().item()\n",
    "\n",
    "\n",
    "def train(\n",
    "    model: nn.Module,\n",
    "    train_dataset: Dataset,\n",
    "    perc_subsamples_dataset: float,\n",
    "    val_dataset: Dataset,\n",
    "    lr: float = 0.001,\n",
    "    epochs: int = 50,\n",
    "    batch_size=512,\n",
    "    seed: int = 0,\n",
    "    device: str = DEVICE,\n",
    "    loss_freq=50,\n",
    "):\n",
    "    seed_everything(seed)\n",
    "\n",
    "    train_dataset, _ = random_split(train_dataset, [perc_subsamples_dataset, 1 - perc_subsamples_dataset])\n",
    "    train_dl = DataLoader(train_dataset, batch_size=batch_size, shuffle=True, pin_memory=True, num_workers=8)\n",
    "    val_dl = DataLoader(val_dataset, batch_size=batch_size, shuffle=False, pin_memory=True, num_workers=8)\n",
    "\n",
    "    model = model.to(device)\n",
    "    opt = Adam(model.parameters(), lr=lr)\n",
    "    loss_fn = nn.CrossEntropyLoss()\n",
    "\n",
    "    train_acc = Accuracy().to(device)\n",
    "    val_acc = Accuracy().to(device)\n",
    "    history = {key: [] for key in [\"loss\", \"global_step\", \"train_acc\"]}\n",
    "    global_step = 0\n",
    "    for epoch in (tqdm_bar := tqdm(range(epochs), leave=False, desc=\"epoch\")):\n",
    "        for images, gt_y in train_dl:\n",
    "            images = images.to(device, non_blocking=True)\n",
    "            gt_y = gt_y.to(device, non_blocking=True)\n",
    "            pred_y = model(images)\n",
    "            loss = loss_fn(pred_y, gt_y)\n",
    "            loss.backward()\n",
    "            opt.step()\n",
    "            opt.zero_grad()\n",
    "            train_acc(pred_y, gt_y)\n",
    "\n",
    "            history[\"loss\"].append(loss.cpu().item())\n",
    "            history[\"global_step\"].append(global_step)\n",
    "            history[\"train_acc\"].append(train_acc.compute().cpu().item())\n",
    "            global_step += 1\n",
    "\n",
    "        tqdm_bar.set_description(f\"loss: {loss:2f} ~ acc: {train_acc.compute().cpu().item():2f}\")\n",
    "        train_acc.reset()\n",
    "    model = model.eval()\n",
    "\n",
    "    for images, gt_y in val_dl:\n",
    "        images = images.to(device, non_blocking=True)\n",
    "        gt_y = gt_y.to(device, non_blocking=True)\n",
    "        pred_y = model(images)\n",
    "        val_acc(pred_y, gt_y)\n",
    "\n",
    "    model = model.eval().cpu()\n",
    "\n",
    "    print(\"val acc\", val_acc.compute().cpu().item())\n",
    "\n",
    "    return model, loss.cpu().item(), val_acc.compute().cpu().item(), history"
   ]
  },
  {
   "cell_type": "markdown",
   "metadata": {},
   "source": [
    "# Train Reference Model"
   ]
  },
  {
   "cell_type": "code",
   "execution_count": 11,
   "metadata": {},
   "outputs": [
    {
     "name": "stderr",
     "output_type": "stream",
     "text": [
      "Global seed set to 0\n",
      "/home/don/miniconda3/envs/lf/lib/python3.9/site-packages/torch/utils/data/dataset.py:342: UserWarning: Length of split at index 1 is 0. This might result in an empty dataset.\n",
      "  warnings.warn(f\"Length of split at index {i} is 0. \"\n",
      "                                                                               \r"
     ]
    },
    {
     "name": "stdout",
     "output_type": "stream",
     "text": [
      "val acc 0.9710999727249146\n"
     ]
    }
   ],
   "source": [
    "ref_model, ref_loss, ref_val_acc, ref_history = train(\n",
    "    NaiveCNN(), train_dataset=train_dataset, perc_subsamples_dataset=1, val_dataset=val_dataset, epochs=20, lr=1e-5\n",
    ")"
   ]
  },
  {
   "cell_type": "markdown",
   "metadata": {},
   "source": [
    "# Train in low data setting"
   ]
  },
  {
   "cell_type": "code",
   "execution_count": 13,
   "metadata": {},
   "outputs": [],
   "source": [
    "performance = {key: [] for key in [\"exp\", \"relsup\", \"perc_train\", \"hidden_dim\", \"val_acc\", \"epochs\"]}"
   ]
  },
  {
   "cell_type": "code",
   "execution_count": 14,
   "metadata": {},
   "outputs": [
    {
     "name": "stderr",
     "output_type": "stream",
     "text": [
      "Global seed set to 0\n",
      "                                                                             \r"
     ]
    },
    {
     "name": "stdout",
     "output_type": "stream",
     "text": [
      "val acc 0.48249998688697815\n"
     ]
    },
    {
     "data": {
      "image/png": "[encoded data removed]",
      "text/plain": [
       "<Figure size 640x480 with 1 Axes>"
      ]
     },
     "metadata": {},
     "output_type": "display_data"
    }
   ],
   "source": [
    "low_data_model, low_data_loss, low_data_val_acc, low_data_history = train(\n",
    "    NaiveCNN(), train_dataset=train_dataset, perc_subsamples_dataset=0.1, val_dataset=val_dataset, epochs=5, lr=1e-5\n",
    ")\n",
    "\n",
    "_ = plot_history(low_data_history)"
   ]
  },
  {
   "cell_type": "code",
   "execution_count": 15,
   "metadata": {},
   "outputs": [
    {
     "name": "stderr",
     "output_type": "stream",
     "text": [
      "Global seed set to 0\n",
      "Global seed set to 0                                                         \n"
     ]
    },
    {
     "name": "stdout",
     "output_type": "stream",
     "text": [
      "val acc 0.08990000188350677\n"
     ]
    },
    {
     "name": "stderr",
     "output_type": "stream",
     "text": [
      "Global seed set to 0                                                         \n"
     ]
    },
    {
     "name": "stdout",
     "output_type": "stream",
     "text": [
      "val acc 0.09560000151395798\n"
     ]
    },
    {
     "name": "stderr",
     "output_type": "stream",
     "text": [
      "Global seed set to 0                                                         \n"
     ]
    },
    {
     "name": "stdout",
     "output_type": "stream",
     "text": [
      "val acc 0.11429999768733978\n"
     ]
    },
    {
     "name": "stderr",
     "output_type": "stream",
     "text": [
      "Global seed set to 0                                                         \n"
     ]
    },
    {
     "name": "stdout",
     "output_type": "stream",
     "text": [
      "val acc 0.14249999821186066\n"
     ]
    },
    {
     "name": "stderr",
     "output_type": "stream",
     "text": [
      "Global seed set to 0                                                         \n"
     ]
    },
    {
     "name": "stdout",
     "output_type": "stream",
     "text": [
      "val acc 0.16670000553131104\n"
     ]
    },
    {
     "name": "stderr",
     "output_type": "stream",
     "text": [
      "Global seed set to 0                                                         \n"
     ]
    },
    {
     "name": "stdout",
     "output_type": "stream",
     "text": [
      "val acc 0.20649999380111694\n"
     ]
    },
    {
     "name": "stderr",
     "output_type": "stream",
     "text": [
      "Global seed set to 0                                                         \n"
     ]
    },
    {
     "name": "stdout",
     "output_type": "stream",
     "text": [
      "val acc 0.2962000072002411\n"
     ]
    },
    {
     "name": "stderr",
     "output_type": "stream",
     "text": [
      "Global seed set to 0                                                         \n"
     ]
    },
    {
     "name": "stdout",
     "output_type": "stream",
     "text": [
      "val acc 0.38920000195503235\n"
     ]
    },
    {
     "name": "stderr",
     "output_type": "stream",
     "text": [
      "Global seed set to 0                                                         \n"
     ]
    },
    {
     "name": "stdout",
     "output_type": "stream",
     "text": [
      "val acc 0.46860000491142273\n"
     ]
    },
    {
     "name": "stderr",
     "output_type": "stream",
     "text": [
      "Global seed set to 0                                                         \n"
     ]
    },
    {
     "name": "stdout",
     "output_type": "stream",
     "text": [
      "val acc 0.5353999733924866\n"
     ]
    },
    {
     "name": "stderr",
     "output_type": "stream",
     "text": [
      "Global seed set to 0                                                         \n"
     ]
    },
    {
     "name": "stdout",
     "output_type": "stream",
     "text": [
      "val acc 0.5350000262260437\n"
     ]
    },
    {
     "name": "stderr",
     "output_type": "stream",
     "text": [
      "Global seed set to 0                                                         \n"
     ]
    },
    {
     "name": "stdout",
     "output_type": "stream",
     "text": [
      "val acc 0.7663999795913696\n"
     ]
    },
    {
     "name": "stderr",
     "output_type": "stream",
     "text": [
      "Global seed set to 0                                                         \n"
     ]
    },
    {
     "name": "stdout",
     "output_type": "stream",
     "text": [
      "val acc 0.8220000267028809\n"
     ]
    },
    {
     "name": "stderr",
     "output_type": "stream",
     "text": [
      "Global seed set to 0                                                         \n"
     ]
    },
    {
     "name": "stdout",
     "output_type": "stream",
     "text": [
      "val acc 0.8522999882698059\n"
     ]
    },
    {
     "name": "stderr",
     "output_type": "stream",
     "text": [
      "Global seed set to 0                                                         \n"
     ]
    },
    {
     "name": "stdout",
     "output_type": "stream",
     "text": [
      "val acc 0.8723999857902527\n"
     ]
    },
    {
     "name": "stderr",
     "output_type": "stream",
     "text": [
      "Global seed set to 0                                                         \n"
     ]
    },
    {
     "name": "stdout",
     "output_type": "stream",
     "text": [
      "val acc 0.8853999972343445\n"
     ]
    },
    {
     "name": "stderr",
     "output_type": "stream",
     "text": [
      "Global seed set to 0                                                         \n"
     ]
    },
    {
     "name": "stdout",
     "output_type": "stream",
     "text": [
      "val acc 0.8966000080108643\n"
     ]
    },
    {
     "name": "stderr",
     "output_type": "stream",
     "text": [
      "Global seed set to 0                                                         \n"
     ]
    },
    {
     "name": "stdout",
     "output_type": "stream",
     "text": [
      "val acc 0.9042999744415283\n"
     ]
    },
    {
     "name": "stderr",
     "output_type": "stream",
     "text": [
      "Global seed set to 0                                                         \n"
     ]
    },
    {
     "name": "stdout",
     "output_type": "stream",
     "text": [
      "val acc 0.9110000133514404\n"
     ]
    },
    {
     "name": "stderr",
     "output_type": "stream",
     "text": [
      "                                                                             \r"
     ]
    },
    {
     "name": "stdout",
     "output_type": "stream",
     "text": [
      "val acc 0.9164000153541565\n"
     ]
    }
   ],
   "source": [
    "import numpy as np\n",
    "from itertools import chain\n",
    "\n",
    "for perc_train in chain(np.arange(0.01, 0.11, 0.01), np.arange(0.1, 1.01, 0.1)):\n",
    "    model, loss, val_acc, history = train(\n",
    "        NaiveCNN(hidden_size=128),\n",
    "        train_dataset=train_dataset,\n",
    "        perc_subsamples_dataset=perc_train,\n",
    "        val_dataset=val_dataset,\n",
    "        epochs=5,\n",
    "        lr=1e-5,\n",
    "    )\n",
    "\n",
    "    performance[\"exp\"].append(\"lowdata\")\n",
    "    performance[\"relsup\"].append(False)\n",
    "    performance[\"perc_train\"].append(perc_train.item())\n",
    "    performance[\"hidden_dim\"].append(128)\n",
    "    performance[\"val_acc\"].append(val_acc)\n",
    "    performance[\"epochs\"].append(5)"
   ]
  },
  {
   "cell_type": "markdown",
   "metadata": {},
   "source": [
    "# Relative supervision"
   ]
  },
  {
   "cell_type": "code",
   "execution_count": 16,
   "metadata": {},
   "outputs": [],
   "source": [
    "from itertools import chain\n",
    "import torch.nn.functional as F\n",
    "\n",
    "\n",
    "def relative_projection(x, anchors):\n",
    "    x = F.normalize(x, p=2, dim=-1)\n",
    "    anchors = F.normalize(anchors, p=2, dim=-1)\n",
    "    return torch.einsum(\"bm, am -> ba\", x, anchors)\n",
    "\n",
    "\n",
    "def relative_supervision(model, ref_model, x, anchors):\n",
    "    ref_model.eval()\n",
    "    latents = model(x, return_embeddings=True)\n",
    "\n",
    "    with torch.no_grad():\n",
    "        anchors_latents = model(anchors, return_embeddings=True)\n",
    "\n",
    "        ref_latents = ref_model(x, return_embeddings=True)\n",
    "        ref_anchors_latents = ref_model(anchors, return_embeddings=True)\n",
    "        ref_rel_latents = relative_projection(x=ref_latents, anchors=ref_anchors_latents)\n",
    "\n",
    "    rel_latents = relative_projection(x=latents, anchors=anchors_latents)\n",
    "\n",
    "    # return F.cosine_embedding_loss(rel_latents, ref_rel_latents, target=torch.tensor([1.0], device=rel_latents.device))\n",
    "    return F.mse_loss(\n",
    "        rel_latents,\n",
    "        ref_rel_latents,\n",
    "    )\n",
    "\n",
    "\n",
    "def calculate_adaptive_weight(loss_a: torch.Tensor, loss_b: torch.Tensor, last_layer) -> float:\n",
    "    \"\"\"Compute the re-scaling factor to apply to loss_b to be comparable with loss_a\n",
    "\n",
    "    Args:\n",
    "        loss_a: first loss\n",
    "        loss_b: second loss\n",
    "        last_layer: consider the gradients in this layer\n",
    "\n",
    "    Returns:\n",
    "        the scaling factor to apply to loss_b\n",
    "    \"\"\"\n",
    "    try:\n",
    "        loss_a_grads = torch.autograd.grad(loss_a, last_layer, retain_graph=True)[0]\n",
    "        loss_b_grads = torch.autograd.grad(loss_b, last_layer, retain_graph=True)[0]\n",
    "\n",
    "        loss_b_weight = torch.norm(loss_a_grads) / (torch.norm(loss_b_grads) + 1e-4)\n",
    "        loss_b_weight = torch.clamp(loss_b_weight, 0.0, 1e6).detach()\n",
    "    except RuntimeError:\n",
    "        print(\"ERROR\")\n",
    "        loss_b_weight = torch.tensor(0.0)\n",
    "    return loss_b_weight\n",
    "\n",
    "\n",
    "def train_relative_supervision(\n",
    "    model: nn.Module,\n",
    "    reference_model: nn.Module,\n",
    "    reference_weight: float,\n",
    "    train_dataset: Dataset,\n",
    "    perc_subsamples_dataset: float,\n",
    "    val_dataset: Dataset,\n",
    "    lr: float = 0.001,\n",
    "    epochs: int = 50,\n",
    "    batch_size=512,\n",
    "    seed: int = 0,\n",
    "    device: str = \"cuda\",\n",
    "    loss_freq=50,\n",
    "):\n",
    "    global anchors\n",
    "\n",
    "    seed_everything(seed)\n",
    "\n",
    "    train_dataset, _ = random_split(train_dataset, [perc_subsamples_dataset, 1 - perc_subsamples_dataset])\n",
    "    train_dl = DataLoader(train_dataset, batch_size=batch_size, shuffle=True, pin_memory=True, num_workers=1)\n",
    "    val_dl = DataLoader(val_dataset, batch_size=batch_size, shuffle=False, pin_memory=True, num_workers=1)\n",
    "\n",
    "    model = model.to(device)\n",
    "    anchors = anchors.to(device)\n",
    "    reference_model = reference_model.eval().to(device)\n",
    "    opt = Adam(model.parameters(), lr=lr)\n",
    "    opt_enc = Adam(chain(model.encoding.parameters(), model.encoding_proj.parameters()), lr=lr)\n",
    "    loss_fn = nn.CrossEntropyLoss()\n",
    "\n",
    "    train_acc = Accuracy().to(device)\n",
    "    val_acc = Accuracy().to(device)\n",
    "    history = {key: [] for key in [\"loss\", \"global_step\", \"train_acc\", \"class_loss\", \"relative_sup_loss\"]}\n",
    "    global_step = 0\n",
    "    for epoch in (tqdm_bar := tqdm(range(epochs), leave=False, desc=\"epoch\")):\n",
    "        for images, gt_y in train_dl:\n",
    "            images = images.to(device, non_blocking=True)\n",
    "            gt_y = gt_y.to(device, non_blocking=True)\n",
    "\n",
    "            relative_sup_loss = relative_supervision(model, ref_model=reference_model, x=images, anchors=anchors)\n",
    "            loss = relative_sup_loss\n",
    "            loss.backward()\n",
    "            opt_enc.step()\n",
    "            opt_enc.zero_grad()\n",
    "\n",
    "            # b_weight = calculate_adaptive_weight(loss_a=class_loss, loss_b=relative_sup_loss, last_layer=model.encoding_proj.weight )\n",
    "            # relative_sup_loss = relative_sup_loss * b_weight\n",
    "\n",
    "            # class_loss =  class_loss# * (1 - reference_weight)\n",
    "            # relative_sup_loss = relative_sup_loss * reference_weight\n",
    "            pred_y = model(images)\n",
    "            class_loss = loss_fn(pred_y, gt_y)\n",
    "            loss = class_loss\n",
    "\n",
    "            loss.backward()\n",
    "            opt.step()\n",
    "            opt.zero_grad()\n",
    "            train_acc(pred_y, gt_y)\n",
    "\n",
    "            # b_weight = calculate_adaptive_weight(loss_a=class_loss, loss_b=relative_sup_loss, last_layer=model.encoding_proj.weight )\n",
    "\n",
    "            history[\"loss\"].append(loss.cpu().item())\n",
    "            history[\"class_loss\"].append(class_loss.cpu().item())\n",
    "            history[\"relative_sup_loss\"].append(relative_sup_loss.cpu().item())\n",
    "            history[\"global_step\"].append(global_step)\n",
    "            history[\"train_acc\"].append(train_acc.compute().cpu().item())\n",
    "            global_step += 1\n",
    "\n",
    "        tqdm_bar.set_description(f\"loss: {loss:2f} ~ acc: {train_acc.compute().cpu().item():2f}\")\n",
    "        train_acc.reset()\n",
    "    model = model.eval()\n",
    "\n",
    "    for images, gt_y in val_dl:\n",
    "        images = images.to(device, non_blocking=True)\n",
    "        gt_y = gt_y.to(device, non_blocking=True)\n",
    "        pred_y = model(images)\n",
    "        val_acc(pred_y, gt_y)\n",
    "\n",
    "    model = model.eval().cpu()\n",
    "    reference_model.cpu()\n",
    "    print(\"end of training val acc\", val_acc.compute().cpu().item())\n",
    "\n",
    "    return model, loss.cpu().item(), val_acc.compute().cpu().item(), history"
   ]
  },
  {
   "cell_type": "code",
   "execution_count": 17,
   "metadata": {},
   "outputs": [
    {
     "name": "stderr",
     "output_type": "stream",
     "text": [
      "Global seed set to 0\n",
      "                                                                             \r"
     ]
    },
    {
     "name": "stdout",
     "output_type": "stream",
     "text": [
      "end of training val acc 0.5117999911308289\n",
      "ref_model 0.9710999727249146\n",
      "low_data_model 0.48249998688697815\n",
      "low_data_relsup_model 0.5117999911308289\n"
     ]
    },
    {
     "data": {
      "image/png": "[encoded data removed]",
      "text/plain": [
       "<Figure size 640x480 with 1 Axes>"
      ]
     },
     "metadata": {},
     "output_type": "display_data"
    }
   ],
   "source": [
    "(\n",
    "    low_data_relsup_model,\n",
    "    low_data_relsup_loss,\n",
    "    low_data_relsup_val_acc,\n",
    "    low_data_relsup_history,\n",
    ") = train_relative_supervision(\n",
    "    NaiveCNN(),\n",
    "    reference_model=ref_model,\n",
    "    reference_weight=2,\n",
    "    train_dataset=train_dataset,\n",
    "    perc_subsamples_dataset=0.1,\n",
    "    val_dataset=val_dataset,\n",
    "    epochs=5,\n",
    "    lr=1e-5,\n",
    ")\n",
    "\n",
    "print(\"ref_model\", validate(ref_model))\n",
    "print(\"low_data_model\", validate(low_data_model))\n",
    "print(\"low_data_relsup_model\", validate(low_data_relsup_model))\n",
    "_ = plot_history(low_data_relsup_history, [\"class_loss\", \"relative_sup_loss\"])"
   ]
  },
  {
   "cell_type": "code",
   "execution_count": 18,
   "metadata": {},
   "outputs": [
    {
     "name": "stderr",
     "output_type": "stream",
     "text": [
      "Global seed set to 0\n",
      "Global seed set to 0                                                         \n"
     ]
    },
    {
     "name": "stdout",
     "output_type": "stream",
     "text": [
      "end of training val acc 0.09790000319480896\n"
     ]
    },
    {
     "name": "stderr",
     "output_type": "stream",
     "text": [
      "Global seed set to 0                                                         \n"
     ]
    },
    {
     "name": "stdout",
     "output_type": "stream",
     "text": [
      "end of training val acc 0.09700000286102295\n"
     ]
    },
    {
     "name": "stderr",
     "output_type": "stream",
     "text": [
      "Global seed set to 0                                                         \n"
     ]
    },
    {
     "name": "stdout",
     "output_type": "stream",
     "text": [
      "end of training val acc 0.12439999729394913\n"
     ]
    },
    {
     "name": "stderr",
     "output_type": "stream",
     "text": [
      "Global seed set to 0                                                         \n"
     ]
    },
    {
     "name": "stdout",
     "output_type": "stream",
     "text": [
      "end of training val acc 0.14669999480247498\n"
     ]
    },
    {
     "name": "stderr",
     "output_type": "stream",
     "text": [
      "Global seed set to 0                                                         \n"
     ]
    },
    {
     "name": "stdout",
     "output_type": "stream",
     "text": [
      "end of training val acc 0.16329999268054962\n"
     ]
    },
    {
     "name": "stderr",
     "output_type": "stream",
     "text": [
      "Global seed set to 0                                                         \n"
     ]
    },
    {
     "name": "stdout",
     "output_type": "stream",
     "text": [
      "end of training val acc 0.19949999451637268\n"
     ]
    },
    {
     "name": "stderr",
     "output_type": "stream",
     "text": [
      "Global seed set to 0                                                         \n"
     ]
    },
    {
     "name": "stdout",
     "output_type": "stream",
     "text": [
      "end of training val acc 0.2669999897480011\n"
     ]
    },
    {
     "name": "stderr",
     "output_type": "stream",
     "text": [
      "Global seed set to 0                                                         \n"
     ]
    },
    {
     "name": "stdout",
     "output_type": "stream",
     "text": [
      "end of training val acc 0.35019999742507935\n"
     ]
    },
    {
     "name": "stderr",
     "output_type": "stream",
     "text": [
      "Global seed set to 0                                                         \n"
     ]
    },
    {
     "name": "stdout",
     "output_type": "stream",
     "text": [
      "end of training val acc 0.4357999861240387\n"
     ]
    },
    {
     "name": "stderr",
     "output_type": "stream",
     "text": [
      "Global seed set to 0                                                         \n"
     ]
    },
    {
     "name": "stdout",
     "output_type": "stream",
     "text": [
      "end of training val acc 0.511900007724762\n"
     ]
    },
    {
     "name": "stderr",
     "output_type": "stream",
     "text": [
      "Global seed set to 0                                                         \n"
     ]
    },
    {
     "name": "stdout",
     "output_type": "stream",
     "text": [
      "end of training val acc 0.5115000009536743\n"
     ]
    },
    {
     "name": "stderr",
     "output_type": "stream",
     "text": [
      "Global seed set to 0                                                         \n"
     ]
    },
    {
     "name": "stdout",
     "output_type": "stream",
     "text": [
      "end of training val acc 0.7814000248908997\n"
     ]
    },
    {
     "name": "stderr",
     "output_type": "stream",
     "text": [
      "Global seed set to 0                                                         \n"
     ]
    },
    {
     "name": "stdout",
     "output_type": "stream",
     "text": [
      "end of training val acc 0.8367999792098999\n"
     ]
    },
    {
     "name": "stderr",
     "output_type": "stream",
     "text": [
      "Global seed set to 0                                                         \n"
     ]
    },
    {
     "name": "stdout",
     "output_type": "stream",
     "text": [
      "end of training val acc 0.8628000020980835\n"
     ]
    },
    {
     "name": "stderr",
     "output_type": "stream",
     "text": [
      "Global seed set to 0                                                         \n"
     ]
    },
    {
     "name": "stdout",
     "output_type": "stream",
     "text": [
      "end of training val acc 0.8815000057220459\n"
     ]
    },
    {
     "name": "stderr",
     "output_type": "stream",
     "text": [
      "Global seed set to 0                                                         \n"
     ]
    },
    {
     "name": "stdout",
     "output_type": "stream",
     "text": [
      "end of training val acc 0.8920999765396118\n"
     ]
    },
    {
     "name": "stderr",
     "output_type": "stream",
     "text": [
      "Global seed set to 0                                                         \n"
     ]
    },
    {
     "name": "stdout",
     "output_type": "stream",
     "text": [
      "end of training val acc 0.9024999737739563\n"
     ]
    },
    {
     "name": "stderr",
     "output_type": "stream",
     "text": [
      "Global seed set to 0                                                         \n"
     ]
    },
    {
     "name": "stdout",
     "output_type": "stream",
     "text": [
      "end of training val acc 0.9092000126838684\n"
     ]
    },
    {
     "name": "stderr",
     "output_type": "stream",
     "text": [
      "Global seed set to 0                                                         \n"
     ]
    },
    {
     "name": "stdout",
     "output_type": "stream",
     "text": [
      "end of training val acc 0.9165999889373779\n"
     ]
    },
    {
     "name": "stderr",
     "output_type": "stream",
     "text": [
      "                                                                             \r"
     ]
    },
    {
     "name": "stdout",
     "output_type": "stream",
     "text": [
      "end of training val acc 0.9228000044822693\n"
     ]
    }
   ],
   "source": [
    "import numpy as np\n",
    "\n",
    "for perc_train in chain(np.arange(0.01, 0.11, 0.01), np.arange(0.1, 1.01, 0.1)):\n",
    "    model, loss, val_acc, history = train_relative_supervision(\n",
    "        NaiveCNN(hidden_size=128),\n",
    "        reference_model=ref_model,\n",
    "        reference_weight=2,\n",
    "        train_dataset=train_dataset,\n",
    "        perc_subsamples_dataset=perc_train,\n",
    "        val_dataset=val_dataset,\n",
    "        epochs=5,\n",
    "        lr=1e-5,\n",
    "    )\n",
    "\n",
    "    performance[\"exp\"].append(\"lowdata\")\n",
    "    performance[\"relsup\"].append(True)\n",
    "    performance[\"perc_train\"].append(perc_train.item())\n",
    "    performance[\"hidden_dim\"].append(128)\n",
    "    performance[\"val_acc\"].append(val_acc)\n",
    "    performance[\"epochs\"].append(5)"
   ]
  },
  {
   "cell_type": "markdown",
   "metadata": {},
   "source": [
    "# Train with smaller models\n"
   ]
  },
  {
   "cell_type": "code",
   "execution_count": 19,
   "metadata": {},
   "outputs": [
    {
     "name": "stderr",
     "output_type": "stream",
     "text": [
      "Global seed set to 0\n",
      "                                                                             \r"
     ]
    },
    {
     "name": "stdout",
     "output_type": "stream",
     "text": [
      "val acc 0.6751000285148621\n"
     ]
    },
    {
     "data": {
      "image/png": "[encoded data removed]",
      "text/plain": [
       "<Figure size 640x480 with 1 Axes>"
      ]
     },
     "metadata": {},
     "output_type": "display_data"
    }
   ],
   "source": [
    "small_model_model, small_model_loss, small_model_val_acc, small_model_history = train(\n",
    "    NaiveCNN(hidden_size=16),\n",
    "    train_dataset=train_dataset,\n",
    "    perc_subsamples_dataset=1,\n",
    "    val_dataset=val_dataset,\n",
    "    epochs=5,\n",
    "    lr=1e-5,\n",
    ")\n",
    "\n",
    "_ = plot_history(low_data_history)"
   ]
  },
  {
   "cell_type": "code",
   "execution_count": 20,
   "metadata": {},
   "outputs": [
    {
     "data": {
      "text/plain": [
       "{'lowdata'}"
      ]
     },
     "execution_count": 20,
     "metadata": {},
     "output_type": "execute_result"
    }
   ],
   "source": [
    "set(performance[\"exp\"])"
   ]
  },
  {
   "cell_type": "code",
   "execution_count": 21,
   "metadata": {},
   "outputs": [
    {
     "name": "stderr",
     "output_type": "stream",
     "text": [
      "Global seed set to 0\n",
      "Global seed set to 0                                                         \n"
     ]
    },
    {
     "name": "stdout",
     "output_type": "stream",
     "text": [
      "val acc 0.11599999666213989\n"
     ]
    },
    {
     "name": "stderr",
     "output_type": "stream",
     "text": [
      "Global seed set to 0                                                         \n"
     ]
    },
    {
     "name": "stdout",
     "output_type": "stream",
     "text": [
      "val acc 0.1907999962568283\n"
     ]
    },
    {
     "name": "stderr",
     "output_type": "stream",
     "text": [
      "Global seed set to 0                                                         \n"
     ]
    },
    {
     "name": "stdout",
     "output_type": "stream",
     "text": [
      "val acc 0.18310000002384186\n"
     ]
    },
    {
     "name": "stderr",
     "output_type": "stream",
     "text": [
      "Global seed set to 0                                                         \n"
     ]
    },
    {
     "name": "stdout",
     "output_type": "stream",
     "text": [
      "val acc 0.35350000858306885\n"
     ]
    },
    {
     "name": "stderr",
     "output_type": "stream",
     "text": [
      "Global seed set to 0                                                         \n"
     ]
    },
    {
     "name": "stdout",
     "output_type": "stream",
     "text": [
      "val acc 0.3352000117301941\n"
     ]
    },
    {
     "name": "stderr",
     "output_type": "stream",
     "text": [
      "Global seed set to 0                                                         \n"
     ]
    },
    {
     "name": "stdout",
     "output_type": "stream",
     "text": [
      "val acc 0.30559998750686646\n"
     ]
    },
    {
     "name": "stderr",
     "output_type": "stream",
     "text": [
      "Global seed set to 0                                                         \n"
     ]
    },
    {
     "name": "stdout",
     "output_type": "stream",
     "text": [
      "val acc 0.5343000292778015\n"
     ]
    },
    {
     "name": "stderr",
     "output_type": "stream",
     "text": [
      "Global seed set to 0                                                         \n"
     ]
    },
    {
     "name": "stdout",
     "output_type": "stream",
     "text": [
      "val acc 0.6751000285148621\n"
     ]
    },
    {
     "name": "stderr",
     "output_type": "stream",
     "text": [
      "Global seed set to 0                                                         \n"
     ]
    },
    {
     "name": "stdout",
     "output_type": "stream",
     "text": [
      "val acc 0.7519999742507935\n"
     ]
    },
    {
     "name": "stderr",
     "output_type": "stream",
     "text": [
      "Global seed set to 0                                                         \n"
     ]
    },
    {
     "name": "stdout",
     "output_type": "stream",
     "text": [
      "val acc 0.8288000226020813\n"
     ]
    },
    {
     "name": "stderr",
     "output_type": "stream",
     "text": [
      "Global seed set to 0                                                         \n"
     ]
    },
    {
     "name": "stdout",
     "output_type": "stream",
     "text": [
      "val acc 0.8499000072479248\n"
     ]
    },
    {
     "name": "stderr",
     "output_type": "stream",
     "text": [
      "Global seed set to 0                                                         \n"
     ]
    },
    {
     "name": "stdout",
     "output_type": "stream",
     "text": [
      "val acc 0.8317000269889832\n"
     ]
    },
    {
     "name": "stderr",
     "output_type": "stream",
     "text": [
      "Global seed set to 0                                                         \n"
     ]
    },
    {
     "name": "stdout",
     "output_type": "stream",
     "text": [
      "val acc 0.8675000071525574\n"
     ]
    },
    {
     "name": "stderr",
     "output_type": "stream",
     "text": [
      "Global seed set to 0                                                         \n"
     ]
    },
    {
     "name": "stdout",
     "output_type": "stream",
     "text": [
      "val acc 0.8952000141143799\n"
     ]
    },
    {
     "name": "stderr",
     "output_type": "stream",
     "text": [
      "Global seed set to 0                                                         \n"
     ]
    },
    {
     "name": "stdout",
     "output_type": "stream",
     "text": [
      "val acc 0.8878999948501587\n"
     ]
    },
    {
     "name": "stderr",
     "output_type": "stream",
     "text": [
      "Global seed set to 0                                                         \n"
     ]
    },
    {
     "name": "stdout",
     "output_type": "stream",
     "text": [
      "val acc 0.9002000093460083\n"
     ]
    },
    {
     "name": "stderr",
     "output_type": "stream",
     "text": [
      "Global seed set to 0                                                         \n"
     ]
    },
    {
     "name": "stdout",
     "output_type": "stream",
     "text": [
      "val acc 0.9104999899864197\n"
     ]
    },
    {
     "name": "stderr",
     "output_type": "stream",
     "text": [
      "Global seed set to 0                                                         \n"
     ]
    },
    {
     "name": "stdout",
     "output_type": "stream",
     "text": [
      "val acc 0.9075999855995178\n"
     ]
    },
    {
     "name": "stderr",
     "output_type": "stream",
     "text": [
      "Global seed set to 0                                                         \n"
     ]
    },
    {
     "name": "stdout",
     "output_type": "stream",
     "text": [
      "val acc 0.9085000157356262\n"
     ]
    },
    {
     "name": "stderr",
     "output_type": "stream",
     "text": [
      "Global seed set to 0                                                         \n"
     ]
    },
    {
     "name": "stdout",
     "output_type": "stream",
     "text": [
      "val acc 0.9178000092506409\n"
     ]
    },
    {
     "name": "stderr",
     "output_type": "stream",
     "text": [
      "                                                                             \r"
     ]
    },
    {
     "name": "stdout",
     "output_type": "stream",
     "text": [
      "val acc 0.9086999893188477\n"
     ]
    }
   ],
   "source": [
    "import numpy as np\n",
    "\n",
    "for hidden_size in chain(np.arange(2, 8, 1), np.arange(8, 128, 8)):\n",
    "    model, loss, val_acc, history = train(\n",
    "        NaiveCNN(hidden_size=hidden_size),\n",
    "        train_dataset=train_dataset,\n",
    "        perc_subsamples_dataset=1.0,\n",
    "        val_dataset=val_dataset,\n",
    "        epochs=5,\n",
    "        lr=1e-5,\n",
    "    )\n",
    "\n",
    "    performance[\"exp\"].append(\"smallmodel\")\n",
    "    performance[\"relsup\"].append(False)\n",
    "    performance[\"perc_train\"].append(1.0)\n",
    "    performance[\"hidden_dim\"].append(hidden_size.item())\n",
    "    performance[\"val_acc\"].append(val_acc)\n",
    "    performance[\"epochs\"].append(5)"
   ]
  },
  {
   "cell_type": "markdown",
   "metadata": {},
   "source": [
    "# Train with relative sup small models\n"
   ]
  },
  {
   "cell_type": "code",
   "execution_count": 22,
   "metadata": {},
   "outputs": [
    {
     "name": "stderr",
     "output_type": "stream",
     "text": [
      "Global seed set to 0\n",
      "                                                                             \r"
     ]
    },
    {
     "name": "stdout",
     "output_type": "stream",
     "text": [
      "end of training val acc 0.6779000163078308\n",
      "ref_model 0.9710999727249146\n",
      "small_model_model 0.6751000285148621\n",
      "small_model_relsup_model 0.6779000163078308\n"
     ]
    },
    {
     "data": {
      "image/png": "[encoded data removed]",
      "text/plain": [
       "<Figure size 640x480 with 1 Axes>"
      ]
     },
     "metadata": {},
     "output_type": "display_data"
    }
   ],
   "source": [
    "(\n",
    "    small_model_relsup_model,\n",
    "    small_model_relsup_loss,\n",
    "    small_model_relsup_val_acc,\n",
    "    small_model_relsup_history,\n",
    ") = train_relative_supervision(\n",
    "    NaiveCNN(hidden_size=16),\n",
    "    reference_model=ref_model,\n",
    "    reference_weight=2,\n",
    "    train_dataset=train_dataset,\n",
    "    perc_subsamples_dataset=1,\n",
    "    val_dataset=val_dataset,\n",
    "    epochs=5,\n",
    "    lr=1e-5,\n",
    ")\n",
    "\n",
    "print(\"ref_model\", validate(ref_model))\n",
    "print(\"small_model_model\", validate(small_model_model))\n",
    "print(\"small_model_relsup_model\", validate(small_model_relsup_model))\n",
    "_ = plot_history(low_data_relsup_history, [\"class_loss\", \"relative_sup_loss\"])"
   ]
  },
  {
   "cell_type": "code",
   "execution_count": 23,
   "metadata": {},
   "outputs": [
    {
     "name": "stderr",
     "output_type": "stream",
     "text": [
      "Global seed set to 0\n",
      "Global seed set to 0                                                         \n"
     ]
    },
    {
     "name": "stdout",
     "output_type": "stream",
     "text": [
      "end of training val acc 0.10949999839067459\n"
     ]
    },
    {
     "name": "stderr",
     "output_type": "stream",
     "text": [
      "Global seed set to 0                                                         \n"
     ]
    },
    {
     "name": "stdout",
     "output_type": "stream",
     "text": [
      "end of training val acc 0.19009999930858612\n"
     ]
    },
    {
     "name": "stderr",
     "output_type": "stream",
     "text": [
      "Global seed set to 0                                                         \n"
     ]
    },
    {
     "name": "stdout",
     "output_type": "stream",
     "text": [
      "end of training val acc 0.164900004863739\n"
     ]
    },
    {
     "name": "stderr",
     "output_type": "stream",
     "text": [
      "Global seed set to 0                                                         \n"
     ]
    },
    {
     "name": "stdout",
     "output_type": "stream",
     "text": [
      "end of training val acc 0.3589000105857849\n"
     ]
    },
    {
     "name": "stderr",
     "output_type": "stream",
     "text": [
      "Global seed set to 0                                                         \n"
     ]
    },
    {
     "name": "stdout",
     "output_type": "stream",
     "text": [
      "end of training val acc 0.3386000096797943\n"
     ]
    },
    {
     "name": "stderr",
     "output_type": "stream",
     "text": [
      "Global seed set to 0                                                         \n"
     ]
    },
    {
     "name": "stdout",
     "output_type": "stream",
     "text": [
      "end of training val acc 0.26840001344680786\n"
     ]
    },
    {
     "name": "stderr",
     "output_type": "stream",
     "text": [
      "Global seed set to 0                                                         \n"
     ]
    },
    {
     "name": "stdout",
     "output_type": "stream",
     "text": [
      "end of training val acc 0.47290000319480896\n"
     ]
    },
    {
     "name": "stderr",
     "output_type": "stream",
     "text": [
      "Global seed set to 0                                                         \n"
     ]
    },
    {
     "name": "stdout",
     "output_type": "stream",
     "text": [
      "end of training val acc 0.6777999997138977\n"
     ]
    },
    {
     "name": "stderr",
     "output_type": "stream",
     "text": [
      "Global seed set to 0                                                         \n"
     ]
    },
    {
     "name": "stdout",
     "output_type": "stream",
     "text": [
      "end of training val acc 0.7523999810218811\n"
     ]
    },
    {
     "name": "stderr",
     "output_type": "stream",
     "text": [
      "Global seed set to 0                                                         \n"
     ]
    },
    {
     "name": "stdout",
     "output_type": "stream",
     "text": [
      "end of training val acc 0.8259000182151794\n"
     ]
    },
    {
     "name": "stderr",
     "output_type": "stream",
     "text": [
      "loss: 1.857963 ~ acc: 0.329433:  20%|██        | 1/5 [00:07<00:28,  7.06s/it]"
     ]
    }
   ],
   "source": [
    "import numpy as np\n",
    "\n",
    "for hidden_size in chain(np.arange(2, 8, 1), np.arange(8, 128, 8)):\n",
    "    model, loss, val_acc, history = train_relative_supervision(\n",
    "        NaiveCNN(hidden_size=hidden_size),\n",
    "        reference_model=ref_model,\n",
    "        reference_weight=2,\n",
    "        train_dataset=train_dataset,\n",
    "        perc_subsamples_dataset=1,\n",
    "        val_dataset=val_dataset,\n",
    "        epochs=5,\n",
    "        lr=1e-5,\n",
    "    )\n",
    "\n",
    "    performance[\"exp\"].append(\"smallmodel\")\n",
    "    performance[\"relsup\"].append(True)\n",
    "    performance[\"perc_train\"].append(1.0)\n",
    "    performance[\"hidden_dim\"].append(hidden_size.item())\n",
    "    performance[\"val_acc\"].append(val_acc)\n",
    "    performance[\"epochs\"].append(5)"
   ]
  },
  {
   "cell_type": "code",
   "execution_count": null,
   "metadata": {},
   "outputs": [],
   "source": [
    "import pandas as pd"
   ]
  },
  {
   "cell_type": "code",
   "execution_count": null,
   "metadata": {},
   "outputs": [],
   "source": [
    "perf = pd.DataFrame(performance)\n",
    "\n",
    "lowdata = perf[perf[\"exp\"] == \"lowdata\"][~perf[\"relsup\"]]\n",
    "lowdata_relsup = perf[perf[\"exp\"] == \"lowdata\"][perf[\"relsup\"]]\n",
    "\n",
    "smallmodel = perf[perf[\"exp\"] == \"smallmodel\"][~perf[\"relsup\"]]\n",
    "smallmodel_relsup = perf[perf[\"exp\"] == \"smallmodel\"][perf[\"relsup\"]]\n",
    "smallmodel_relsup"
   ]
  },
  {
   "cell_type": "code",
   "execution_count": null,
   "metadata": {},
   "outputs": [],
   "source": [
    "perf.to_csv(\"perf.tsv\", sep=\"\\t\")"
   ]
  },
  {
   "cell_type": "code",
   "execution_count": null,
   "metadata": {},
   "outputs": [],
   "source": [
    "fig, (ax1, ax2) = plt.subplots(1, 2, figsize=(12, 5))\n",
    "\n",
    "ax1.scatter(x=lowdata.perc_train, y=lowdata.val_acc, label=\"Standard\")\n",
    "ax1.scatter(x=lowdata_relsup.perc_train, y=lowdata_relsup.val_acc, label=\"RelSup\")\n",
    "ax1.set_xlabel(\"Train dataset percentage\")\n",
    "ax1.set_ylabel(\"Validation accuracy\")\n",
    "ax1.legend()\n",
    "\n",
    "ax2.scatter(x=smallmodel.hidden_dim, y=smallmodel.val_acc, label=\"Standard\")\n",
    "ax2.scatter(x=smallmodel_relsup.hidden_dim, y=smallmodel_relsup.val_acc, label=\"RelSup\")\n",
    "ax2.set_xlabel(\"Latent space size\")\n",
    "ax2.set_ylabel(\"Validation accuracy\")\n",
    "ax2.legend()"
   ]
  },
  {
   "cell_type": "code",
   "execution_count": null,
   "metadata": {},
   "outputs": [],
   "source": []
  },
  {
   "cell_type": "code",
   "execution_count": null,
   "metadata": {},
   "outputs": [],
   "source": []
  }
 ],
 "metadata": {
  "kernelspec": {
   "display_name": "Python 3",
   "language": "python",
   "name": "python3"
  },
  "language_info": {
   "codemirror_mode": {
    "name": "ipython",
    "version": 3
   },
   "file_extension": ".py",
   "mimetype": "text/x-python",
   "name": "python",
   "nbconvert_exporter": "python",
   "pygments_lexer": "ipython3",
   "version": "3.9.17"
  }
 },
 "nbformat": 4,
 "nbformat_minor": 0
}
