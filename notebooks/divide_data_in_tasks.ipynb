{
 "cells": [
  {
   "cell_type": "code",
   "execution_count": 1,
   "metadata": {
    "ExecuteTime": {
     "start_time": "2023-04-11T08:29:37.250789Z",
     "end_time": "2023-04-11T08:29:38.410925Z"
    }
   },
   "outputs": [
    {
     "name": "stderr",
     "output_type": "stream",
     "text": [
      "/home/donato/miniconda3/envs/la/lib/python3.9/site-packages/torchvision/io/image.py:13: UserWarning: Failed to load image Python extension: /home/donato/miniconda3/envs/la/lib/python3.9/site-packages/torchvision/image.so: undefined symbol: _ZN5torch3jit17parseSchemaOrNameERKNSt7__cxx1112basic_stringIcSt11char_traitsIcESaIcEEE\n",
      "  warn(f\"Failed to load image Python extension: {e}\")\n"
     ]
    }
   ],
   "source": [
    "import random\n",
    "from collections import namedtuple\n",
    "from pathlib import Path\n",
    "from pytorch_lightning import seed_everything\n",
    "\n",
    "from datasets import load_dataset, DatasetDict, load_from_disk, Dataset, concatenate_datasets\n",
    "from la.utils.utils import MyDatasetDict\n",
    "from nn_core.common import PROJECT_ROOT"
   ]
  },
  {
   "cell_type": "code",
   "execution_count": null,
   "outputs": [],
   "source": [
    "USE_CACHED: bool = True"
   ],
   "metadata": {
    "collapsed": false
   }
  },
  {
   "cell_type": "code",
   "execution_count": null,
   "outputs": [],
   "source": [
    "\n",
    "\n",
    "def get_dataset(name: str, split: str, perc: float, seed: int = 42):\n",
    "    \"\"\"\n",
    "    Load a dataset from the HuggingFace datasets library.\n",
    "    \"\"\"\n",
    "    assert 0 < perc <= 1\n",
    "    dataset = load_dataset(\n",
    "        name,\n",
    "        split=split,\n",
    "        use_auth_token=True,\n",
    "    )\n",
    "    seed_everything(seed)\n",
    "\n",
    "    # Select a random subset\n",
    "    if perc != 1:\n",
    "        dataset = dataset.shuffle(seed=seed).select(list(range(int(len(dataset) * perc))))\n",
    "\n",
    "    return dataset"
   ],
   "metadata": {
    "collapsed": false
   }
  },
  {
   "cell_type": "code",
   "execution_count": null,
   "outputs": [],
   "source": [
    "DatasetParams = namedtuple(\"DatasetParams\", [\"name\", \"fine_grained\", \"train_split\", \"test_split\", \"perc\", \"hf_key\"])"
   ],
   "metadata": {
    "collapsed": false
   }
  },
  {
   "cell_type": "code",
   "execution_count": null,
   "outputs": [],
   "source": [
    "dataset_params: DatasetParams = DatasetParams(\"cifar100\", None, \"train\", \"test\", 1, (\"cifar100\",))\n",
    "dataset_params"
   ],
   "metadata": {
    "collapsed": false
   }
  },
  {
   "cell_type": "code",
   "execution_count": null,
   "outputs": [],
   "source": [
    "DATASET_KEY = \"_\".join(map(str, [v for k, v in dataset_params._asdict().items() if k != \"hf_key\" and v is not None]))\n",
    "DATASET_DIR: Path = PROJECT_ROOT / \"data\" / \"encoded_data\" / DATASET_KEY\n",
    "DATASET_DIR"
   ],
   "metadata": {
    "collapsed": false
   }
  },
  {
   "cell_type": "code",
   "execution_count": null,
   "outputs": [],
   "source": [
    "if not DATASET_DIR.exists() or not USE_CACHED:\n",
    "\n",
    "    data: DatasetDict = DatasetDict(\n",
    "        train=get_dataset(name=dataset_params.name, split=dataset_params.train_split, perc=dataset_params.perc),\n",
    "        test=get_dataset(name=dataset_params.name, split=dataset_params.test_split, perc=dataset_params.perc),\n",
    "    )\n",
    "else:\n",
    "    data: Dataset = load_from_disk(dataset_path=str(DATASET_DIR))\n",
    "\n",
    "data"
   ],
   "metadata": {
    "collapsed": false
   }
  },
  {
   "cell_type": "markdown",
   "metadata": {},
   "source": [
    "# Subdivide CIFAR100 into tasks"
   ]
  },
  {
   "cell_type": "markdown",
   "metadata": {},
   "source": [
    "### Params"
   ]
  },
  {
   "cell_type": "code",
   "execution_count": null,
   "metadata": {
    "pycharm": {
     "is_executing": true
    }
   },
   "outputs": [],
   "source": [
    "num_shared_classes = 80\n",
    "num_novel_classes_per_task = 5"
   ]
  },
  {
   "cell_type": "markdown",
   "metadata": {},
   "source": [
    "### Data loading"
   ]
  },
  {
   "cell_type": "code",
   "execution_count": null,
   "metadata": {},
   "outputs": [],
   "source": [
    "DATASET_DIR: Path = PROJECT_ROOT / \"data\" / \"encoded_data\" / \"cifar100_train_test_1\"\n",
    "dataset: Dataset = load_from_disk(dataset_path=str(DATASET_DIR))\n",
    "dataset"
   ]
  },
  {
   "cell_type": "markdown",
   "metadata": {},
   "source": [
    "## Add ids"
   ]
  },
  {
   "cell_type": "code",
   "execution_count": null,
   "metadata": {},
   "outputs": [],
   "source": [
    "dataset[\"train\"] = dataset[\"train\"].map(lambda row, ind: {\"id\": ind}, batched=True, with_indices=True)\n",
    "dataset[\"test\"] = dataset[\"test\"].map(lambda row, ind: {\"id\": ind}, batched=True, with_indices=True)"
   ]
  },
  {
   "cell_type": "code",
   "execution_count": null,
   "metadata": {},
   "outputs": [],
   "source": [
    "num_train_samples_per_class = 500\n",
    "num_test_samples_per_class = 100"
   ]
  },
  {
   "cell_type": "code",
   "execution_count": null,
   "metadata": {},
   "outputs": [],
   "source": [
    "all_classes = dataset[\"train\"].features[\"fine_label\"].names\n",
    "all_classes_ids = [id for id, _ in enumerate(all_classes)]\n",
    "class_str_to_id = {c: i for i, c in enumerate(all_classes)}\n",
    "num_classes = len(all_classes)\n",
    "print(f\"{num_classes} classes in total\")"
   ]
  },
  {
   "cell_type": "markdown",
   "metadata": {},
   "source": [
    "### Sample shared classes"
   ]
  },
  {
   "cell_type": "code",
   "execution_count": null,
   "metadata": {},
   "outputs": [],
   "source": [
    "shared_classes = set(random.sample(all_classes_ids, k=num_shared_classes))\n",
    "\n",
    "assert len(shared_classes) == num_shared_classes"
   ]
  },
  {
   "cell_type": "code",
   "execution_count": null,
   "metadata": {},
   "outputs": [],
   "source": [
    "non_shared_classes = set([c for c in all_classes_ids if c not in shared_classes])\n",
    "\n",
    "assert len(non_shared_classes) == num_classes - num_shared_classes"
   ]
  },
  {
   "cell_type": "markdown",
   "metadata": {},
   "source": [
    "### Subdivide data into tasks defined by different classes subsets"
   ]
  },
  {
   "cell_type": "code",
   "execution_count": null,
   "metadata": {},
   "outputs": [],
   "source": [
    "num_tasks = (num_classes - num_shared_classes) // num_novel_classes_per_task"
   ]
  },
  {
   "cell_type": "code",
   "execution_count": null,
   "metadata": {},
   "outputs": [],
   "source": [
    "new_dataset = MyDatasetDict()\n",
    "global_to_local_class_mappings = {}\n",
    "\n",
    "# task 0 is a dummy task that consists of the samples for all the classes\n",
    "new_dataset[f\"task_0_train\"] = dataset[\"train\"]\n",
    "new_dataset[f\"task_0_test\"] = dataset[\"test\"]\n",
    "\n",
    "global_to_local_class_mappings[\"task_0\"] = {class_str_to_id[c]: i for i, c in enumerate(all_classes)}\n",
    "\n",
    "shared_train_samples = dataset[\"train\"].filter(lambda x: x[\"fine_label\"] in shared_classes)\n",
    "shared_test_samples = dataset[\"test\"].filter(lambda x: x[\"fine_label\"] in shared_classes)\n",
    "\n",
    "for i in range(1, num_tasks + 1):\n",
    "    task_novel_classes = set(random.sample(list(non_shared_classes), k=num_novel_classes_per_task))\n",
    "\n",
    "    # remove the classes sampled for this task so that all tasks have disjoint novel classes\n",
    "    non_shared_classes = non_shared_classes.difference(task_novel_classes)\n",
    "\n",
    "    task_classes = shared_classes.union(task_novel_classes)\n",
    "\n",
    "    global_to_local_class_map = {c: i for i, c in enumerate(list(task_classes))}\n",
    "\n",
    "    novel_train_samples = dataset[\"train\"].filter(lambda x: x[\"fine_label\"] in task_novel_classes)\n",
    "\n",
    "    task_train_samples = concatenate_datasets([shared_train_samples, novel_train_samples])\n",
    "\n",
    "    task_train_samples = task_train_samples.map(\n",
    "        lambda row: {\"fine_label\": global_to_local_class_map[row[\"fine_label\"]]}\n",
    "    )\n",
    "\n",
    "    novel_test_samples = dataset[\"test\"].filter(lambda x: x[\"fine_label\"] in task_novel_classes)\n",
    "\n",
    "    task_test_samples = concatenate_datasets([shared_test_samples, novel_test_samples])\n",
    "\n",
    "    task_test_samples = task_test_samples.map(lambda row: {\"fine_label\": global_to_local_class_map[row[\"fine_label\"]]})\n",
    "\n",
    "    assert len(task_train_samples) == num_train_samples_per_class * len(task_classes)\n",
    "    assert len(task_test_samples) == num_test_samples_per_class * len(task_classes)\n",
    "\n",
    "    global_to_local_class_mappings[f\"task_{i}\"] = global_to_local_class_map\n",
    "\n",
    "    new_dataset[f\"task_{i}_train\"] = task_train_samples\n",
    "    new_dataset[f\"task_{i}_test\"] = task_test_samples"
   ]
  },
  {
   "cell_type": "code",
   "execution_count": null,
   "metadata": {},
   "outputs": [],
   "source": [
    "metadata = {\n",
    "    \"num_train_samples_per_class\": num_train_samples_per_class,\n",
    "    \"num_test_samples_per_class\": num_test_samples_per_class,\n",
    "    \"num_shared_classes\": num_shared_classes,\n",
    "    \"num_novel_classes_per_task\": num_novel_classes_per_task,\n",
    "    \"num_tasks\": num_tasks,\n",
    "    \"shared_classes\": list(shared_classes),\n",
    "    \"non_shared_classes\": list(non_shared_classes),\n",
    "    \"all_classes\": all_classes,\n",
    "    \"all_classes_ids\": all_classes_ids,\n",
    "    \"num_classes\": num_classes,\n",
    "    \"global_to_local_class_mappings\": global_to_local_class_mappings,\n",
    "}\n",
    "\n",
    "new_dataset[\"metadata\"] = metadata\n",
    "\n",
    "output_folder = PROJECT_ROOT / \"data\" / \"cifar100_tasks\"\n",
    "new_dataset.save_to_disk(output_folder)"
   ]
  },
  {
   "cell_type": "code",
   "execution_count": null,
   "metadata": {},
   "outputs": [],
   "source": [
    "print(metadata[\"global_to_local_class_mappings\"])"
   ]
  },
  {
   "cell_type": "code",
   "execution_count": null,
   "metadata": {},
   "outputs": [],
   "source": []
  }
 ],
 "metadata": {
  "kernelspec": {
   "display_name": "Python 3",
   "language": "python",
   "name": "python3"
  },
  "language_info": {
   "codemirror_mode": {
    "name": "ipython",
    "version": 2
   },
   "file_extension": ".py",
   "mimetype": "text/x-python",
   "name": "python",
   "nbconvert_exporter": "python",
   "pygments_lexer": "ipython2",
   "version": "2.7.6"
  }
 },
 "nbformat": 4,
 "nbformat_minor": 0
}
