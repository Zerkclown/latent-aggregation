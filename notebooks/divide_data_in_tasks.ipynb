{
 "cells": [
  {
   "cell_type": "code",
   "execution_count": 1,
   "metadata": {
    "ExecuteTime": {
     "start_time": "2023-04-11T08:51:07.242391Z",
     "end_time": "2023-04-11T08:51:08.409320Z"
    }
   },
   "outputs": [
    {
     "name": "stderr",
     "output_type": "stream",
     "text": [
      "/home/donato/miniconda3/envs/la/lib/python3.9/site-packages/torchvision/io/image.py:13: UserWarning: Failed to load image Python extension: /home/donato/miniconda3/envs/la/lib/python3.9/site-packages/torchvision/image.so: undefined symbol: _ZN5torch3jit17parseSchemaOrNameERKNSt7__cxx1112basic_stringIcSt11char_traitsIcESaIcEEE\n",
      "  warn(f\"Failed to load image Python extension: {e}\")\n"
     ]
    }
   ],
   "source": [
    "import random\n",
    "from collections import namedtuple\n",
    "from pathlib import Path\n",
    "from pytorch_lightning import seed_everything\n",
    "\n",
    "from datasets import load_dataset, DatasetDict, load_from_disk, Dataset, concatenate_datasets\n",
    "from la.utils.utils import MyDatasetDict\n",
    "from nn_core.common import PROJECT_ROOT"
   ]
  },
  {
   "cell_type": "code",
   "execution_count": 2,
   "outputs": [],
   "source": [
    "USE_CACHED: bool = True"
   ],
   "metadata": {
    "collapsed": false,
    "ExecuteTime": {
     "start_time": "2023-04-11T08:51:08.410865Z",
     "end_time": "2023-04-11T08:51:08.412539Z"
    }
   }
  },
  {
   "cell_type": "code",
   "execution_count": 3,
   "outputs": [],
   "source": [
    "def get_dataset(name: str, split: str, perc: float, seed: int = 42):\n",
    "    \"\"\"\n",
    "    Load a dataset from the HuggingFace datasets library.\n",
    "    \"\"\"\n",
    "    assert 0 < perc <= 1\n",
    "    dataset = load_dataset(\n",
    "        name,\n",
    "        split=split,\n",
    "        use_auth_token=True,\n",
    "    )\n",
    "    seed_everything(seed)\n",
    "\n",
    "    # Select a random subset\n",
    "    if perc != 1:\n",
    "        dataset = dataset.shuffle(seed=seed).select(list(range(int(len(dataset) * perc))))\n",
    "\n",
    "    return dataset"
   ],
   "metadata": {
    "collapsed": false,
    "ExecuteTime": {
     "start_time": "2023-04-11T08:51:08.412737Z",
     "end_time": "2023-04-11T08:51:08.416273Z"
    }
   }
  },
  {
   "cell_type": "code",
   "execution_count": 4,
   "outputs": [],
   "source": [
    "DatasetParams = namedtuple(\"DatasetParams\", [\"name\", \"fine_grained\", \"train_split\", \"test_split\", \"perc\", \"hf_key\"])"
   ],
   "metadata": {
    "collapsed": false,
    "ExecuteTime": {
     "start_time": "2023-04-11T08:51:08.416811Z",
     "end_time": "2023-04-11T08:51:08.418626Z"
    }
   }
  },
  {
   "cell_type": "code",
   "execution_count": 5,
   "outputs": [
    {
     "data": {
      "text/plain": "DatasetParams(name='cifar100', fine_grained=None, train_split='train', test_split='test', perc=1, hf_key=('cifar100',))"
     },
     "execution_count": 5,
     "metadata": {},
     "output_type": "execute_result"
    }
   ],
   "source": [
    "dataset_params: DatasetParams = DatasetParams(\"cifar100\", None, \"train\", \"test\", 1, (\"cifar100\",))\n",
    "dataset_params"
   ],
   "metadata": {
    "collapsed": false,
    "ExecuteTime": {
     "start_time": "2023-04-11T08:51:08.421454Z",
     "end_time": "2023-04-11T08:51:08.463353Z"
    }
   }
  },
  {
   "cell_type": "code",
   "execution_count": 6,
   "outputs": [
    {
     "data": {
      "text/plain": "PosixPath('/home/donato/PycharmProjects/latent-aggregation/data/encoded_data/cifar100_train_test_1')"
     },
     "execution_count": 6,
     "metadata": {},
     "output_type": "execute_result"
    }
   ],
   "source": [
    "DATASET_KEY = \"_\".join(map(str, [v for k, v in dataset_params._asdict().items() if k != \"hf_key\" and v is not None]))\n",
    "DATASET_DIR: Path = PROJECT_ROOT / \"data\" / \"encoded_data\" / DATASET_KEY\n",
    "DATASET_DIR"
   ],
   "metadata": {
    "collapsed": false,
    "ExecuteTime": {
     "start_time": "2023-04-11T08:51:08.462690Z",
     "end_time": "2023-04-11T08:51:08.463955Z"
    }
   }
  },
  {
   "cell_type": "code",
   "execution_count": 7,
   "outputs": [
    {
     "data": {
      "text/plain": "\u001B[2;36m2023-04-11 08:51:10\u001B[0m\u001B[2;36m \u001B[0m\u001B[31mWARNING \u001B[0m Found cached dataset cifar100                                     \u001B]8;id=860997;file:///home/donato/miniconda3/envs/la/lib/python3.9/site-packages/datasets/builder.py\u001B\\\u001B[2mdatasets.builder\u001B[0m\u001B]8;;\u001B\\\u001B[2m:\u001B[0m\u001B]8;id=212276;file:///home/donato/miniconda3/envs/la/lib/python3.9/site-packages/datasets/builder.py#817\u001B\\\u001B[2m817\u001B[0m\u001B]8;;\u001B\\\n\u001B[2;36m                    \u001B[0m         \u001B[1m(\u001B[0m\u001B[35m/home/donato/.cache/huggingface/datasets/cifar100/cifar100/1.0.0\u001B[0m \u001B[2m                    \u001B[0m\n\u001B[2;36m                    \u001B[0m         \u001B[35m/\u001B[0m\u001B[95mf365c8b725c23e8f0f8d725c3641234d9331cd2f62919d1381d1baa5b3ba3142\u001B[0m \u001B[2m                    \u001B[0m\n\u001B[2;36m                    \u001B[0m         \u001B[1m)\u001B[0m                                                                 \u001B[2m                    \u001B[0m\n",
      "text/html": "<pre style=\"white-space:pre;overflow-x:auto;line-height:normal;font-family:Menlo,'DejaVu Sans Mono',consolas,'Courier New',monospace\"><span style=\"color: #7fbfbf; text-decoration-color: #7fbfbf\">2023-04-11 08:51:10 </span><span style=\"color: #800000; text-decoration-color: #800000\">WARNING </span> Found cached dataset cifar100                                     <a href=\"file:///home/donato/miniconda3/envs/la/lib/python3.9/site-packages/datasets/builder.py\" target=\"_blank\"><span style=\"color: #7f7f7f; text-decoration-color: #7f7f7f\">datasets.builder</span></a><span style=\"color: #7f7f7f; text-decoration-color: #7f7f7f\">:</span><a href=\"file:///home/donato/miniconda3/envs/la/lib/python3.9/site-packages/datasets/builder.py#817\" target=\"_blank\"><span style=\"color: #7f7f7f; text-decoration-color: #7f7f7f\">817</span></a>\n<span style=\"color: #7fbfbf; text-decoration-color: #7fbfbf\">                    </span>         <span style=\"font-weight: bold\">(</span><span style=\"color: #800080; text-decoration-color: #800080\">/home/donato/.cache/huggingface/datasets/cifar100/cifar100/1.0.0</span> <span style=\"color: #7f7f7f; text-decoration-color: #7f7f7f\">                    </span>\n<span style=\"color: #7fbfbf; text-decoration-color: #7fbfbf\">                    </span>         <span style=\"color: #800080; text-decoration-color: #800080\">/</span><span style=\"color: #ff00ff; text-decoration-color: #ff00ff\">f365c8b725c23e8f0f8d725c3641234d9331cd2f62919d1381d1baa5b3ba3142</span> <span style=\"color: #7f7f7f; text-decoration-color: #7f7f7f\">                    </span>\n<span style=\"color: #7fbfbf; text-decoration-color: #7fbfbf\">                    </span>         <span style=\"font-weight: bold\">)</span>                                                                 <span style=\"color: #7f7f7f; text-decoration-color: #7f7f7f\">                    </span>\n</pre>\n"
     },
     "metadata": {},
     "output_type": "display_data"
    },
    {
     "data": {
      "text/plain": "\u001B[2;36m                   \u001B[0m\u001B[2;36m \u001B[0m\u001B[34mINFO    \u001B[0m Global seed set to \u001B[1;36m42\u001B[0m                              \u001B]8;id=736506;file:///home/donato/miniconda3/envs/la/lib/python3.9/site-packages/pytorch_lightning/utilities/seed.py\u001B\\\u001B[2mpytorch_lightning.utilities.seed\u001B[0m\u001B]8;;\u001B\\\u001B[2m:\u001B[0m\u001B]8;id=75125;file:///home/donato/miniconda3/envs/la/lib/python3.9/site-packages/pytorch_lightning/utilities/seed.py#71\u001B\\\u001B[2m71\u001B[0m\u001B]8;;\u001B\\\n",
      "text/html": "<pre style=\"white-space:pre;overflow-x:auto;line-height:normal;font-family:Menlo,'DejaVu Sans Mono',consolas,'Courier New',monospace\"><span style=\"color: #7fbfbf; text-decoration-color: #7fbfbf\">                    </span><span style=\"color: #000080; text-decoration-color: #000080\">INFO    </span> Global seed set to <span style=\"color: #008080; text-decoration-color: #008080; font-weight: bold\">42</span>                              <a href=\"file:///home/donato/miniconda3/envs/la/lib/python3.9/site-packages/pytorch_lightning/utilities/seed.py\" target=\"_blank\"><span style=\"color: #7f7f7f; text-decoration-color: #7f7f7f\">pytorch_lightning.utilities.seed</span></a><span style=\"color: #7f7f7f; text-decoration-color: #7f7f7f\">:</span><a href=\"file:///home/donato/miniconda3/envs/la/lib/python3.9/site-packages/pytorch_lightning/utilities/seed.py#71\" target=\"_blank\"><span style=\"color: #7f7f7f; text-decoration-color: #7f7f7f\">71</span></a>\n</pre>\n"
     },
     "metadata": {},
     "output_type": "display_data"
    },
    {
     "data": {
      "text/plain": "\u001B[2;36m2023-04-11 08:51:12\u001B[0m\u001B[2;36m \u001B[0m\u001B[31mWARNING \u001B[0m Found cached dataset cifar100                                     \u001B]8;id=288389;file:///home/donato/miniconda3/envs/la/lib/python3.9/site-packages/datasets/builder.py\u001B\\\u001B[2mdatasets.builder\u001B[0m\u001B]8;;\u001B\\\u001B[2m:\u001B[0m\u001B]8;id=256787;file:///home/donato/miniconda3/envs/la/lib/python3.9/site-packages/datasets/builder.py#817\u001B\\\u001B[2m817\u001B[0m\u001B]8;;\u001B\\\n\u001B[2;36m                    \u001B[0m         \u001B[1m(\u001B[0m\u001B[35m/home/donato/.cache/huggingface/datasets/cifar100/cifar100/1.0.0\u001B[0m \u001B[2m                    \u001B[0m\n\u001B[2;36m                    \u001B[0m         \u001B[35m/\u001B[0m\u001B[95mf365c8b725c23e8f0f8d725c3641234d9331cd2f62919d1381d1baa5b3ba3142\u001B[0m \u001B[2m                    \u001B[0m\n\u001B[2;36m                    \u001B[0m         \u001B[1m)\u001B[0m                                                                 \u001B[2m                    \u001B[0m\n",
      "text/html": "<pre style=\"white-space:pre;overflow-x:auto;line-height:normal;font-family:Menlo,'DejaVu Sans Mono',consolas,'Courier New',monospace\"><span style=\"color: #7fbfbf; text-decoration-color: #7fbfbf\">2023-04-11 08:51:12 </span><span style=\"color: #800000; text-decoration-color: #800000\">WARNING </span> Found cached dataset cifar100                                     <a href=\"file:///home/donato/miniconda3/envs/la/lib/python3.9/site-packages/datasets/builder.py\" target=\"_blank\"><span style=\"color: #7f7f7f; text-decoration-color: #7f7f7f\">datasets.builder</span></a><span style=\"color: #7f7f7f; text-decoration-color: #7f7f7f\">:</span><a href=\"file:///home/donato/miniconda3/envs/la/lib/python3.9/site-packages/datasets/builder.py#817\" target=\"_blank\"><span style=\"color: #7f7f7f; text-decoration-color: #7f7f7f\">817</span></a>\n<span style=\"color: #7fbfbf; text-decoration-color: #7fbfbf\">                    </span>         <span style=\"font-weight: bold\">(</span><span style=\"color: #800080; text-decoration-color: #800080\">/home/donato/.cache/huggingface/datasets/cifar100/cifar100/1.0.0</span> <span style=\"color: #7f7f7f; text-decoration-color: #7f7f7f\">                    </span>\n<span style=\"color: #7fbfbf; text-decoration-color: #7fbfbf\">                    </span>         <span style=\"color: #800080; text-decoration-color: #800080\">/</span><span style=\"color: #ff00ff; text-decoration-color: #ff00ff\">f365c8b725c23e8f0f8d725c3641234d9331cd2f62919d1381d1baa5b3ba3142</span> <span style=\"color: #7f7f7f; text-decoration-color: #7f7f7f\">                    </span>\n<span style=\"color: #7fbfbf; text-decoration-color: #7fbfbf\">                    </span>         <span style=\"font-weight: bold\">)</span>                                                                 <span style=\"color: #7f7f7f; text-decoration-color: #7f7f7f\">                    </span>\n</pre>\n"
     },
     "metadata": {},
     "output_type": "display_data"
    },
    {
     "data": {
      "text/plain": "\u001B[2;36m                   \u001B[0m\u001B[2;36m \u001B[0m\u001B[34mINFO    \u001B[0m Global seed set to \u001B[1;36m42\u001B[0m                              \u001B]8;id=709570;file:///home/donato/miniconda3/envs/la/lib/python3.9/site-packages/pytorch_lightning/utilities/seed.py\u001B\\\u001B[2mpytorch_lightning.utilities.seed\u001B[0m\u001B]8;;\u001B\\\u001B[2m:\u001B[0m\u001B]8;id=776646;file:///home/donato/miniconda3/envs/la/lib/python3.9/site-packages/pytorch_lightning/utilities/seed.py#71\u001B\\\u001B[2m71\u001B[0m\u001B]8;;\u001B\\\n",
      "text/html": "<pre style=\"white-space:pre;overflow-x:auto;line-height:normal;font-family:Menlo,'DejaVu Sans Mono',consolas,'Courier New',monospace\"><span style=\"color: #7fbfbf; text-decoration-color: #7fbfbf\">                    </span><span style=\"color: #000080; text-decoration-color: #000080\">INFO    </span> Global seed set to <span style=\"color: #008080; text-decoration-color: #008080; font-weight: bold\">42</span>                              <a href=\"file:///home/donato/miniconda3/envs/la/lib/python3.9/site-packages/pytorch_lightning/utilities/seed.py\" target=\"_blank\"><span style=\"color: #7f7f7f; text-decoration-color: #7f7f7f\">pytorch_lightning.utilities.seed</span></a><span style=\"color: #7f7f7f; text-decoration-color: #7f7f7f\">:</span><a href=\"file:///home/donato/miniconda3/envs/la/lib/python3.9/site-packages/pytorch_lightning/utilities/seed.py#71\" target=\"_blank\"><span style=\"color: #7f7f7f; text-decoration-color: #7f7f7f\">71</span></a>\n</pre>\n"
     },
     "metadata": {},
     "output_type": "display_data"
    },
    {
     "data": {
      "text/plain": "DatasetDict({\n    train: Dataset({\n        features: ['img', 'fine_label', 'coarse_label'],\n        num_rows: 50000\n    })\n    test: Dataset({\n        features: ['img', 'fine_label', 'coarse_label'],\n        num_rows: 10000\n    })\n})"
     },
     "execution_count": 7,
     "metadata": {},
     "output_type": "execute_result"
    }
   ],
   "source": [
    "if not DATASET_DIR.exists() or not USE_CACHED:\n",
    "\n",
    "    dataset: DatasetDict = DatasetDict(\n",
    "        train=get_dataset(name=dataset_params.name, split=dataset_params.train_split, perc=dataset_params.perc),\n",
    "        test=get_dataset(name=dataset_params.name, split=dataset_params.test_split, perc=dataset_params.perc),\n",
    "    )\n",
    "else:\n",
    "    dataset: Dataset = load_from_disk(dataset_path=str(DATASET_DIR))\n",
    "\n",
    "dataset"
   ],
   "metadata": {
    "collapsed": false,
    "ExecuteTime": {
     "start_time": "2023-04-11T08:51:08.462871Z",
     "end_time": "2023-04-11T08:51:12.311909Z"
    }
   }
  },
  {
   "cell_type": "markdown",
   "metadata": {},
   "source": [
    "# Subdivide CIFAR100 into tasks"
   ]
  },
  {
   "cell_type": "markdown",
   "metadata": {},
   "source": [
    "### Params"
   ]
  },
  {
   "cell_type": "code",
   "execution_count": 8,
   "metadata": {
    "ExecuteTime": {
     "start_time": "2023-04-11T08:51:12.311152Z",
     "end_time": "2023-04-11T08:51:12.344621Z"
    }
   },
   "outputs": [],
   "source": [
    "num_shared_classes = 80\n",
    "num_novel_classes_per_task = 5"
   ]
  },
  {
   "cell_type": "markdown",
   "metadata": {},
   "source": [
    "## Add ids"
   ]
  },
  {
   "cell_type": "code",
   "execution_count": 9,
   "metadata": {
    "ExecuteTime": {
     "start_time": "2023-04-11T08:51:12.341915Z",
     "end_time": "2023-04-11T08:51:12.344978Z"
    }
   },
   "outputs": [
    {
     "data": {
      "text/plain": "\u001B[2;36m                   \u001B[0m\u001B[2;36m \u001B[0m\u001B[31mWARNING \u001B[0m Loading cached processed dataset at                        \u001B]8;id=234053;file:///home/donato/miniconda3/envs/la/lib/python3.9/site-packages/datasets/arrow_dataset.py\u001B\\\u001B[2mdatasets.arrow_dataset\u001B[0m\u001B]8;;\u001B\\\u001B[2m:\u001B[0m\u001B]8;id=146316;file:///home/donato/miniconda3/envs/la/lib/python3.9/site-packages/datasets/arrow_dataset.py#2993\u001B\\\u001B[2m2993\u001B[0m\u001B]8;;\u001B\\\n\u001B[2;36m                    \u001B[0m         \u001B[35m/home/donato/.cache/huggingface/datasets/cifar100/cifar100\u001B[0m \u001B[2m                           \u001B[0m\n\u001B[2;36m                    \u001B[0m         \u001B[35m/1.0.0/f365c8b725c23e8f0f8d725c3641234d9331cd2f62919d1381d\u001B[0m \u001B[2m                           \u001B[0m\n\u001B[2;36m                    \u001B[0m         \u001B[35m1baa5b3ba3142/\u001B[0m\u001B[95mcache-e102767c5d3fe32d.arrow\u001B[0m                 \u001B[2m                           \u001B[0m\n",
      "text/html": "<pre style=\"white-space:pre;overflow-x:auto;line-height:normal;font-family:Menlo,'DejaVu Sans Mono',consolas,'Courier New',monospace\"><span style=\"color: #7fbfbf; text-decoration-color: #7fbfbf\">                    </span><span style=\"color: #800000; text-decoration-color: #800000\">WARNING </span> Loading cached processed dataset at                        <a href=\"file:///home/donato/miniconda3/envs/la/lib/python3.9/site-packages/datasets/arrow_dataset.py\" target=\"_blank\"><span style=\"color: #7f7f7f; text-decoration-color: #7f7f7f\">datasets.arrow_dataset</span></a><span style=\"color: #7f7f7f; text-decoration-color: #7f7f7f\">:</span><a href=\"file:///home/donato/miniconda3/envs/la/lib/python3.9/site-packages/datasets/arrow_dataset.py#2993\" target=\"_blank\"><span style=\"color: #7f7f7f; text-decoration-color: #7f7f7f\">2993</span></a>\n<span style=\"color: #7fbfbf; text-decoration-color: #7fbfbf\">                    </span>         <span style=\"color: #800080; text-decoration-color: #800080\">/home/donato/.cache/huggingface/datasets/cifar100/cifar100</span> <span style=\"color: #7f7f7f; text-decoration-color: #7f7f7f\">                           </span>\n<span style=\"color: #7fbfbf; text-decoration-color: #7fbfbf\">                    </span>         <span style=\"color: #800080; text-decoration-color: #800080\">/1.0.0/f365c8b725c23e8f0f8d725c3641234d9331cd2f62919d1381d</span> <span style=\"color: #7f7f7f; text-decoration-color: #7f7f7f\">                           </span>\n<span style=\"color: #7fbfbf; text-decoration-color: #7fbfbf\">                    </span>         <span style=\"color: #800080; text-decoration-color: #800080\">1baa5b3ba3142/</span><span style=\"color: #ff00ff; text-decoration-color: #ff00ff\">cache-e102767c5d3fe32d.arrow</span>                 <span style=\"color: #7f7f7f; text-decoration-color: #7f7f7f\">                           </span>\n</pre>\n"
     },
     "metadata": {},
     "output_type": "display_data"
    },
    {
     "data": {
      "text/plain": "\u001B[2;36m                   \u001B[0m\u001B[2;36m \u001B[0m\u001B[31mWARNING \u001B[0m Loading cached processed dataset at                        \u001B]8;id=935518;file:///home/donato/miniconda3/envs/la/lib/python3.9/site-packages/datasets/arrow_dataset.py\u001B\\\u001B[2mdatasets.arrow_dataset\u001B[0m\u001B]8;;\u001B\\\u001B[2m:\u001B[0m\u001B]8;id=571858;file:///home/donato/miniconda3/envs/la/lib/python3.9/site-packages/datasets/arrow_dataset.py#2993\u001B\\\u001B[2m2993\u001B[0m\u001B]8;;\u001B\\\n\u001B[2;36m                    \u001B[0m         \u001B[35m/home/donato/.cache/huggingface/datasets/cifar100/cifar100\u001B[0m \u001B[2m                           \u001B[0m\n\u001B[2;36m                    \u001B[0m         \u001B[35m/1.0.0/f365c8b725c23e8f0f8d725c3641234d9331cd2f62919d1381d\u001B[0m \u001B[2m                           \u001B[0m\n\u001B[2;36m                    \u001B[0m         \u001B[35m1baa5b3ba3142/\u001B[0m\u001B[95mcache-c76aa00a4ed3a00d.arrow\u001B[0m                 \u001B[2m                           \u001B[0m\n",
      "text/html": "<pre style=\"white-space:pre;overflow-x:auto;line-height:normal;font-family:Menlo,'DejaVu Sans Mono',consolas,'Courier New',monospace\"><span style=\"color: #7fbfbf; text-decoration-color: #7fbfbf\">                    </span><span style=\"color: #800000; text-decoration-color: #800000\">WARNING </span> Loading cached processed dataset at                        <a href=\"file:///home/donato/miniconda3/envs/la/lib/python3.9/site-packages/datasets/arrow_dataset.py\" target=\"_blank\"><span style=\"color: #7f7f7f; text-decoration-color: #7f7f7f\">datasets.arrow_dataset</span></a><span style=\"color: #7f7f7f; text-decoration-color: #7f7f7f\">:</span><a href=\"file:///home/donato/miniconda3/envs/la/lib/python3.9/site-packages/datasets/arrow_dataset.py#2993\" target=\"_blank\"><span style=\"color: #7f7f7f; text-decoration-color: #7f7f7f\">2993</span></a>\n<span style=\"color: #7fbfbf; text-decoration-color: #7fbfbf\">                    </span>         <span style=\"color: #800080; text-decoration-color: #800080\">/home/donato/.cache/huggingface/datasets/cifar100/cifar100</span> <span style=\"color: #7f7f7f; text-decoration-color: #7f7f7f\">                           </span>\n<span style=\"color: #7fbfbf; text-decoration-color: #7fbfbf\">                    </span>         <span style=\"color: #800080; text-decoration-color: #800080\">/1.0.0/f365c8b725c23e8f0f8d725c3641234d9331cd2f62919d1381d</span> <span style=\"color: #7f7f7f; text-decoration-color: #7f7f7f\">                           </span>\n<span style=\"color: #7fbfbf; text-decoration-color: #7fbfbf\">                    </span>         <span style=\"color: #800080; text-decoration-color: #800080\">1baa5b3ba3142/</span><span style=\"color: #ff00ff; text-decoration-color: #ff00ff\">cache-c76aa00a4ed3a00d.arrow</span>                 <span style=\"color: #7f7f7f; text-decoration-color: #7f7f7f\">                           </span>\n</pre>\n"
     },
     "metadata": {},
     "output_type": "display_data"
    }
   ],
   "source": [
    "dataset[\"train\"] = dataset[\"train\"].map(lambda row, ind: {\"id\": ind}, batched=True, with_indices=True)\n",
    "dataset[\"test\"] = dataset[\"test\"].map(lambda row, ind: {\"id\": ind}, batched=True, with_indices=True)"
   ]
  },
  {
   "cell_type": "code",
   "execution_count": 10,
   "metadata": {
    "ExecuteTime": {
     "start_time": "2023-04-11T08:51:12.341983Z",
     "end_time": "2023-04-11T08:51:12.345045Z"
    }
   },
   "outputs": [],
   "source": [
    "num_train_samples_per_class = 500\n",
    "num_test_samples_per_class = 100"
   ]
  },
  {
   "cell_type": "code",
   "execution_count": 11,
   "metadata": {
    "ExecuteTime": {
     "start_time": "2023-04-11T08:51:12.342014Z",
     "end_time": "2023-04-11T08:51:12.345134Z"
    }
   },
   "outputs": [
    {
     "name": "stdout",
     "output_type": "stream",
     "text": [
      "100 classes in total\n"
     ]
    }
   ],
   "source": [
    "all_classes = dataset[\"train\"].features[\"fine_label\"].names\n",
    "all_classes_ids = [id for id, _ in enumerate(all_classes)]\n",
    "class_str_to_id = {c: i for i, c in enumerate(all_classes)}\n",
    "num_classes = len(all_classes)\n",
    "print(f\"{num_classes} classes in total\")"
   ]
  },
  {
   "cell_type": "markdown",
   "metadata": {},
   "source": [
    "### Sample shared classes"
   ]
  },
  {
   "cell_type": "code",
   "execution_count": 12,
   "metadata": {
    "ExecuteTime": {
     "start_time": "2023-04-11T08:51:12.342120Z",
     "end_time": "2023-04-11T08:51:12.345215Z"
    }
   },
   "outputs": [],
   "source": [
    "shared_classes = set(random.sample(all_classes_ids, k=num_shared_classes))\n",
    "\n",
    "assert len(shared_classes) == num_shared_classes"
   ]
  },
  {
   "cell_type": "code",
   "execution_count": 13,
   "metadata": {
    "ExecuteTime": {
     "start_time": "2023-04-11T08:51:12.342139Z",
     "end_time": "2023-04-11T08:51:12.345259Z"
    }
   },
   "outputs": [],
   "source": [
    "non_shared_classes = set([c for c in all_classes_ids if c not in shared_classes])\n",
    "\n",
    "assert len(non_shared_classes) == num_classes - num_shared_classes"
   ]
  },
  {
   "cell_type": "markdown",
   "metadata": {},
   "source": [
    "### Subdivide data into tasks defined by different classes subsets"
   ]
  },
  {
   "cell_type": "code",
   "execution_count": 14,
   "metadata": {
    "ExecuteTime": {
     "start_time": "2023-04-11T08:51:12.342157Z",
     "end_time": "2023-04-11T08:51:12.345299Z"
    }
   },
   "outputs": [],
   "source": [
    "num_tasks = (num_classes - num_shared_classes) // num_novel_classes_per_task"
   ]
  },
  {
   "cell_type": "code",
   "execution_count": 15,
   "metadata": {
    "ExecuteTime": {
     "start_time": "2023-04-11T08:51:12.342175Z",
     "end_time": "2023-04-11T08:51:36.329437Z"
    }
   },
   "outputs": [
    {
     "data": {
      "text/plain": "Filter:   0%|          | 0/50000 [00:00<?, ? examples/s]",
      "application/vnd.jupyter.widget-view+json": {
       "version_major": 2,
       "version_minor": 0,
       "model_id": "5b5ebd8b89e947b190e9052228cdb466"
      }
     },
     "metadata": {},
     "output_type": "display_data"
    },
    {
     "data": {
      "text/plain": "Filter:   0%|          | 0/10000 [00:00<?, ? examples/s]",
      "application/vnd.jupyter.widget-view+json": {
       "version_major": 2,
       "version_minor": 0,
       "model_id": "4cde10f3fe9541f6970d18d7e84be15a"
      }
     },
     "metadata": {},
     "output_type": "display_data"
    },
    {
     "data": {
      "text/plain": "Filter:   0%|          | 0/50000 [00:00<?, ? examples/s]",
      "application/vnd.jupyter.widget-view+json": {
       "version_major": 2,
       "version_minor": 0,
       "model_id": "10984422420a4bc7a303b3721979f4e1"
      }
     },
     "metadata": {},
     "output_type": "display_data"
    },
    {
     "data": {
      "text/plain": "Map:   0%|          | 0/42500 [00:00<?, ? examples/s]",
      "application/vnd.jupyter.widget-view+json": {
       "version_major": 2,
       "version_minor": 0,
       "model_id": "9b4cd3a9cb6d41a0bc770297286a08af"
      }
     },
     "metadata": {},
     "output_type": "display_data"
    },
    {
     "data": {
      "text/plain": "Filter:   0%|          | 0/10000 [00:00<?, ? examples/s]",
      "application/vnd.jupyter.widget-view+json": {
       "version_major": 2,
       "version_minor": 0,
       "model_id": "5d0a127993224344904b5e3d2b75eb38"
      }
     },
     "metadata": {},
     "output_type": "display_data"
    },
    {
     "data": {
      "text/plain": "Map:   0%|          | 0/8500 [00:00<?, ? examples/s]",
      "application/vnd.jupyter.widget-view+json": {
       "version_major": 2,
       "version_minor": 0,
       "model_id": "5510fff7b99d421fb2e2e8bbdccc9fea"
      }
     },
     "metadata": {},
     "output_type": "display_data"
    },
    {
     "data": {
      "text/plain": "Filter:   0%|          | 0/50000 [00:00<?, ? examples/s]",
      "application/vnd.jupyter.widget-view+json": {
       "version_major": 2,
       "version_minor": 0,
       "model_id": "e5a4d370ffbc44789e27a404227191f2"
      }
     },
     "metadata": {},
     "output_type": "display_data"
    },
    {
     "data": {
      "text/plain": "Map:   0%|          | 0/42500 [00:00<?, ? examples/s]",
      "application/vnd.jupyter.widget-view+json": {
       "version_major": 2,
       "version_minor": 0,
       "model_id": "589af71930ab4c08a38fd8e3ac065171"
      }
     },
     "metadata": {},
     "output_type": "display_data"
    },
    {
     "data": {
      "text/plain": "Filter:   0%|          | 0/10000 [00:00<?, ? examples/s]",
      "application/vnd.jupyter.widget-view+json": {
       "version_major": 2,
       "version_minor": 0,
       "model_id": "d3908cf9c5254140bb6d6c48f386f949"
      }
     },
     "metadata": {},
     "output_type": "display_data"
    },
    {
     "data": {
      "text/plain": "Map:   0%|          | 0/8500 [00:00<?, ? examples/s]",
      "application/vnd.jupyter.widget-view+json": {
       "version_major": 2,
       "version_minor": 0,
       "model_id": "76ffa284f23e49e4be9da5ac2542f915"
      }
     },
     "metadata": {},
     "output_type": "display_data"
    },
    {
     "data": {
      "text/plain": "Filter:   0%|          | 0/50000 [00:00<?, ? examples/s]",
      "application/vnd.jupyter.widget-view+json": {
       "version_major": 2,
       "version_minor": 0,
       "model_id": "361b2d794aaa41aeb826f69f56920d39"
      }
     },
     "metadata": {},
     "output_type": "display_data"
    },
    {
     "data": {
      "text/plain": "Map:   0%|          | 0/42500 [00:00<?, ? examples/s]",
      "application/vnd.jupyter.widget-view+json": {
       "version_major": 2,
       "version_minor": 0,
       "model_id": "af6e9dc00be04e05a0d535dc15ab1ce7"
      }
     },
     "metadata": {},
     "output_type": "display_data"
    },
    {
     "data": {
      "text/plain": "Filter:   0%|          | 0/10000 [00:00<?, ? examples/s]",
      "application/vnd.jupyter.widget-view+json": {
       "version_major": 2,
       "version_minor": 0,
       "model_id": "5f15d512eef84883a8a1370256b30604"
      }
     },
     "metadata": {},
     "output_type": "display_data"
    },
    {
     "data": {
      "text/plain": "Map:   0%|          | 0/8500 [00:00<?, ? examples/s]",
      "application/vnd.jupyter.widget-view+json": {
       "version_major": 2,
       "version_minor": 0,
       "model_id": "0a5c93f9c68f4401af7d93c1a1d98cda"
      }
     },
     "metadata": {},
     "output_type": "display_data"
    },
    {
     "data": {
      "text/plain": "Filter:   0%|          | 0/50000 [00:00<?, ? examples/s]",
      "application/vnd.jupyter.widget-view+json": {
       "version_major": 2,
       "version_minor": 0,
       "model_id": "8315aceff60e4fd3bde56b29f6ddb183"
      }
     },
     "metadata": {},
     "output_type": "display_data"
    },
    {
     "data": {
      "text/plain": "Map:   0%|          | 0/42500 [00:00<?, ? examples/s]",
      "application/vnd.jupyter.widget-view+json": {
       "version_major": 2,
       "version_minor": 0,
       "model_id": "7fb9d332eef342fc900eac739a2bcccd"
      }
     },
     "metadata": {},
     "output_type": "display_data"
    },
    {
     "data": {
      "text/plain": "Filter:   0%|          | 0/10000 [00:00<?, ? examples/s]",
      "application/vnd.jupyter.widget-view+json": {
       "version_major": 2,
       "version_minor": 0,
       "model_id": "1a414571d78249b8bf7e66493b260083"
      }
     },
     "metadata": {},
     "output_type": "display_data"
    },
    {
     "data": {
      "text/plain": "Map:   0%|          | 0/8500 [00:00<?, ? examples/s]",
      "application/vnd.jupyter.widget-view+json": {
       "version_major": 2,
       "version_minor": 0,
       "model_id": "5f24204b24664d10a748131c1f793c4c"
      }
     },
     "metadata": {},
     "output_type": "display_data"
    }
   ],
   "source": [
    "new_dataset = MyDatasetDict()\n",
    "global_to_local_class_mappings = {}\n",
    "\n",
    "# task 0 is a dummy task that consists of the samples for all the classes\n",
    "new_dataset[f\"task_0_train\"] = dataset[\"train\"]\n",
    "new_dataset[f\"task_0_test\"] = dataset[\"test\"]\n",
    "\n",
    "global_to_local_class_mappings[\"task_0\"] = {class_str_to_id[c]: i for i, c in enumerate(all_classes)}\n",
    "\n",
    "shared_train_samples = dataset[\"train\"].filter(lambda x: x[\"fine_label\"] in shared_classes)\n",
    "shared_test_samples = dataset[\"test\"].filter(lambda x: x[\"fine_label\"] in shared_classes)\n",
    "\n",
    "for i in range(1, num_tasks + 1):\n",
    "    task_novel_classes = set(random.sample(list(non_shared_classes), k=num_novel_classes_per_task))\n",
    "\n",
    "    # remove the classes sampled for this task so that all tasks have disjoint novel classes\n",
    "    non_shared_classes = non_shared_classes.difference(task_novel_classes)\n",
    "\n",
    "    task_classes = shared_classes.union(task_novel_classes)\n",
    "\n",
    "    global_to_local_class_map = {c: i for i, c in enumerate(list(task_classes))}\n",
    "\n",
    "    novel_train_samples = dataset[\"train\"].filter(lambda x: x[\"fine_label\"] in task_novel_classes)\n",
    "\n",
    "    task_train_samples = concatenate_datasets([shared_train_samples, novel_train_samples])\n",
    "\n",
    "    task_train_samples = task_train_samples.map(\n",
    "        lambda row: {\"fine_label\": global_to_local_class_map[row[\"fine_label\"]]}\n",
    "    )\n",
    "\n",
    "    novel_test_samples = dataset[\"test\"].filter(lambda x: x[\"fine_label\"] in task_novel_classes)\n",
    "\n",
    "    task_test_samples = concatenate_datasets([shared_test_samples, novel_test_samples])\n",
    "\n",
    "    task_test_samples = task_test_samples.map(lambda row: {\"fine_label\": global_to_local_class_map[row[\"fine_label\"]]})\n",
    "\n",
    "    assert len(task_train_samples) == num_train_samples_per_class * len(task_classes)\n",
    "    assert len(task_test_samples) == num_test_samples_per_class * len(task_classes)\n",
    "\n",
    "    global_to_local_class_mappings[f\"task_{i}\"] = global_to_local_class_map\n",
    "\n",
    "    new_dataset[f\"task_{i}_train\"] = task_train_samples\n",
    "    new_dataset[f\"task_{i}_test\"] = task_test_samples"
   ]
  },
  {
   "cell_type": "code",
   "execution_count": 18,
   "metadata": {
    "ExecuteTime": {
     "start_time": "2023-04-11T08:52:25.391522Z",
     "end_time": "2023-04-11T08:53:01.339952Z"
    }
   },
   "outputs": [
    {
     "data": {
      "text/plain": "Saving the dataset (0/1 shards):   0%|          | 0/50000 [00:00<?, ? examples/s]",
      "application/vnd.jupyter.widget-view+json": {
       "version_major": 2,
       "version_minor": 0,
       "model_id": "9a13938bd01b41eea4f6d7d5bf8c91b9"
      }
     },
     "metadata": {},
     "output_type": "display_data"
    },
    {
     "data": {
      "text/plain": "Saving the dataset (0/1 shards):   0%|          | 0/10000 [00:00<?, ? examples/s]",
      "application/vnd.jupyter.widget-view+json": {
       "version_major": 2,
       "version_minor": 0,
       "model_id": "48d78a8f70fb434d93198703fbf91d98"
      }
     },
     "metadata": {},
     "output_type": "display_data"
    },
    {
     "data": {
      "text/plain": "Saving the dataset (0/1 shards):   0%|          | 0/42500 [00:00<?, ? examples/s]",
      "application/vnd.jupyter.widget-view+json": {
       "version_major": 2,
       "version_minor": 0,
       "model_id": "98b9df33b94642059b7f5b875e469b81"
      }
     },
     "metadata": {},
     "output_type": "display_data"
    },
    {
     "data": {
      "text/plain": "Saving the dataset (0/1 shards):   0%|          | 0/8500 [00:00<?, ? examples/s]",
      "application/vnd.jupyter.widget-view+json": {
       "version_major": 2,
       "version_minor": 0,
       "model_id": "331a51068ea34162b17754cd175b8b3d"
      }
     },
     "metadata": {},
     "output_type": "display_data"
    },
    {
     "data": {
      "text/plain": "Saving the dataset (0/1 shards):   0%|          | 0/42500 [00:00<?, ? examples/s]",
      "application/vnd.jupyter.widget-view+json": {
       "version_major": 2,
       "version_minor": 0,
       "model_id": "09f7f0a3e6ba44dc9c79c677bf23ab8e"
      }
     },
     "metadata": {},
     "output_type": "display_data"
    },
    {
     "data": {
      "text/plain": "Saving the dataset (0/1 shards):   0%|          | 0/8500 [00:00<?, ? examples/s]",
      "application/vnd.jupyter.widget-view+json": {
       "version_major": 2,
       "version_minor": 0,
       "model_id": "28aaa6f9296f44a08a8ca8d81bf30353"
      }
     },
     "metadata": {},
     "output_type": "display_data"
    },
    {
     "data": {
      "text/plain": "Saving the dataset (0/1 shards):   0%|          | 0/42500 [00:00<?, ? examples/s]",
      "application/vnd.jupyter.widget-view+json": {
       "version_major": 2,
       "version_minor": 0,
       "model_id": "5b0bddc97dbd4396964ceb29c2e08d05"
      }
     },
     "metadata": {},
     "output_type": "display_data"
    },
    {
     "data": {
      "text/plain": "Saving the dataset (0/1 shards):   0%|          | 0/8500 [00:00<?, ? examples/s]",
      "application/vnd.jupyter.widget-view+json": {
       "version_major": 2,
       "version_minor": 0,
       "model_id": "dea3868e78014a609b4d3480e7d6dee6"
      }
     },
     "metadata": {},
     "output_type": "display_data"
    },
    {
     "data": {
      "text/plain": "Saving the dataset (0/1 shards):   0%|          | 0/42500 [00:00<?, ? examples/s]",
      "application/vnd.jupyter.widget-view+json": {
       "version_major": 2,
       "version_minor": 0,
       "model_id": "63da9efc71004ca98ac674457be44102"
      }
     },
     "metadata": {},
     "output_type": "display_data"
    },
    {
     "data": {
      "text/plain": "Saving the dataset (0/1 shards):   0%|          | 0/8500 [00:00<?, ? examples/s]",
      "application/vnd.jupyter.widget-view+json": {
       "version_major": 2,
       "version_minor": 0,
       "model_id": "9f196bb2e24b47369313442cf4117610"
      }
     },
     "metadata": {},
     "output_type": "display_data"
    }
   ],
   "source": [
    "metadata = {\n",
    "    \"num_train_samples_per_class\": num_train_samples_per_class,\n",
    "    \"num_test_samples_per_class\": num_test_samples_per_class,\n",
    "    \"num_shared_classes\": num_shared_classes,\n",
    "    \"num_novel_classes_per_task\": num_novel_classes_per_task,\n",
    "    \"num_tasks\": num_tasks,\n",
    "    \"shared_classes\": list(shared_classes),\n",
    "    \"non_shared_classes\": list(non_shared_classes),\n",
    "    \"all_classes\": all_classes,\n",
    "    \"all_classes_ids\": all_classes_ids,\n",
    "    \"num_classes\": num_classes,\n",
    "    \"global_to_local_class_mappings\": global_to_local_class_mappings,\n",
    "}\n",
    "\n",
    "new_dataset[\"metadata\"] = metadata\n",
    "\n",
    "output_folder = PROJECT_ROOT / \"data\" / \"cifar100_tasks\"\n",
    "new_dataset.save_to_disk(output_folder)"
   ]
  },
  {
   "cell_type": "code",
   "execution_count": 17,
   "metadata": {
    "ExecuteTime": {
     "start_time": "2023-04-11T08:51:37.838942Z",
     "end_time": "2023-04-11T08:51:37.882576Z"
    }
   },
   "outputs": [
    {
     "name": "stdout",
     "output_type": "stream",
     "text": [
      "{'task_0': {0: 0, 1: 1, 2: 2, 3: 3, 4: 4, 5: 5, 6: 6, 7: 7, 8: 8, 9: 9, 10: 10, 11: 11, 12: 12, 13: 13, 14: 14, 15: 15, 16: 16, 17: 17, 18: 18, 19: 19, 20: 20, 21: 21, 22: 22, 23: 23, 24: 24, 25: 25, 26: 26, 27: 27, 28: 28, 29: 29, 30: 30, 31: 31, 32: 32, 33: 33, 34: 34, 35: 35, 36: 36, 37: 37, 38: 38, 39: 39, 40: 40, 41: 41, 42: 42, 43: 43, 44: 44, 45: 45, 46: 46, 47: 47, 48: 48, 49: 49, 50: 50, 51: 51, 52: 52, 53: 53, 54: 54, 55: 55, 56: 56, 57: 57, 58: 58, 59: 59, 60: 60, 61: 61, 62: 62, 63: 63, 64: 64, 65: 65, 66: 66, 67: 67, 68: 68, 69: 69, 70: 70, 71: 71, 72: 72, 73: 73, 74: 74, 75: 75, 76: 76, 77: 77, 78: 78, 79: 79, 80: 80, 81: 81, 82: 82, 83: 83, 84: 84, 85: 85, 86: 86, 87: 87, 88: 88, 89: 89, 90: 90, 91: 91, 92: 92, 93: 93, 94: 94, 95: 95, 96: 96, 97: 97, 98: 98, 99: 99}, 'task_1': {0: 0, 2: 1, 3: 2, 4: 3, 5: 4, 6: 5, 7: 6, 8: 7, 9: 8, 10: 9, 11: 10, 12: 11, 13: 12, 14: 13, 17: 14, 18: 15, 19: 16, 20: 17, 22: 18, 23: 19, 24: 20, 25: 21, 27: 22, 28: 23, 29: 24, 31: 25, 32: 26, 33: 27, 34: 28, 35: 29, 36: 30, 37: 31, 38: 32, 39: 33, 40: 34, 42: 35, 43: 36, 44: 37, 45: 38, 46: 39, 48: 40, 49: 41, 50: 42, 51: 43, 52: 44, 53: 45, 54: 46, 55: 47, 56: 48, 57: 49, 58: 50, 59: 51, 60: 52, 61: 53, 63: 54, 64: 55, 67: 56, 68: 57, 69: 58, 71: 59, 72: 60, 74: 61, 75: 62, 76: 63, 77: 64, 78: 65, 80: 66, 81: 67, 82: 68, 83: 69, 84: 70, 85: 71, 86: 72, 87: 73, 88: 74, 89: 75, 91: 76, 92: 77, 93: 78, 94: 79, 95: 80, 96: 81, 97: 82, 98: 83, 99: 84}, 'task_2': {0: 0, 1: 1, 2: 2, 3: 3, 4: 4, 5: 5, 6: 6, 7: 7, 8: 8, 10: 9, 11: 10, 12: 11, 13: 12, 14: 13, 17: 14, 18: 15, 19: 16, 20: 17, 22: 18, 23: 19, 24: 20, 25: 21, 26: 22, 27: 23, 28: 24, 29: 25, 32: 26, 33: 27, 34: 28, 35: 29, 36: 30, 37: 31, 38: 32, 39: 33, 40: 34, 41: 35, 42: 36, 43: 37, 44: 38, 45: 39, 46: 40, 48: 41, 49: 42, 50: 43, 52: 44, 53: 45, 54: 46, 55: 47, 56: 48, 57: 49, 58: 50, 59: 51, 60: 52, 61: 53, 62: 54, 63: 55, 64: 56, 67: 57, 68: 58, 69: 59, 71: 60, 72: 61, 73: 62, 74: 63, 75: 64, 76: 65, 77: 66, 78: 67, 80: 68, 81: 69, 82: 70, 83: 71, 84: 72, 85: 73, 86: 74, 88: 75, 91: 76, 92: 77, 93: 78, 94: 79, 95: 80, 96: 81, 97: 82, 98: 83, 99: 84}, 'task_3': {0: 0, 2: 1, 3: 2, 4: 3, 5: 4, 6: 5, 7: 6, 8: 7, 10: 8, 11: 9, 12: 10, 13: 11, 14: 12, 15: 13, 16: 14, 17: 15, 18: 16, 19: 17, 20: 18, 22: 19, 23: 20, 24: 21, 25: 22, 27: 23, 28: 24, 29: 25, 30: 26, 32: 27, 33: 28, 34: 29, 35: 30, 36: 31, 37: 32, 38: 33, 39: 34, 40: 35, 42: 36, 43: 37, 44: 38, 45: 39, 46: 40, 47: 41, 48: 42, 49: 43, 50: 44, 52: 45, 53: 46, 54: 47, 55: 48, 56: 49, 57: 50, 58: 51, 59: 52, 60: 53, 61: 54, 63: 55, 64: 56, 66: 57, 67: 58, 68: 59, 69: 60, 71: 61, 72: 62, 74: 63, 75: 64, 76: 65, 77: 66, 78: 67, 80: 68, 81: 69, 82: 70, 83: 71, 84: 72, 85: 73, 86: 74, 88: 75, 91: 76, 92: 77, 93: 78, 94: 79, 95: 80, 96: 81, 97: 82, 98: 83, 99: 84}, 'task_4': {0: 0, 2: 1, 3: 2, 4: 3, 5: 4, 6: 5, 7: 6, 8: 7, 10: 8, 11: 9, 12: 10, 13: 11, 14: 12, 17: 13, 18: 14, 19: 15, 20: 16, 21: 17, 22: 18, 23: 19, 24: 20, 25: 21, 27: 22, 28: 23, 29: 24, 32: 25, 33: 26, 34: 27, 35: 28, 36: 29, 37: 30, 38: 31, 39: 32, 40: 33, 42: 34, 43: 35, 44: 36, 45: 37, 46: 38, 48: 39, 49: 40, 50: 41, 52: 42, 53: 43, 54: 44, 55: 45, 56: 46, 57: 47, 58: 48, 59: 49, 60: 50, 61: 51, 63: 52, 64: 53, 65: 54, 67: 55, 68: 56, 69: 57, 70: 58, 71: 59, 72: 60, 74: 61, 75: 62, 76: 63, 77: 64, 78: 65, 79: 66, 80: 67, 81: 68, 82: 69, 83: 70, 84: 71, 85: 72, 86: 73, 88: 74, 90: 75, 91: 76, 92: 77, 93: 78, 94: 79, 95: 80, 96: 81, 97: 82, 98: 83, 99: 84}}\n"
     ]
    }
   ],
   "source": [
    "print(metadata[\"global_to_local_class_mappings\"])\n"
   ]
  }
 ],
 "metadata": {
  "kernelspec": {
   "display_name": "Python 3",
   "language": "python",
   "name": "python3"
  },
  "language_info": {
   "codemirror_mode": {
    "name": "ipython",
    "version": 2
   },
   "file_extension": ".py",
   "mimetype": "text/x-python",
   "name": "python",
   "nbconvert_exporter": "python",
   "pygments_lexer": "ipython2",
   "version": "2.7.6"
  }
 },
 "nbformat": 4,
 "nbformat_minor": 0
}
