{
 "cells": [
  {
   "cell_type": "markdown",
   "metadata": {},
   "source": [
    "# Imports"
   ]
  },
  {
   "cell_type": "code",
   "execution_count": null,
   "metadata": {},
   "outputs": [],
   "source": [
    "import random\n",
    "from collections import namedtuple\n",
    "from pathlib import Path\n",
    "from pytorch_lightning import seed_everything\n",
    "\n",
    "from datasets import load_dataset, DatasetDict, load_from_disk, Dataset, concatenate_datasets\n",
    "from la.utils.utils import MyDatasetDict\n",
    "from nn_core.common import PROJECT_ROOT"
   ]
  },
  {
   "cell_type": "code",
   "execution_count": null,
   "metadata": {},
   "outputs": [],
   "source": [
    "USE_CACHED: bool = True\n",
    "seed = 42\n",
    "seed_everything(seed)"
   ]
  },
  {
   "cell_type": "markdown",
   "metadata": {},
   "source": [
    "# Data loading"
   ]
  },
  {
   "cell_type": "code",
   "execution_count": null,
   "metadata": {},
   "outputs": [],
   "source": [
    "def get_dataset(name: str, split: str, perc: float, seed: int = 42):\n",
    "    \"\"\"\n",
    "    Load a dataset from the HuggingFace datasets library.\n",
    "    \"\"\"\n",
    "    assert 0 < perc <= 1\n",
    "    dataset = load_dataset(\n",
    "        name,\n",
    "        split=split,\n",
    "        use_auth_token=True,\n",
    "    )\n",
    "\n",
    "    # Select a random subset\n",
    "    if perc != 1:\n",
    "        dataset = dataset.shuffle(seed=seed).select(list(range(int(len(dataset) * perc))))\n",
    "\n",
    "    return dataset"
   ]
  },
  {
   "cell_type": "code",
   "execution_count": null,
   "metadata": {},
   "outputs": [],
   "source": [
    "DatasetParams = namedtuple(\"DatasetParams\", [\"name\", \"fine_grained\", \"train_split\", \"test_split\", \"perc\", \"hf_key\"])"
   ]
  },
  {
   "cell_type": "code",
   "execution_count": null,
   "metadata": {},
   "outputs": [],
   "source": [
    "dataset_name = \"tiny_imagenet\"  # tiny_imagenet or cifar100\n",
    "\n",
    "dataset_ref = {\"tiny_imagenet\": \"Maysee/tiny-imagenet\", \"cifar100\": \"cifar100\"}\n",
    "\n",
    "dataset_train_split = {\"tiny_imagenet\": \"train\", \"cifar100\": \"train\"}\n",
    "\n",
    "dataset_test_split = {\"tiny_imagenet\": \"valid\", \"cifar100\": \"test\"}\n",
    "\n",
    "dataset_label = {\"tiny_imagenet\": \"label\", \"cifar100\": \"fine_label\"}\n",
    "\n",
    "label_key = dataset_label[dataset_name]\n",
    "\n",
    "dataset_num_train_samples_per_class = {\"tiny_imagenet\": 500, \"cifar100\": 500}\n",
    "\n",
    "dataset_num_test_samples_per_class = {\"tiny_imagenet\": 50, \"cifar100\": 100}"
   ]
  },
  {
   "cell_type": "code",
   "execution_count": null,
   "metadata": {},
   "outputs": [],
   "source": [
    "dataset_params: DatasetParams = DatasetParams(\n",
    "    dataset_ref[dataset_name],\n",
    "    None,\n",
    "    dataset_train_split[dataset_name],\n",
    "    dataset_test_split[dataset_name],\n",
    "    1,\n",
    "    (dataset_ref[dataset_name],),\n",
    ")"
   ]
  },
  {
   "cell_type": "code",
   "execution_count": null,
   "metadata": {},
   "outputs": [],
   "source": [
    "DATASET_KEY = \"_\".join(map(str, [v for k, v in dataset_params._asdict().items() if k != \"hf_key\" and v is not None]))\n",
    "DATASET_DIR: Path = PROJECT_ROOT / \"data\" / \"encoded_data\" / DATASET_KEY\n",
    "DATASET_DIR"
   ]
  },
  {
   "cell_type": "code",
   "execution_count": null,
   "metadata": {},
   "outputs": [],
   "source": [
    "if not DATASET_DIR.exists() or not USE_CACHED:\n",
    "\n",
    "    dataset: DatasetDict = DatasetDict(\n",
    "        train=get_dataset(name=dataset_params.name, split=dataset_params.train_split, perc=dataset_params.perc),\n",
    "        test=get_dataset(name=dataset_params.name, split=dataset_params.test_split, perc=dataset_params.perc),\n",
    "    )\n",
    "else:\n",
    "    dataset: Dataset = load_from_disk(dataset_path=str(DATASET_DIR))\n",
    "\n",
    "dataset"
   ]
  },
  {
   "cell_type": "markdown",
   "metadata": {},
   "source": [
    "# Subdivide into tasks"
   ]
  },
  {
   "cell_type": "markdown",
   "metadata": {},
   "source": [
    "### Params"
   ]
  },
  {
   "cell_type": "code",
   "execution_count": null,
   "metadata": {},
   "outputs": [],
   "source": [
    "num_shared_classes = 100\n",
    "num_novel_classes_per_task = 20"
   ]
  },
  {
   "cell_type": "markdown",
   "metadata": {},
   "source": [
    "## Add ids"
   ]
  },
  {
   "cell_type": "code",
   "execution_count": null,
   "metadata": {},
   "outputs": [],
   "source": [
    "dataset[\"train\"] = dataset[\"train\"].map(lambda row, ind: {\"id\": ind}, batched=True, with_indices=True)\n",
    "dataset[\"test\"] = dataset[\"test\"].map(lambda row, ind: {\"id\": ind}, batched=True, with_indices=True)"
   ]
  },
  {
   "cell_type": "code",
   "execution_count": null,
   "metadata": {},
   "outputs": [],
   "source": [
    "num_train_samples_per_class = dataset_num_train_samples_per_class[dataset_name]\n",
    "num_test_samples_per_class = dataset_num_test_samples_per_class[dataset_name]"
   ]
  },
  {
   "cell_type": "code",
   "execution_count": null,
   "metadata": {},
   "outputs": [],
   "source": [
    "all_classes = dataset[\"train\"].features[label_key].names\n",
    "all_classes_ids = [id for id, _ in enumerate(all_classes)]\n",
    "class_str_to_id = {c: i for i, c in enumerate(all_classes)}\n",
    "num_classes = len(all_classes)\n",
    "print(f\"{num_classes} classes in total\")"
   ]
  },
  {
   "cell_type": "markdown",
   "metadata": {},
   "source": [
    "### Sample shared classes"
   ]
  },
  {
   "cell_type": "code",
   "execution_count": null,
   "metadata": {},
   "outputs": [],
   "source": [
    "shared_classes = set(random.sample(all_classes_ids, k=num_shared_classes))\n",
    "\n",
    "assert len(shared_classes) == num_shared_classes"
   ]
  },
  {
   "cell_type": "code",
   "execution_count": null,
   "metadata": {},
   "outputs": [],
   "source": [
    "non_shared_classes = set([c for c in all_classes_ids if c not in shared_classes])\n",
    "\n",
    "assert len(non_shared_classes) == num_classes - num_shared_classes"
   ]
  },
  {
   "cell_type": "markdown",
   "metadata": {},
   "source": [
    "### Subdivide data into tasks defined by different classes subsets"
   ]
  },
  {
   "cell_type": "code",
   "execution_count": null,
   "metadata": {},
   "outputs": [],
   "source": [
    "num_tasks = (num_classes - num_shared_classes) // num_novel_classes_per_task"
   ]
  },
  {
   "cell_type": "code",
   "execution_count": null,
   "metadata": {},
   "outputs": [],
   "source": [
    "new_dataset = MyDatasetDict()\n",
    "global_to_local_class_mappings = {}\n",
    "\n",
    "# task 0 is a dummy task that consists of the samples for all the classes\n",
    "new_dataset[f\"task_0_train\"] = dataset[\"train\"]\n",
    "new_dataset[f\"task_0_test\"] = dataset[\"test\"]\n",
    "\n",
    "global_to_local_class_mappings[\"task_0\"] = {class_str_to_id[c]: i for i, c in enumerate(all_classes)}\n",
    "\n",
    "shared_train_samples = dataset[\"train\"].filter(lambda x: x[label_key] in shared_classes)\n",
    "shared_test_samples = dataset[\"test\"].filter(lambda x: x[label_key] in shared_classes)\n",
    "\n",
    "for i in range(1, num_tasks + 1):\n",
    "    task_novel_classes = set(random.sample(list(non_shared_classes), k=num_novel_classes_per_task))\n",
    "\n",
    "    # remove the classes sampled for this task so that all tasks have disjoint novel classes\n",
    "    non_shared_classes = non_shared_classes.difference(task_novel_classes)\n",
    "\n",
    "    task_classes = shared_classes.union(task_novel_classes)\n",
    "\n",
    "    global_to_local_class_map = {c: i for i, c in enumerate(list(task_classes))}\n",
    "\n",
    "    novel_train_samples = dataset[\"train\"].filter(lambda x: x[label_key] in task_novel_classes)\n",
    "\n",
    "    task_train_samples = concatenate_datasets([shared_train_samples, novel_train_samples])\n",
    "\n",
    "    task_train_samples = task_train_samples.map(lambda row: {\"fine_label\": global_to_local_class_map[row[label_key]]})\n",
    "\n",
    "    novel_test_samples = dataset[\"test\"].filter(lambda x: x[label_key] in task_novel_classes)\n",
    "\n",
    "    task_test_samples = concatenate_datasets([shared_test_samples, novel_test_samples])\n",
    "\n",
    "    task_test_samples = task_test_samples.map(lambda row: {\"fine_label\": global_to_local_class_map[row[label_key]]})\n",
    "\n",
    "    print(task_classes)\n",
    "    assert len(task_train_samples) == num_train_samples_per_class * len(task_classes)\n",
    "    assert len(task_test_samples) == num_test_samples_per_class * len(task_classes)\n",
    "\n",
    "    global_to_local_class_mappings[f\"task_{i}\"] = global_to_local_class_map\n",
    "\n",
    "    new_dataset[f\"task_{i}_train\"] = task_train_samples\n",
    "    new_dataset[f\"task_{i}_test\"] = task_test_samples"
   ]
  },
  {
   "cell_type": "code",
   "execution_count": null,
   "metadata": {},
   "outputs": [],
   "source": [
    "metadata = {\n",
    "    \"num_train_samples_per_class\": num_train_samples_per_class,\n",
    "    \"num_test_samples_per_class\": num_test_samples_per_class,\n",
    "    \"num_shared_classes\": num_shared_classes,\n",
    "    \"num_novel_classes_per_task\": num_novel_classes_per_task,\n",
    "    \"num_tasks\": num_tasks,\n",
    "    \"shared_classes\": list(shared_classes),\n",
    "    \"non_shared_classes\": list(non_shared_classes),\n",
    "    \"all_classes\": all_classes,\n",
    "    \"all_classes_ids\": all_classes_ids,\n",
    "    \"num_classes\": num_classes,\n",
    "    \"global_to_local_class_mappings\": global_to_local_class_mappings,\n",
    "}\n",
    "\n",
    "new_dataset[\"metadata\"] = metadata"
   ]
  },
  {
   "cell_type": "code",
   "execution_count": null,
   "metadata": {},
   "outputs": [],
   "source": [
    "print(metadata[\"global_to_local_class_mappings\"])"
   ]
  },
  {
   "cell_type": "markdown",
   "metadata": {},
   "source": [
    "# Save to file"
   ]
  },
  {
   "cell_type": "code",
   "execution_count": null,
   "metadata": {},
   "outputs": [],
   "source": [
    "dataset_folder = PROJECT_ROOT / \"data\" / f\"{dataset_name}\"\n",
    "\n",
    "if not dataset_folder.exists():\n",
    "    dataset_folder.mkdir()\n",
    "\n",
    "output_folder = dataset_folder / f\"S{num_shared_classes}_N{num_novel_classes_per_task}\"\n",
    "\n",
    "if not (output_folder).exists():\n",
    "    (output_folder).mkdir()"
   ]
  },
  {
   "cell_type": "code",
   "execution_count": null,
   "metadata": {},
   "outputs": [],
   "source": [
    "new_dataset.save_to_disk(output_folder)"
   ]
  }
 ],
 "metadata": {
  "kernelspec": {
   "display_name": "Python 3",
   "language": "python",
   "name": "python3"
  },
  "language_info": {
   "codemirror_mode": {
    "name": "ipython",
    "version": 2
   },
   "file_extension": ".py",
   "mimetype": "text/x-python",
   "name": "python",
   "nbconvert_exporter": "python",
   "pygments_lexer": "ipython2",
   "version": "2.7.6"
  }
 },
 "nbformat": 4,
 "nbformat_minor": 0
}
