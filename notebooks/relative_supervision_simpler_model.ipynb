{
 "cells": [
  {
   "cell_type": "code",
   "execution_count": 1,
   "metadata": {},
   "outputs": [
    {
     "name": "stderr",
     "output_type": "stream",
     "text": [
      "/home/don/miniconda3/envs/lf/lib/python3.9/site-packages/tqdm/auto.py:21: TqdmWarning: IProgress not found. Please update jupyter and ipywidgets. See https://ipywidgets.readthedocs.io/en/stable/user_install.html\n",
      "  from .autonotebook import tqdm as notebook_tqdm\n",
      "/home/don/miniconda3/envs/lf/lib/python3.9/site-packages/torchvision/io/image.py:13: UserWarning: Failed to load image Python extension: '/home/don/miniconda3/envs/lf/lib/python3.9/site-packages/torchvision/image.so: undefined symbol: _ZNK3c107SymBool10guard_boolEPKcl'If you don't plan on using image functionality from `torchvision.io`, you can ignore this warning. Otherwise, there might be something wrong with your environment. Did you have `libjpeg` or `libpng` installed before building `torchvision` from source?\n",
      "  warn(\n"
     ]
    },
    {
     "data": {
      "text/html": [
       "<pre style=\"white-space:pre;overflow-x:auto;line-height:normal;font-family:Menlo,'DejaVu Sans Mono',consolas,'Courier New',monospace\"><span style=\"color: #7fbfbf; text-decoration-color: #7fbfbf\">2023-10-01 16:11:37 </span><span style=\"color: #000080; text-decoration-color: #000080\">INFO    </span> Created a temporary directory at              <a href=\"file:///home/don/miniconda3/envs/lf/lib/python3.9/site-packages/torch/distributed/nn/jit/instantiator.py\" target=\"_blank\"><span style=\"color: #7f7f7f; text-decoration-color: #7f7f7f\">torch.distributed.nn.jit.instantiator</span></a><span style=\"color: #7f7f7f; text-decoration-color: #7f7f7f\">:</span><a href=\"file:///home/don/miniconda3/envs/lf/lib/python3.9/site-packages/torch/distributed/nn/jit/instantiator.py#21\" target=\"_blank\"><span style=\"color: #7f7f7f; text-decoration-color: #7f7f7f\">21</span></a>\n",
       "<span style=\"color: #7fbfbf; text-decoration-color: #7fbfbf\">                    </span>         <span style=\"color: #800080; text-decoration-color: #800080\">/tmp/</span><span style=\"color: #ff00ff; text-decoration-color: #ff00ff\">tmpwanpx5hy</span>                              <span style=\"color: #7f7f7f; text-decoration-color: #7f7f7f\">                                        </span>\n",
       "</pre>\n"
      ],
      "text/plain": [
       "\u001b[2;36m2023-10-01 16:11:37\u001b[0m\u001b[2;36m \u001b[0m\u001b[34mINFO    \u001b[0m Created a temporary directory at              \u001b]8;id=123570;file:///home/don/miniconda3/envs/lf/lib/python3.9/site-packages/torch/distributed/nn/jit/instantiator.py\u001b\\\u001b[2mtorch.distributed.nn.jit.instantiator\u001b[0m\u001b]8;;\u001b\\\u001b[2m:\u001b[0m\u001b]8;id=942951;file:///home/don/miniconda3/envs/lf/lib/python3.9/site-packages/torch/distributed/nn/jit/instantiator.py#21\u001b\\\u001b[2m21\u001b[0m\u001b]8;;\u001b\\\n",
       "\u001b[2;36m                    \u001b[0m         \u001b[35m/tmp/\u001b[0m\u001b[95mtmpwanpx5hy\u001b[0m                              \u001b[2m                                        \u001b[0m\n"
      ]
     },
     "metadata": {},
     "output_type": "display_data"
    },
    {
     "data": {
      "text/html": [
       "<pre style=\"white-space:pre;overflow-x:auto;line-height:normal;font-family:Menlo,'DejaVu Sans Mono',consolas,'Courier New',monospace\"><span style=\"color: #7fbfbf; text-decoration-color: #7fbfbf\">                    </span><span style=\"color: #000080; text-decoration-color: #000080\">INFO    </span> Writing                                       <a href=\"file:///home/don/miniconda3/envs/lf/lib/python3.9/site-packages/torch/distributed/nn/jit/instantiator.py\" target=\"_blank\"><span style=\"color: #7f7f7f; text-decoration-color: #7f7f7f\">torch.distributed.nn.jit.instantiator</span></a><span style=\"color: #7f7f7f; text-decoration-color: #7f7f7f\">:</span><a href=\"file:///home/don/miniconda3/envs/lf/lib/python3.9/site-packages/torch/distributed/nn/jit/instantiator.py#76\" target=\"_blank\"><span style=\"color: #7f7f7f; text-decoration-color: #7f7f7f\">76</span></a>\n",
       "<span style=\"color: #7fbfbf; text-decoration-color: #7fbfbf\">                    </span>         <span style=\"color: #800080; text-decoration-color: #800080\">/tmp/tmpwanpx5hy/</span><span style=\"color: #ff00ff; text-decoration-color: #ff00ff\">_remote_module_non_scriptabl</span> <span style=\"color: #7f7f7f; text-decoration-color: #7f7f7f\">                                        </span>\n",
       "<span style=\"color: #7fbfbf; text-decoration-color: #7fbfbf\">                    </span>         <span style=\"color: #ff00ff; text-decoration-color: #ff00ff\">e.py</span>                                          <span style=\"color: #7f7f7f; text-decoration-color: #7f7f7f\">                                        </span>\n",
       "</pre>\n"
      ],
      "text/plain": [
       "\u001b[2;36m                   \u001b[0m\u001b[2;36m \u001b[0m\u001b[34mINFO    \u001b[0m Writing                                       \u001b]8;id=321062;file:///home/don/miniconda3/envs/lf/lib/python3.9/site-packages/torch/distributed/nn/jit/instantiator.py\u001b\\\u001b[2mtorch.distributed.nn.jit.instantiator\u001b[0m\u001b]8;;\u001b\\\u001b[2m:\u001b[0m\u001b]8;id=790545;file:///home/don/miniconda3/envs/lf/lib/python3.9/site-packages/torch/distributed/nn/jit/instantiator.py#76\u001b\\\u001b[2m76\u001b[0m\u001b]8;;\u001b\\\n",
       "\u001b[2;36m                    \u001b[0m         \u001b[35m/tmp/tmpwanpx5hy/\u001b[0m\u001b[95m_remote_module_non_scriptabl\u001b[0m \u001b[2m                                        \u001b[0m\n",
       "\u001b[2;36m                    \u001b[0m         \u001b[95me.py\u001b[0m                                          \u001b[2m                                        \u001b[0m\n"
      ]
     },
     "metadata": {},
     "output_type": "display_data"
    }
   ],
   "source": [
    "import torch \n",
    "\n",
    "from la.utils.io_utils import load_data \n",
    "from la.utils.io_utils import preprocess_dataset"
   ]
  },
  {
   "cell_type": "code",
   "execution_count": 2,
   "metadata": {},
   "outputs": [
    {
     "data": {
      "text/plain": [
       "hydra.initialize()"
      ]
     },
     "execution_count": 2,
     "metadata": {},
     "output_type": "execute_result"
    }
   ],
   "source": [
    "%load_ext autoreload\n",
    "%autoreload 2\n",
    "\n",
    "import hydra\n",
    "from hydra import initialize, compose\n",
    "from typing import Dict, List\n",
    "from la.data.my_dataset_dict import MyDatasetDict\n",
    "\n",
    "initialize(version_base=None, config_path=str(\"../conf\"), job_name=\"relative_supervision\")"
   ]
  },
  {
   "cell_type": "code",
   "execution_count": 3,
   "metadata": {},
   "outputs": [],
   "source": [
    "import logging\n",
    "\n",
    "\n",
    "pylogger = logging.getLogger(__name__)"
   ]
  },
  {
   "cell_type": "code",
   "execution_count": 4,
   "metadata": {},
   "outputs": [],
   "source": [
    "from nn_core.common import PROJECT_ROOT\n",
    "\n",
    "# Instantiate torchvision dataset\n",
    "cfg = compose(config_name=\"relative_supervision\", overrides=[])"
   ]
  },
  {
   "cell_type": "code",
   "execution_count": 5,
   "metadata": {},
   "outputs": [
    {
     "name": "stderr",
     "output_type": "stream",
     "text": [
      "/home/don/miniconda3/envs/lf/lib/python3.9/site-packages/datasets/load.py:2072: FutureWarning: 'use_auth_token' was deprecated in favor of 'token' in version 2.14.0 and will be removed in 3.0.0.\n",
      "You can remove this warning by passing 'token=True' instead.\n",
      "  warnings.warn(\n",
      "Converting to RGB: 100%|██████████| 50000/50000 [00:25<00:00, 1952.57 examples/s]\n",
      "Converting to RGB: 100%|██████████| 10000/10000 [00:05<00:00, 1909.50 examples/s]\n"
     ]
    }
   ],
   "source": [
    "dataset = load_data(cfg)\n",
    "\n",
    "dataset = preprocess_dataset(dataset, cfg)"
   ]
  },
  {
   "cell_type": "code",
   "execution_count": 6,
   "metadata": {},
   "outputs": [
    {
     "data": {
      "text/html": [
       "<pre style=\"white-space:pre;overflow-x:auto;line-height:normal;font-family:Menlo,'DejaVu Sans Mono',consolas,'Courier New',monospace\"><span style=\"color: #7fbfbf; text-decoration-color: #7fbfbf\">2023-10-01 16:12:15 </span><span style=\"color: #000080; text-decoration-color: #000080\">INFO    </span> Image size: <span style=\"color: #008080; text-decoration-color: #008080; font-weight: bold\">32</span>                                                              <a href=\"file:///tmp/ipykernel_100307/276542090.py\" target=\"_blank\"><span style=\"color: #7f7f7f; text-decoration-color: #7f7f7f\">__main__</span></a><span style=\"color: #7f7f7f; text-decoration-color: #7f7f7f\">:</span><a href=\"file:///tmp/ipykernel_100307/276542090.py#2\" target=\"_blank\"><span style=\"color: #7f7f7f; text-decoration-color: #7f7f7f\">2</span></a>\n",
       "</pre>\n"
      ],
      "text/plain": [
       "\u001b[2;36m2023-10-01 16:12:15\u001b[0m\u001b[2;36m \u001b[0m\u001b[34mINFO    \u001b[0m Image size: \u001b[1;36m32\u001b[0m                                                              \u001b]8;id=105141;file:///tmp/ipykernel_100307/276542090.py\u001b\\\u001b[2m__main__\u001b[0m\u001b]8;;\u001b\\\u001b[2m:\u001b[0m\u001b]8;id=787834;file:///tmp/ipykernel_100307/276542090.py#2\u001b\\\u001b[2m2\u001b[0m\u001b]8;;\u001b\\\n"
      ]
     },
     "metadata": {},
     "output_type": "display_data"
    },
    {
     "data": {
      "text/html": [
       "<pre style=\"white-space:pre;overflow-x:auto;line-height:normal;font-family:Menlo,'DejaVu Sans Mono',consolas,'Courier New',monospace\"><span style=\"color: #7fbfbf; text-decoration-color: #7fbfbf\">                    </span><span style=\"color: #000080; text-decoration-color: #000080\">INFO    </span> Train shape: <span style=\"font-weight: bold\">(</span><span style=\"color: #008080; text-decoration-color: #008080; font-weight: bold\">32</span>, <span style=\"color: #008080; text-decoration-color: #008080; font-weight: bold\">32</span>, <span style=\"color: #008080; text-decoration-color: #008080; font-weight: bold\">3</span><span style=\"font-weight: bold\">)</span>                                                    <a href=\"file:///tmp/ipykernel_100307/276542090.py\" target=\"_blank\"><span style=\"color: #7f7f7f; text-decoration-color: #7f7f7f\">__main__</span></a><span style=\"color: #7f7f7f; text-decoration-color: #7f7f7f\">:</span><a href=\"file:///tmp/ipykernel_100307/276542090.py#3\" target=\"_blank\"><span style=\"color: #7f7f7f; text-decoration-color: #7f7f7f\">3</span></a>\n",
       "</pre>\n"
      ],
      "text/plain": [
       "\u001b[2;36m                   \u001b[0m\u001b[2;36m \u001b[0m\u001b[34mINFO    \u001b[0m Train shape: \u001b[1m(\u001b[0m\u001b[1;36m32\u001b[0m, \u001b[1;36m32\u001b[0m, \u001b[1;36m3\u001b[0m\u001b[1m)\u001b[0m                                                    \u001b]8;id=762221;file:///tmp/ipykernel_100307/276542090.py\u001b\\\u001b[2m__main__\u001b[0m\u001b]8;;\u001b\\\u001b[2m:\u001b[0m\u001b]8;id=797593;file:///tmp/ipykernel_100307/276542090.py#3\u001b\\\u001b[2m3\u001b[0m\u001b]8;;\u001b\\\n"
      ]
     },
     "metadata": {},
     "output_type": "display_data"
    }
   ],
   "source": [
    "img_size = dataset['train'][0]['x'].shape[0]\n",
    "pylogger.info(f\"Image size: {img_size}\")\n",
    "pylogger.info(f\"Train shape: {dataset['train'][0]['x'].shape}\")"
   ]
  },
  {
   "cell_type": "code",
   "execution_count": 7,
   "metadata": {},
   "outputs": [
    {
     "data": {
      "text/html": [
       "<pre style=\"white-space:pre;overflow-x:auto;line-height:normal;font-family:Menlo,'DejaVu Sans Mono',consolas,'Courier New',monospace\"><span style=\"color: #7fbfbf; text-decoration-color: #7fbfbf\">                    </span><span style=\"color: #000080; text-decoration-color: #000080\">INFO    </span> Loading pretrained weights from Hugging Face hub              <a href=\"file:///home/don/miniconda3/envs/lf/lib/python3.9/site-packages/timm/models/_builder.py\" target=\"_blank\"><span style=\"color: #7f7f7f; text-decoration-color: #7f7f7f\">timm.models._builder</span></a><span style=\"color: #7f7f7f; text-decoration-color: #7f7f7f\">:</span><a href=\"file:///home/don/miniconda3/envs/lf/lib/python3.9/site-packages/timm/models/_builder.py#182\" target=\"_blank\"><span style=\"color: #7f7f7f; text-decoration-color: #7f7f7f\">182</span></a>\n",
       "<span style=\"color: #7fbfbf; text-decoration-color: #7fbfbf\">                    </span>         <span style=\"font-weight: bold\">(</span>timm/efficientnet_b0.ra_in1k<span style=\"font-weight: bold\">)</span>                                <span style=\"color: #7f7f7f; text-decoration-color: #7f7f7f\">                        </span>\n",
       "</pre>\n"
      ],
      "text/plain": [
       "\u001b[2;36m                   \u001b[0m\u001b[2;36m \u001b[0m\u001b[34mINFO    \u001b[0m Loading pretrained weights from Hugging Face hub              \u001b]8;id=892930;file:///home/don/miniconda3/envs/lf/lib/python3.9/site-packages/timm/models/_builder.py\u001b\\\u001b[2mtimm.models._builder\u001b[0m\u001b]8;;\u001b\\\u001b[2m:\u001b[0m\u001b]8;id=653879;file:///home/don/miniconda3/envs/lf/lib/python3.9/site-packages/timm/models/_builder.py#182\u001b\\\u001b[2m182\u001b[0m\u001b]8;;\u001b\\\n",
       "\u001b[2;36m                    \u001b[0m         \u001b[1m(\u001b[0mtimm/efficientnet_b0.ra_in1k\u001b[1m)\u001b[0m                                \u001b[2m                        \u001b[0m\n"
      ]
     },
     "metadata": {},
     "output_type": "display_data"
    },
    {
     "data": {
      "text/html": [
       "<pre style=\"white-space:pre;overflow-x:auto;line-height:normal;font-family:Menlo,'DejaVu Sans Mono',consolas,'Courier New',monospace\"><span style=\"color: #7fbfbf; text-decoration-color: #7fbfbf\">2023-10-01 16:12:16 </span><span style=\"color: #000080; text-decoration-color: #000080\">INFO    </span> <span style=\"font-weight: bold\">[</span>timm/efficientnet_b0.ra_in1k<span style=\"font-weight: bold\">]</span> Safe alternative available for     <a href=\"file:///home/don/miniconda3/envs/lf/lib/python3.9/site-packages/timm/models/_hub.py\" target=\"_blank\"><span style=\"color: #7f7f7f; text-decoration-color: #7f7f7f\">timm.models._hub</span></a><span style=\"color: #7f7f7f; text-decoration-color: #7f7f7f\">:</span><a href=\"file:///home/don/miniconda3/envs/lf/lib/python3.9/site-packages/timm/models/_hub.py#180\" target=\"_blank\"><span style=\"color: #7f7f7f; text-decoration-color: #7f7f7f\">180</span></a>\n",
       "<span style=\"color: #7fbfbf; text-decoration-color: #7fbfbf\">                    </span>         <span style=\"color: #008000; text-decoration-color: #008000\">'pytorch_model.bin'</span> <span style=\"font-weight: bold\">(</span>as <span style=\"color: #008000; text-decoration-color: #008000\">'model.safetensors'</span><span style=\"font-weight: bold\">)</span>. Loading weights     <span style=\"color: #7f7f7f; text-decoration-color: #7f7f7f\">                    </span>\n",
       "<span style=\"color: #7fbfbf; text-decoration-color: #7fbfbf\">                    </span>         using safetensors.                                                <span style=\"color: #7f7f7f; text-decoration-color: #7f7f7f\">                    </span>\n",
       "</pre>\n"
      ],
      "text/plain": [
       "\u001b[2;36m2023-10-01 16:12:16\u001b[0m\u001b[2;36m \u001b[0m\u001b[34mINFO    \u001b[0m \u001b[1m[\u001b[0mtimm/efficientnet_b0.ra_in1k\u001b[1m]\u001b[0m Safe alternative available for     \u001b]8;id=397124;file:///home/don/miniconda3/envs/lf/lib/python3.9/site-packages/timm/models/_hub.py\u001b\\\u001b[2mtimm.models._hub\u001b[0m\u001b]8;;\u001b\\\u001b[2m:\u001b[0m\u001b]8;id=714581;file:///home/don/miniconda3/envs/lf/lib/python3.9/site-packages/timm/models/_hub.py#180\u001b\\\u001b[2m180\u001b[0m\u001b]8;;\u001b\\\n",
       "\u001b[2;36m                    \u001b[0m         \u001b[32m'pytorch_model.bin'\u001b[0m \u001b[1m(\u001b[0mas \u001b[32m'model.safetensors'\u001b[0m\u001b[1m)\u001b[0m. Loading weights     \u001b[2m                    \u001b[0m\n",
       "\u001b[2;36m                    \u001b[0m         using safetensors.                                                \u001b[2m                    \u001b[0m\n"
      ]
     },
     "metadata": {},
     "output_type": "display_data"
    }
   ],
   "source": [
    "import pytorch_lightning as pl\n",
    "\n",
    "teacher: pl.LightningModule = hydra.utils.instantiate(\n",
    "    cfg.teacher,\n",
    "    _recursive_=False,\n",
    "    num_classes=cfg.dataset.num_classes,\n",
    "    model=cfg.teacher.model,\n",
    "    input_dim=img_size,\n",
    ")"
   ]
  },
  {
   "cell_type": "code",
   "execution_count": 8,
   "metadata": {},
   "outputs": [],
   "source": [
    "import numpy as np \n",
    "subsample = False\n",
    "if subsample:\n",
    "    modes = ['train', 'test']\n",
    "    for mode in modes:\n",
    "        dataset[mode] = dataset[mode].select(np.arange(100))"
   ]
  },
  {
   "cell_type": "code",
   "execution_count": 9,
   "metadata": {},
   "outputs": [
    {
     "name": "stderr",
     "output_type": "stream",
     "text": [
      "Transforming train samples: 100%|██████████| 100/100 [00:11<00:00,  8.43 examples/s]\n",
      "Transforming test samples: 100%|██████████| 100/100 [00:11<00:00,  8.44 examples/s]\n"
     ]
    }
   ],
   "source": [
    "map_params = {\n",
    "            \"function\": lambda x: {\"x\": teacher.transform_func(x[\"x\"])},\n",
    "            \"writer_batch_size\": 100,\n",
    "            \"num_proc\": 1,\n",
    "        }\n",
    "\n",
    "for mode in modes:\n",
    "    dataset[mode] = dataset[mode].map(\n",
    "        desc=f\"Transforming {mode} samples\", **map_params\n",
    "    )"
   ]
  },
  {
   "cell_type": "code",
   "execution_count": 10,
   "metadata": {},
   "outputs": [],
   "source": [
    "dataset.set_format(type=\"torch\", columns=['x', 'y'])"
   ]
  },
  {
   "cell_type": "markdown",
   "metadata": {},
   "source": [
    "# Teacher"
   ]
  },
  {
   "cell_type": "code",
   "execution_count": 11,
   "metadata": {},
   "outputs": [],
   "source": [
    "from functools import partial \n",
    "from pytorch_lightning import Trainer\n",
    "\n",
    "loader_func = partial(\n",
    "            torch.utils.data.DataLoader,\n",
    "            batch_size=512,\n",
    "            num_workers=8,\n",
    ")\n",
    "\n",
    "# TODO: switch back num epochs\n",
    "trainer_func = partial(Trainer, gpus=1, max_epochs=30, logger=False, enable_progress_bar=True)"
   ]
  },
  {
   "cell_type": "code",
   "execution_count": 12,
   "metadata": {},
   "outputs": [],
   "source": [
    "train_loader = loader_func(dataset['train'], shuffle=True)\n",
    "test_loader = loader_func(dataset['test'], shuffle=False)"
   ]
  },
  {
   "cell_type": "code",
   "execution_count": 13,
   "metadata": {},
   "outputs": [
    {
     "name": "stderr",
     "output_type": "stream",
     "text": [
      "/home/don/miniconda3/envs/lf/lib/python3.9/site-packages/pytorch_lightning/trainer/connectors/accelerator_connector.py:447: LightningDeprecationWarning: Setting `Trainer(gpus=1)` is deprecated in v1.7 and will be removed in v2.0. Please use `Trainer(accelerator='gpu', devices=1)` instead.\n",
      "  rank_zero_deprecation(\n"
     ]
    },
    {
     "data": {
      "text/html": [
       "<pre style=\"white-space:pre;overflow-x:auto;line-height:normal;font-family:Menlo,'DejaVu Sans Mono',consolas,'Courier New',monospace\"><span style=\"color: #7fbfbf; text-decoration-color: #7fbfbf\">2023-10-01 16:12:42 </span><span style=\"color: #000080; text-decoration-color: #000080\">INFO    </span> GPU available: <span style=\"color: #00ff00; text-decoration-color: #00ff00; font-style: italic\">True</span> <span style=\"font-weight: bold\">(</span>cuda<span style=\"font-weight: bold\">)</span>, used: <span style=\"color: #00ff00; text-decoration-color: #00ff00; font-style: italic\">True</span>      <a href=\"file:///home/don/miniconda3/envs/lf/lib/python3.9/site-packages/pytorch_lightning/trainer/trainer.py\" target=\"_blank\"><span style=\"color: #7f7f7f; text-decoration-color: #7f7f7f\">pytorch_lightning.utilities.rank_zero</span></a><span style=\"color: #7f7f7f; text-decoration-color: #7f7f7f\">:</span><a href=\"file:///home/don/miniconda3/envs/lf/lib/python3.9/site-packages/pytorch_lightning/trainer/trainer.py#1751\" target=\"_blank\"><span style=\"color: #7f7f7f; text-decoration-color: #7f7f7f\">1751</span></a>\n",
       "</pre>\n"
      ],
      "text/plain": [
       "\u001b[2;36m2023-10-01 16:12:42\u001b[0m\u001b[2;36m \u001b[0m\u001b[34mINFO    \u001b[0m GPU available: \u001b[3;92mTrue\u001b[0m \u001b[1m(\u001b[0mcuda\u001b[1m)\u001b[0m, used: \u001b[3;92mTrue\u001b[0m      \u001b]8;id=461532;file:///home/don/miniconda3/envs/lf/lib/python3.9/site-packages/pytorch_lightning/trainer/trainer.py\u001b\\\u001b[2mpytorch_lightning.utilities.rank_zero\u001b[0m\u001b]8;;\u001b\\\u001b[2m:\u001b[0m\u001b]8;id=388977;file:///home/don/miniconda3/envs/lf/lib/python3.9/site-packages/pytorch_lightning/trainer/trainer.py#1751\u001b\\\u001b[2m1751\u001b[0m\u001b]8;;\u001b\\\n"
      ]
     },
     "metadata": {},
     "output_type": "display_data"
    },
    {
     "data": {
      "text/html": [
       "<pre style=\"white-space:pre;overflow-x:auto;line-height:normal;font-family:Menlo,'DejaVu Sans Mono',consolas,'Courier New',monospace\"><span style=\"color: #7fbfbf; text-decoration-color: #7fbfbf\">                    </span><span style=\"color: #000080; text-decoration-color: #000080\">INFO    </span> TPU available: <span style=\"color: #ff0000; text-decoration-color: #ff0000; font-style: italic\">False</span>, using: <span style=\"color: #008080; text-decoration-color: #008080; font-weight: bold\">0</span> TPU cores    <a href=\"file:///home/don/miniconda3/envs/lf/lib/python3.9/site-packages/pytorch_lightning/trainer/trainer.py\" target=\"_blank\"><span style=\"color: #7f7f7f; text-decoration-color: #7f7f7f\">pytorch_lightning.utilities.rank_zero</span></a><span style=\"color: #7f7f7f; text-decoration-color: #7f7f7f\">:</span><a href=\"file:///home/don/miniconda3/envs/lf/lib/python3.9/site-packages/pytorch_lightning/trainer/trainer.py#1754\" target=\"_blank\"><span style=\"color: #7f7f7f; text-decoration-color: #7f7f7f\">1754</span></a>\n",
       "</pre>\n"
      ],
      "text/plain": [
       "\u001b[2;36m                   \u001b[0m\u001b[2;36m \u001b[0m\u001b[34mINFO    \u001b[0m TPU available: \u001b[3;91mFalse\u001b[0m, using: \u001b[1;36m0\u001b[0m TPU cores    \u001b]8;id=104524;file:///home/don/miniconda3/envs/lf/lib/python3.9/site-packages/pytorch_lightning/trainer/trainer.py\u001b\\\u001b[2mpytorch_lightning.utilities.rank_zero\u001b[0m\u001b]8;;\u001b\\\u001b[2m:\u001b[0m\u001b]8;id=981358;file:///home/don/miniconda3/envs/lf/lib/python3.9/site-packages/pytorch_lightning/trainer/trainer.py#1754\u001b\\\u001b[2m1754\u001b[0m\u001b]8;;\u001b\\\n"
      ]
     },
     "metadata": {},
     "output_type": "display_data"
    },
    {
     "data": {
      "text/html": [
       "<pre style=\"white-space:pre;overflow-x:auto;line-height:normal;font-family:Menlo,'DejaVu Sans Mono',consolas,'Courier New',monospace\"><span style=\"color: #7fbfbf; text-decoration-color: #7fbfbf\">                    </span><span style=\"color: #000080; text-decoration-color: #000080\">INFO    </span> IPU available: <span style=\"color: #ff0000; text-decoration-color: #ff0000; font-style: italic\">False</span>, using: <span style=\"color: #008080; text-decoration-color: #008080; font-weight: bold\">0</span> IPUs         <a href=\"file:///home/don/miniconda3/envs/lf/lib/python3.9/site-packages/pytorch_lightning/trainer/trainer.py\" target=\"_blank\"><span style=\"color: #7f7f7f; text-decoration-color: #7f7f7f\">pytorch_lightning.utilities.rank_zero</span></a><span style=\"color: #7f7f7f; text-decoration-color: #7f7f7f\">:</span><a href=\"file:///home/don/miniconda3/envs/lf/lib/python3.9/site-packages/pytorch_lightning/trainer/trainer.py#1757\" target=\"_blank\"><span style=\"color: #7f7f7f; text-decoration-color: #7f7f7f\">1757</span></a>\n",
       "</pre>\n"
      ],
      "text/plain": [
       "\u001b[2;36m                   \u001b[0m\u001b[2;36m \u001b[0m\u001b[34mINFO    \u001b[0m IPU available: \u001b[3;91mFalse\u001b[0m, using: \u001b[1;36m0\u001b[0m IPUs         \u001b]8;id=758785;file:///home/don/miniconda3/envs/lf/lib/python3.9/site-packages/pytorch_lightning/trainer/trainer.py\u001b\\\u001b[2mpytorch_lightning.utilities.rank_zero\u001b[0m\u001b]8;;\u001b\\\u001b[2m:\u001b[0m\u001b]8;id=698661;file:///home/don/miniconda3/envs/lf/lib/python3.9/site-packages/pytorch_lightning/trainer/trainer.py#1757\u001b\\\u001b[2m1757\u001b[0m\u001b]8;;\u001b\\\n"
      ]
     },
     "metadata": {},
     "output_type": "display_data"
    },
    {
     "data": {
      "text/html": [
       "<pre style=\"white-space:pre;overflow-x:auto;line-height:normal;font-family:Menlo,'DejaVu Sans Mono',consolas,'Courier New',monospace\"><span style=\"color: #7fbfbf; text-decoration-color: #7fbfbf\">                    </span><span style=\"color: #000080; text-decoration-color: #000080\">INFO    </span> HPU available: <span style=\"color: #ff0000; text-decoration-color: #ff0000; font-style: italic\">False</span>, using: <span style=\"color: #008080; text-decoration-color: #008080; font-weight: bold\">0</span> HPUs         <a href=\"file:///home/don/miniconda3/envs/lf/lib/python3.9/site-packages/pytorch_lightning/trainer/trainer.py\" target=\"_blank\"><span style=\"color: #7f7f7f; text-decoration-color: #7f7f7f\">pytorch_lightning.utilities.rank_zero</span></a><span style=\"color: #7f7f7f; text-decoration-color: #7f7f7f\">:</span><a href=\"file:///home/don/miniconda3/envs/lf/lib/python3.9/site-packages/pytorch_lightning/trainer/trainer.py#1760\" target=\"_blank\"><span style=\"color: #7f7f7f; text-decoration-color: #7f7f7f\">1760</span></a>\n",
       "</pre>\n"
      ],
      "text/plain": [
       "\u001b[2;36m                   \u001b[0m\u001b[2;36m \u001b[0m\u001b[34mINFO    \u001b[0m HPU available: \u001b[3;91mFalse\u001b[0m, using: \u001b[1;36m0\u001b[0m HPUs         \u001b]8;id=679348;file:///home/don/miniconda3/envs/lf/lib/python3.9/site-packages/pytorch_lightning/trainer/trainer.py\u001b\\\u001b[2mpytorch_lightning.utilities.rank_zero\u001b[0m\u001b]8;;\u001b\\\u001b[2m:\u001b[0m\u001b]8;id=807410;file:///home/don/miniconda3/envs/lf/lib/python3.9/site-packages/pytorch_lightning/trainer/trainer.py#1760\u001b\\\u001b[2m1760\u001b[0m\u001b]8;;\u001b\\\n"
      ]
     },
     "metadata": {},
     "output_type": "display_data"
    },
    {
     "name": "stderr",
     "output_type": "stream",
     "text": [
      "/home/don/miniconda3/envs/lf/lib/python3.9/site-packages/pytorch_lightning/trainer/configuration_validator.py:107: PossibleUserWarning: You defined a `validation_step` but have no `val_dataloader`. Skipping val loop.\n",
      "  rank_zero_warn(\n",
      "/home/don/miniconda3/envs/lf/lib/python3.9/site-packages/pytorch_lightning/callbacks/model_checkpoint.py:616: UserWarning: Checkpoint directory /home/don/Code/latent-aggregation/notebooks/checkpoints exists and is not empty.\n",
      "  rank_zero_warn(f\"Checkpoint directory {dirpath} exists and is not empty.\")\n"
     ]
    },
    {
     "data": {
      "text/html": [
       "<pre style=\"white-space:pre;overflow-x:auto;line-height:normal;font-family:Menlo,'DejaVu Sans Mono',consolas,'Courier New',monospace\"><span style=\"color: #7fbfbf; text-decoration-color: #7fbfbf\">2023-10-01 16:12:43 </span><span style=\"color: #000080; text-decoration-color: #000080\">INFO    </span> LOCAL_RANK: <span style=\"color: #008080; text-decoration-color: #008080; font-weight: bold\">0</span> - CUDA_VISIBLE_DEVICES: <span style=\"font-weight: bold\">[</span><span style=\"color: #008080; text-decoration-color: #008080; font-weight: bold\">0</span><span style=\"font-weight: bold\">]</span>       <a href=\"file:///home/don/miniconda3/envs/lf/lib/python3.9/site-packages/pytorch_lightning/accelerators/cuda.py\" target=\"_blank\"><span style=\"color: #7f7f7f; text-decoration-color: #7f7f7f\">pytorch_lightning.accelerators.cuda</span></a><span style=\"color: #7f7f7f; text-decoration-color: #7f7f7f\">:</span><a href=\"file:///home/don/miniconda3/envs/lf/lib/python3.9/site-packages/pytorch_lightning/accelerators/cuda.py#57\" target=\"_blank\"><span style=\"color: #7f7f7f; text-decoration-color: #7f7f7f\">57</span></a>\n",
       "</pre>\n"
      ],
      "text/plain": [
       "\u001b[2;36m2023-10-01 16:12:43\u001b[0m\u001b[2;36m \u001b[0m\u001b[34mINFO    \u001b[0m LOCAL_RANK: \u001b[1;36m0\u001b[0m - CUDA_VISIBLE_DEVICES: \u001b[1m[\u001b[0m\u001b[1;36m0\u001b[0m\u001b[1m]\u001b[0m       \u001b]8;id=791600;file:///home/don/miniconda3/envs/lf/lib/python3.9/site-packages/pytorch_lightning/accelerators/cuda.py\u001b\\\u001b[2mpytorch_lightning.accelerators.cuda\u001b[0m\u001b]8;;\u001b\\\u001b[2m:\u001b[0m\u001b]8;id=23539;file:///home/don/miniconda3/envs/lf/lib/python3.9/site-packages/pytorch_lightning/accelerators/cuda.py#57\u001b\\\u001b[2m57\u001b[0m\u001b]8;;\u001b\\\n"
      ]
     },
     "metadata": {},
     "output_type": "display_data"
    },
    {
     "data": {
      "text/html": [
       "<pre style=\"white-space:pre;overflow-x:auto;line-height:normal;font-family:Menlo,'DejaVu Sans Mono',consolas,'Courier New',monospace\"><span style=\"color: #7fbfbf; text-decoration-color: #7fbfbf\">                    </span><span style=\"color: #000080; text-decoration-color: #000080\">INFO    </span>                                           <a href=\"file:///home/don/miniconda3/envs/lf/lib/python3.9/site-packages/pytorch_lightning/callbacks/model_summary.py\" target=\"_blank\"><span style=\"color: #7f7f7f; text-decoration-color: #7f7f7f\">pytorch_lightning.callbacks.model_summary</span></a><span style=\"color: #7f7f7f; text-decoration-color: #7f7f7f\">:</span><a href=\"file:///home/don/miniconda3/envs/lf/lib/python3.9/site-packages/pytorch_lightning/callbacks/model_summary.py#83\" target=\"_blank\"><span style=\"color: #7f7f7f; text-decoration-color: #7f7f7f\">83</span></a>\n",
       "<span style=\"color: #7fbfbf; text-decoration-color: #7fbfbf\">                    </span>           | Name           | Type                 <span style=\"color: #7f7f7f; text-decoration-color: #7f7f7f\">                                            </span>\n",
       "<span style=\"color: #7fbfbf; text-decoration-color: #7fbfbf\">                    </span>         | Params                                  <span style=\"color: #7f7f7f; text-decoration-color: #7f7f7f\">                                            </span>\n",
       "<span style=\"color: #7fbfbf; text-decoration-color: #7fbfbf\">                    </span>         ----------------------------------------- <span style=\"color: #7f7f7f; text-decoration-color: #7f7f7f\">                                            </span>\n",
       "<span style=\"color: #7fbfbf; text-decoration-color: #7fbfbf\">                    </span>         --------------                            <span style=\"color: #7f7f7f; text-decoration-color: #7f7f7f\">                                            </span>\n",
       "<span style=\"color: #7fbfbf; text-decoration-color: #7fbfbf\">                    </span>         <span style=\"color: #008080; text-decoration-color: #008080; font-weight: bold\">0</span> | train_accuracy | Accuracy             <span style=\"color: #7f7f7f; text-decoration-color: #7f7f7f\">                                            </span>\n",
       "<span style=\"color: #7fbfbf; text-decoration-color: #7fbfbf\">                    </span>         | <span style=\"color: #008080; text-decoration-color: #008080; font-weight: bold\">0</span>                                       <span style=\"color: #7f7f7f; text-decoration-color: #7f7f7f\">                                            </span>\n",
       "<span style=\"color: #7fbfbf; text-decoration-color: #7fbfbf\">                    </span>         <span style=\"color: #008080; text-decoration-color: #008080; font-weight: bold\">1</span> | val_accuracy   | Accuracy             <span style=\"color: #7f7f7f; text-decoration-color: #7f7f7f\">                                            </span>\n",
       "<span style=\"color: #7fbfbf; text-decoration-color: #7fbfbf\">                    </span>         | <span style=\"color: #008080; text-decoration-color: #008080; font-weight: bold\">0</span>                                       <span style=\"color: #7f7f7f; text-decoration-color: #7f7f7f\">                                            </span>\n",
       "<span style=\"color: #7fbfbf; text-decoration-color: #7fbfbf\">                    </span>         <span style=\"color: #008080; text-decoration-color: #008080; font-weight: bold\">2</span> | test_accuracy  | Accuracy             <span style=\"color: #7f7f7f; text-decoration-color: #7f7f7f\">                                            </span>\n",
       "<span style=\"color: #7fbfbf; text-decoration-color: #7fbfbf\">                    </span>         | <span style=\"color: #008080; text-decoration-color: #008080; font-weight: bold\">0</span>                                       <span style=\"color: #7f7f7f; text-decoration-color: #7f7f7f\">                                            </span>\n",
       "<span style=\"color: #7fbfbf; text-decoration-color: #7fbfbf\">                    </span>         <span style=\"color: #008080; text-decoration-color: #008080; font-weight: bold\">3</span> | data_augm      | DataAugmentation     <span style=\"color: #7f7f7f; text-decoration-color: #7f7f7f\">                                            </span>\n",
       "<span style=\"color: #7fbfbf; text-decoration-color: #7fbfbf\">                    </span>         | <span style=\"color: #008080; text-decoration-color: #008080; font-weight: bold\">0</span>                                       <span style=\"color: #7f7f7f; text-decoration-color: #7f7f7f\">                                            </span>\n",
       "<span style=\"color: #7fbfbf; text-decoration-color: #7fbfbf\">                    </span>         <span style=\"color: #008080; text-decoration-color: #008080; font-weight: bold\">4</span> | embedder       | EfficientNetWrapper  <span style=\"color: #7f7f7f; text-decoration-color: #7f7f7f\">                                            </span>\n",
       "<span style=\"color: #7fbfbf; text-decoration-color: #7fbfbf\">                    </span>         | <span style=\"color: #008080; text-decoration-color: #008080; font-weight: bold\">4.0</span> M                                   <span style=\"color: #7f7f7f; text-decoration-color: #7f7f7f\">                                            </span>\n",
       "<span style=\"color: #7fbfbf; text-decoration-color: #7fbfbf\">                    </span>         <span style=\"color: #008080; text-decoration-color: #008080; font-weight: bold\">5</span> | projector      | VanillaMLPProjector  <span style=\"color: #7f7f7f; text-decoration-color: #7f7f7f\">                                            </span>\n",
       "<span style=\"color: #7fbfbf; text-decoration-color: #7fbfbf\">                    </span>         | <span style=\"color: #008080; text-decoration-color: #008080; font-weight: bold\">360</span> K                                   <span style=\"color: #7f7f7f; text-decoration-color: #7f7f7f\">                                            </span>\n",
       "<span style=\"color: #7fbfbf; text-decoration-color: #7fbfbf\">                    </span>         <span style=\"color: #008080; text-decoration-color: #008080; font-weight: bold\">6</span> | classifier     | Linear               <span style=\"color: #7f7f7f; text-decoration-color: #7f7f7f\">                                            </span>\n",
       "<span style=\"color: #7fbfbf; text-decoration-color: #7fbfbf\">                    </span>         | <span style=\"color: #008080; text-decoration-color: #008080; font-weight: bold\">12.9</span> K                                  <span style=\"color: #7f7f7f; text-decoration-color: #7f7f7f\">                                            </span>\n",
       "<span style=\"color: #7fbfbf; text-decoration-color: #7fbfbf\">                    </span>         ----------------------------------------- <span style=\"color: #7f7f7f; text-decoration-color: #7f7f7f\">                                            </span>\n",
       "<span style=\"color: #7fbfbf; text-decoration-color: #7fbfbf\">                    </span>         --------------                            <span style=\"color: #7f7f7f; text-decoration-color: #7f7f7f\">                                            </span>\n",
       "<span style=\"color: #7fbfbf; text-decoration-color: #7fbfbf\">                    </span>         <span style=\"color: #008080; text-decoration-color: #008080; font-weight: bold\">373</span> K     Trainable params                <span style=\"color: #7f7f7f; text-decoration-color: #7f7f7f\">                                            </span>\n",
       "<span style=\"color: #7fbfbf; text-decoration-color: #7fbfbf\">                    </span>         <span style=\"color: #008080; text-decoration-color: #008080; font-weight: bold\">4.0</span> M     Non-trainable params            <span style=\"color: #7f7f7f; text-decoration-color: #7f7f7f\">                                            </span>\n",
       "<span style=\"color: #7fbfbf; text-decoration-color: #7fbfbf\">                    </span>         <span style=\"color: #008080; text-decoration-color: #008080; font-weight: bold\">4.4</span> M     Total params                    <span style=\"color: #7f7f7f; text-decoration-color: #7f7f7f\">                                            </span>\n",
       "<span style=\"color: #7fbfbf; text-decoration-color: #7fbfbf\">                    </span>         <span style=\"color: #008080; text-decoration-color: #008080; font-weight: bold\">17.525</span>    Total estimated model params    <span style=\"color: #7f7f7f; text-decoration-color: #7f7f7f\">                                            </span>\n",
       "<span style=\"color: #7fbfbf; text-decoration-color: #7fbfbf\">                    </span>         size <span style=\"font-weight: bold\">(</span>MB<span style=\"font-weight: bold\">)</span>                                 <span style=\"color: #7f7f7f; text-decoration-color: #7f7f7f\">                                            </span>\n",
       "</pre>\n"
      ],
      "text/plain": [
       "\u001b[2;36m                   \u001b[0m\u001b[2;36m \u001b[0m\u001b[34mINFO    \u001b[0m                                           \u001b]8;id=911858;file:///home/don/miniconda3/envs/lf/lib/python3.9/site-packages/pytorch_lightning/callbacks/model_summary.py\u001b\\\u001b[2mpytorch_lightning.callbacks.model_summary\u001b[0m\u001b]8;;\u001b\\\u001b[2m:\u001b[0m\u001b]8;id=44145;file:///home/don/miniconda3/envs/lf/lib/python3.9/site-packages/pytorch_lightning/callbacks/model_summary.py#83\u001b\\\u001b[2m83\u001b[0m\u001b]8;;\u001b\\\n",
       "\u001b[2;36m                    \u001b[0m           | Name           | Type                 \u001b[2m                                            \u001b[0m\n",
       "\u001b[2;36m                    \u001b[0m         | Params                                  \u001b[2m                                            \u001b[0m\n",
       "\u001b[2;36m                    \u001b[0m         ----------------------------------------- \u001b[2m                                            \u001b[0m\n",
       "\u001b[2;36m                    \u001b[0m         --------------                            \u001b[2m                                            \u001b[0m\n",
       "\u001b[2;36m                    \u001b[0m         \u001b[1;36m0\u001b[0m | train_accuracy | Accuracy             \u001b[2m                                            \u001b[0m\n",
       "\u001b[2;36m                    \u001b[0m         | \u001b[1;36m0\u001b[0m                                       \u001b[2m                                            \u001b[0m\n",
       "\u001b[2;36m                    \u001b[0m         \u001b[1;36m1\u001b[0m | val_accuracy   | Accuracy             \u001b[2m                                            \u001b[0m\n",
       "\u001b[2;36m                    \u001b[0m         | \u001b[1;36m0\u001b[0m                                       \u001b[2m                                            \u001b[0m\n",
       "\u001b[2;36m                    \u001b[0m         \u001b[1;36m2\u001b[0m | test_accuracy  | Accuracy             \u001b[2m                                            \u001b[0m\n",
       "\u001b[2;36m                    \u001b[0m         | \u001b[1;36m0\u001b[0m                                       \u001b[2m                                            \u001b[0m\n",
       "\u001b[2;36m                    \u001b[0m         \u001b[1;36m3\u001b[0m | data_augm      | DataAugmentation     \u001b[2m                                            \u001b[0m\n",
       "\u001b[2;36m                    \u001b[0m         | \u001b[1;36m0\u001b[0m                                       \u001b[2m                                            \u001b[0m\n",
       "\u001b[2;36m                    \u001b[0m         \u001b[1;36m4\u001b[0m | embedder       | EfficientNetWrapper  \u001b[2m                                            \u001b[0m\n",
       "\u001b[2;36m                    \u001b[0m         | \u001b[1;36m4.0\u001b[0m M                                   \u001b[2m                                            \u001b[0m\n",
       "\u001b[2;36m                    \u001b[0m         \u001b[1;36m5\u001b[0m | projector      | VanillaMLPProjector  \u001b[2m                                            \u001b[0m\n",
       "\u001b[2;36m                    \u001b[0m         | \u001b[1;36m360\u001b[0m K                                   \u001b[2m                                            \u001b[0m\n",
       "\u001b[2;36m                    \u001b[0m         \u001b[1;36m6\u001b[0m | classifier     | Linear               \u001b[2m                                            \u001b[0m\n",
       "\u001b[2;36m                    \u001b[0m         | \u001b[1;36m12.9\u001b[0m K                                  \u001b[2m                                            \u001b[0m\n",
       "\u001b[2;36m                    \u001b[0m         ----------------------------------------- \u001b[2m                                            \u001b[0m\n",
       "\u001b[2;36m                    \u001b[0m         --------------                            \u001b[2m                                            \u001b[0m\n",
       "\u001b[2;36m                    \u001b[0m         \u001b[1;36m373\u001b[0m K     Trainable params                \u001b[2m                                            \u001b[0m\n",
       "\u001b[2;36m                    \u001b[0m         \u001b[1;36m4.0\u001b[0m M     Non-trainable params            \u001b[2m                                            \u001b[0m\n",
       "\u001b[2;36m                    \u001b[0m         \u001b[1;36m4.4\u001b[0m M     Total params                    \u001b[2m                                            \u001b[0m\n",
       "\u001b[2;36m                    \u001b[0m         \u001b[1;36m17.525\u001b[0m    Total estimated model params    \u001b[2m                                            \u001b[0m\n",
       "\u001b[2;36m                    \u001b[0m         size \u001b[1m(\u001b[0mMB\u001b[1m)\u001b[0m                                 \u001b[2m                                            \u001b[0m\n"
      ]
     },
     "metadata": {},
     "output_type": "display_data"
    },
    {
     "name": "stdout",
     "output_type": "stream",
     "text": [
      "Epoch 29: 100%|██████████| 1/1 [00:01<00:00,  1.82s/it, loss=2.03, loss/train=0.953]"
     ]
    },
    {
     "data": {
      "text/html": [
       "<pre style=\"white-space:pre;overflow-x:auto;line-height:normal;font-family:Menlo,'DejaVu Sans Mono',consolas,'Courier New',monospace\"><span style=\"color: #7fbfbf; text-decoration-color: #7fbfbf\">2023-10-01 16:13:42 </span><span style=\"color: #000080; text-decoration-color: #000080\">INFO    </span> `Trainer.fit` stopped: `<span style=\"color: #808000; text-decoration-color: #808000\">max_epochs</span>=<span style=\"color: #008080; text-decoration-color: #008080; font-weight: bold\">30</span>`       <a href=\"file:///home/don/miniconda3/envs/lf/lib/python3.9/site-packages/pytorch_lightning/loops/fit_loop.py\" target=\"_blank\"><span style=\"color: #7f7f7f; text-decoration-color: #7f7f7f\">pytorch_lightning.utilities.rank_zero</span></a><span style=\"color: #7f7f7f; text-decoration-color: #7f7f7f\">:</span><a href=\"file:///home/don/miniconda3/envs/lf/lib/python3.9/site-packages/pytorch_lightning/loops/fit_loop.py#170\" target=\"_blank\"><span style=\"color: #7f7f7f; text-decoration-color: #7f7f7f\">170</span></a>\n",
       "<span style=\"color: #7fbfbf; text-decoration-color: #7fbfbf\">                    </span>         reached.                                     <span style=\"color: #7f7f7f; text-decoration-color: #7f7f7f\">                                         </span>\n",
       "</pre>\n"
      ],
      "text/plain": [
       "\u001b[2;36m2023-10-01 16:13:42\u001b[0m\u001b[2;36m \u001b[0m\u001b[34mINFO    \u001b[0m `Trainer.fit` stopped: `\u001b[33mmax_epochs\u001b[0m=\u001b[1;36m30\u001b[0m`       \u001b]8;id=769972;file:///home/don/miniconda3/envs/lf/lib/python3.9/site-packages/pytorch_lightning/loops/fit_loop.py\u001b\\\u001b[2mpytorch_lightning.utilities.rank_zero\u001b[0m\u001b]8;;\u001b\\\u001b[2m:\u001b[0m\u001b]8;id=676401;file:///home/don/miniconda3/envs/lf/lib/python3.9/site-packages/pytorch_lightning/loops/fit_loop.py#170\u001b\\\u001b[2m170\u001b[0m\u001b]8;;\u001b\\\n",
       "\u001b[2;36m                    \u001b[0m         reached.                                     \u001b[2m                                         \u001b[0m\n"
      ]
     },
     "metadata": {},
     "output_type": "display_data"
    },
    {
     "name": "stdout",
     "output_type": "stream",
     "text": [
      "Epoch 29: 100%|██████████| 1/1 [00:01<00:00,  1.89s/it, loss=2.03, loss/train=0.953]\n"
     ]
    }
   ],
   "source": [
    "trainer = trainer_func()\n",
    "trainer.fit(teacher, train_loader)"
   ]
  },
  {
   "cell_type": "code",
   "execution_count": 14,
   "metadata": {},
   "outputs": [
    {
     "data": {
      "text/html": [
       "<pre style=\"white-space:pre;overflow-x:auto;line-height:normal;font-family:Menlo,'DejaVu Sans Mono',consolas,'Courier New',monospace\"><span style=\"color: #7fbfbf; text-decoration-color: #7fbfbf\">                    </span><span style=\"color: #000080; text-decoration-color: #000080\">INFO    </span> LOCAL_RANK: <span style=\"color: #008080; text-decoration-color: #008080; font-weight: bold\">0</span> - CUDA_VISIBLE_DEVICES: <span style=\"font-weight: bold\">[</span><span style=\"color: #008080; text-decoration-color: #008080; font-weight: bold\">0</span><span style=\"font-weight: bold\">]</span>       <a href=\"file:///home/don/miniconda3/envs/lf/lib/python3.9/site-packages/pytorch_lightning/accelerators/cuda.py\" target=\"_blank\"><span style=\"color: #7f7f7f; text-decoration-color: #7f7f7f\">pytorch_lightning.accelerators.cuda</span></a><span style=\"color: #7f7f7f; text-decoration-color: #7f7f7f\">:</span><a href=\"file:///home/don/miniconda3/envs/lf/lib/python3.9/site-packages/pytorch_lightning/accelerators/cuda.py#57\" target=\"_blank\"><span style=\"color: #7f7f7f; text-decoration-color: #7f7f7f\">57</span></a>\n",
       "</pre>\n"
      ],
      "text/plain": [
       "\u001b[2;36m                   \u001b[0m\u001b[2;36m \u001b[0m\u001b[34mINFO    \u001b[0m LOCAL_RANK: \u001b[1;36m0\u001b[0m - CUDA_VISIBLE_DEVICES: \u001b[1m[\u001b[0m\u001b[1;36m0\u001b[0m\u001b[1m]\u001b[0m       \u001b]8;id=207002;file:///home/don/miniconda3/envs/lf/lib/python3.9/site-packages/pytorch_lightning/accelerators/cuda.py\u001b\\\u001b[2mpytorch_lightning.accelerators.cuda\u001b[0m\u001b]8;;\u001b\\\u001b[2m:\u001b[0m\u001b]8;id=270512;file:///home/don/miniconda3/envs/lf/lib/python3.9/site-packages/pytorch_lightning/accelerators/cuda.py#57\u001b\\\u001b[2m57\u001b[0m\u001b]8;;\u001b\\\n"
      ]
     },
     "metadata": {},
     "output_type": "display_data"
    },
    {
     "name": "stdout",
     "output_type": "stream",
     "text": [
      "Testing DataLoader 0: 100%|██████████| 1/1 [00:00<00:00,  3.18it/s]\n"
     ]
    },
    {
     "data": {
      "text/html": [
       "<pre style=\"white-space:pre;overflow-x:auto;line-height:normal;font-family:Menlo,'DejaVu Sans Mono',consolas,'Courier New',monospace\">┏━━━━━━━━━━━━━━━━━━━━━━━━━━━┳━━━━━━━━━━━━━━━━━━━━━━━━━━━┓\n",
       "┃<span style=\"font-weight: bold\">        Test metric        </span>┃<span style=\"font-weight: bold\">       DataLoader 0        </span>┃\n",
       "┡━━━━━━━━━━━━━━━━━━━━━━━━━━━╇━━━━━━━━━━━━━━━━━━━━━━━━━━━┩\n",
       "│<span style=\"color: #008080; text-decoration-color: #008080\">         acc/test          </span>│<span style=\"color: #800080; text-decoration-color: #800080\">    0.20999999344348907    </span>│\n",
       "│<span style=\"color: #008080; text-decoration-color: #008080\">         loss/test         </span>│<span style=\"color: #800080; text-decoration-color: #800080\">     5.043737888336182     </span>│\n",
       "└───────────────────────────┴───────────────────────────┘\n",
       "</pre>\n"
      ],
      "text/plain": [
       "┏━━━━━━━━━━━━━━━━━━━━━━━━━━━┳━━━━━━━━━━━━━━━━━━━━━━━━━━━┓\n",
       "┃\u001b[1m \u001b[0m\u001b[1m       Test metric       \u001b[0m\u001b[1m \u001b[0m┃\u001b[1m \u001b[0m\u001b[1m      DataLoader 0       \u001b[0m\u001b[1m \u001b[0m┃\n",
       "┡━━━━━━━━━━━━━━━━━━━━━━━━━━━╇━━━━━━━━━━━━━━━━━━━━━━━━━━━┩\n",
       "│\u001b[36m \u001b[0m\u001b[36m        acc/test         \u001b[0m\u001b[36m \u001b[0m│\u001b[35m \u001b[0m\u001b[35m   0.20999999344348907   \u001b[0m\u001b[35m \u001b[0m│\n",
       "│\u001b[36m \u001b[0m\u001b[36m        loss/test        \u001b[0m\u001b[36m \u001b[0m│\u001b[35m \u001b[0m\u001b[35m    5.043737888336182    \u001b[0m\u001b[35m \u001b[0m│\n",
       "└───────────────────────────┴───────────────────────────┘\n"
      ]
     },
     "metadata": {},
     "output_type": "display_data"
    },
    {
     "data": {
      "text/plain": [
       "[{'loss/test': 5.043737888336182, 'acc/test': 0.20999999344348907}]"
      ]
     },
     "execution_count": 14,
     "metadata": {},
     "output_type": "execute_result"
    }
   ],
   "source": [
    "trainer.test(teacher, test_loader)"
   ]
  },
  {
   "cell_type": "markdown",
   "metadata": {},
   "source": [
    "# Student"
   ]
  },
  {
   "cell_type": "code",
   "execution_count": 15,
   "metadata": {},
   "outputs": [
    {
     "data": {
      "text/plain": [
       "224"
      ]
     },
     "execution_count": 15,
     "metadata": {},
     "output_type": "execute_result"
    }
   ],
   "source": [
    "img_size = dataset['train'][0]['x'].shape[-1]\n",
    "img_size"
   ]
  },
  {
   "cell_type": "code",
   "execution_count": 16,
   "metadata": {},
   "outputs": [
    {
     "data": {
      "text/html": [
       "<pre style=\"white-space:pre;overflow-x:auto;line-height:normal;font-family:Menlo,'DejaVu Sans Mono',consolas,'Courier New',monospace\"><span style=\"color: #7fbfbf; text-decoration-color: #7fbfbf\">2023-10-01 16:13:44 </span><span style=\"color: #000080; text-decoration-color: #000080\">INFO    </span> shapes: <span style=\"color: #800080; text-decoration-color: #800080; font-weight: bold\">torch.Size</span><span style=\"font-weight: bold\">([</span><span style=\"color: #008080; text-decoration-color: #008080; font-weight: bold\">1</span>, <span style=\"color: #008080; text-decoration-color: #008080; font-weight: bold\">16</span>, <span style=\"color: #008080; text-decoration-color: #008080; font-weight: bold\">7</span>, <span style=\"color: #008080; text-decoration-color: #008080; font-weight: bold\">7</span><span style=\"font-weight: bold\">])</span>                    <a href=\"file:///home/don/Code/latent-aggregation/src/la/modules/vanilla_cnn_student.py\" target=\"_blank\"><span style=\"color: #7f7f7f; text-decoration-color: #7f7f7f\">la.modules.vanilla_cnn_student</span></a><span style=\"color: #7f7f7f; text-decoration-color: #7f7f7f\">:</span><a href=\"file:///home/don/Code/latent-aggregation/src/la/modules/vanilla_cnn_student.py#55\" target=\"_blank\"><span style=\"color: #7f7f7f; text-decoration-color: #7f7f7f\">55</span></a>\n",
       "</pre>\n"
      ],
      "text/plain": [
       "\u001b[2;36m2023-10-01 16:13:44\u001b[0m\u001b[2;36m \u001b[0m\u001b[34mINFO    \u001b[0m shapes: \u001b[1;35mtorch.Size\u001b[0m\u001b[1m(\u001b[0m\u001b[1m[\u001b[0m\u001b[1;36m1\u001b[0m, \u001b[1;36m16\u001b[0m, \u001b[1;36m7\u001b[0m, \u001b[1;36m7\u001b[0m\u001b[1m]\u001b[0m\u001b[1m)\u001b[0m                    \u001b]8;id=970925;file:///home/don/Code/latent-aggregation/src/la/modules/vanilla_cnn_student.py\u001b\\\u001b[2mla.modules.vanilla_cnn_student\u001b[0m\u001b]8;;\u001b\\\u001b[2m:\u001b[0m\u001b]8;id=909872;file:///home/don/Code/latent-aggregation/src/la/modules/vanilla_cnn_student.py#55\u001b\\\u001b[2m55\u001b[0m\u001b]8;;\u001b\\\n"
      ]
     },
     "metadata": {},
     "output_type": "display_data"
    }
   ],
   "source": [
    "student: pl.LightningModule = hydra.utils.instantiate(\n",
    "    cfg.student,\n",
    "    _recursive_=False,\n",
    "    num_classes=cfg.dataset.num_classes,\n",
    "    model=cfg.student.model,\n",
    "    input_dim=img_size,\n",
    ")"
   ]
  },
  {
   "cell_type": "code",
   "execution_count": 17,
   "metadata": {},
   "outputs": [],
   "source": [
    "train_loader = loader_func(dataset['train'], shuffle=True)\n",
    "test_loader = loader_func(dataset['test'], shuffle=False)"
   ]
  },
  {
   "cell_type": "code",
   "execution_count": 18,
   "metadata": {},
   "outputs": [
    {
     "data": {
      "text/html": [
       "<pre style=\"white-space:pre;overflow-x:auto;line-height:normal;font-family:Menlo,'DejaVu Sans Mono',consolas,'Courier New',monospace\"><span style=\"color: #7fbfbf; text-decoration-color: #7fbfbf\">2023-10-01 16:13:45 </span><span style=\"color: #000080; text-decoration-color: #000080\">INFO    </span> GPU available: <span style=\"color: #00ff00; text-decoration-color: #00ff00; font-style: italic\">True</span> <span style=\"font-weight: bold\">(</span>cuda<span style=\"font-weight: bold\">)</span>, used: <span style=\"color: #00ff00; text-decoration-color: #00ff00; font-style: italic\">True</span>      <a href=\"file:///home/don/miniconda3/envs/lf/lib/python3.9/site-packages/pytorch_lightning/trainer/trainer.py\" target=\"_blank\"><span style=\"color: #7f7f7f; text-decoration-color: #7f7f7f\">pytorch_lightning.utilities.rank_zero</span></a><span style=\"color: #7f7f7f; text-decoration-color: #7f7f7f\">:</span><a href=\"file:///home/don/miniconda3/envs/lf/lib/python3.9/site-packages/pytorch_lightning/trainer/trainer.py#1751\" target=\"_blank\"><span style=\"color: #7f7f7f; text-decoration-color: #7f7f7f\">1751</span></a>\n",
       "</pre>\n"
      ],
      "text/plain": [
       "\u001b[2;36m2023-10-01 16:13:45\u001b[0m\u001b[2;36m \u001b[0m\u001b[34mINFO    \u001b[0m GPU available: \u001b[3;92mTrue\u001b[0m \u001b[1m(\u001b[0mcuda\u001b[1m)\u001b[0m, used: \u001b[3;92mTrue\u001b[0m      \u001b]8;id=559891;file:///home/don/miniconda3/envs/lf/lib/python3.9/site-packages/pytorch_lightning/trainer/trainer.py\u001b\\\u001b[2mpytorch_lightning.utilities.rank_zero\u001b[0m\u001b]8;;\u001b\\\u001b[2m:\u001b[0m\u001b]8;id=536913;file:///home/don/miniconda3/envs/lf/lib/python3.9/site-packages/pytorch_lightning/trainer/trainer.py#1751\u001b\\\u001b[2m1751\u001b[0m\u001b]8;;\u001b\\\n"
      ]
     },
     "metadata": {},
     "output_type": "display_data"
    },
    {
     "data": {
      "text/html": [
       "<pre style=\"white-space:pre;overflow-x:auto;line-height:normal;font-family:Menlo,'DejaVu Sans Mono',consolas,'Courier New',monospace\"><span style=\"color: #7fbfbf; text-decoration-color: #7fbfbf\">                    </span><span style=\"color: #000080; text-decoration-color: #000080\">INFO    </span> TPU available: <span style=\"color: #ff0000; text-decoration-color: #ff0000; font-style: italic\">False</span>, using: <span style=\"color: #008080; text-decoration-color: #008080; font-weight: bold\">0</span> TPU cores    <a href=\"file:///home/don/miniconda3/envs/lf/lib/python3.9/site-packages/pytorch_lightning/trainer/trainer.py\" target=\"_blank\"><span style=\"color: #7f7f7f; text-decoration-color: #7f7f7f\">pytorch_lightning.utilities.rank_zero</span></a><span style=\"color: #7f7f7f; text-decoration-color: #7f7f7f\">:</span><a href=\"file:///home/don/miniconda3/envs/lf/lib/python3.9/site-packages/pytorch_lightning/trainer/trainer.py#1754\" target=\"_blank\"><span style=\"color: #7f7f7f; text-decoration-color: #7f7f7f\">1754</span></a>\n",
       "</pre>\n"
      ],
      "text/plain": [
       "\u001b[2;36m                   \u001b[0m\u001b[2;36m \u001b[0m\u001b[34mINFO    \u001b[0m TPU available: \u001b[3;91mFalse\u001b[0m, using: \u001b[1;36m0\u001b[0m TPU cores    \u001b]8;id=33090;file:///home/don/miniconda3/envs/lf/lib/python3.9/site-packages/pytorch_lightning/trainer/trainer.py\u001b\\\u001b[2mpytorch_lightning.utilities.rank_zero\u001b[0m\u001b]8;;\u001b\\\u001b[2m:\u001b[0m\u001b]8;id=774181;file:///home/don/miniconda3/envs/lf/lib/python3.9/site-packages/pytorch_lightning/trainer/trainer.py#1754\u001b\\\u001b[2m1754\u001b[0m\u001b]8;;\u001b\\\n"
      ]
     },
     "metadata": {},
     "output_type": "display_data"
    },
    {
     "data": {
      "text/html": [
       "<pre style=\"white-space:pre;overflow-x:auto;line-height:normal;font-family:Menlo,'DejaVu Sans Mono',consolas,'Courier New',monospace\"><span style=\"color: #7fbfbf; text-decoration-color: #7fbfbf\">                    </span><span style=\"color: #000080; text-decoration-color: #000080\">INFO    </span> IPU available: <span style=\"color: #ff0000; text-decoration-color: #ff0000; font-style: italic\">False</span>, using: <span style=\"color: #008080; text-decoration-color: #008080; font-weight: bold\">0</span> IPUs         <a href=\"file:///home/don/miniconda3/envs/lf/lib/python3.9/site-packages/pytorch_lightning/trainer/trainer.py\" target=\"_blank\"><span style=\"color: #7f7f7f; text-decoration-color: #7f7f7f\">pytorch_lightning.utilities.rank_zero</span></a><span style=\"color: #7f7f7f; text-decoration-color: #7f7f7f\">:</span><a href=\"file:///home/don/miniconda3/envs/lf/lib/python3.9/site-packages/pytorch_lightning/trainer/trainer.py#1757\" target=\"_blank\"><span style=\"color: #7f7f7f; text-decoration-color: #7f7f7f\">1757</span></a>\n",
       "</pre>\n"
      ],
      "text/plain": [
       "\u001b[2;36m                   \u001b[0m\u001b[2;36m \u001b[0m\u001b[34mINFO    \u001b[0m IPU available: \u001b[3;91mFalse\u001b[0m, using: \u001b[1;36m0\u001b[0m IPUs         \u001b]8;id=161641;file:///home/don/miniconda3/envs/lf/lib/python3.9/site-packages/pytorch_lightning/trainer/trainer.py\u001b\\\u001b[2mpytorch_lightning.utilities.rank_zero\u001b[0m\u001b]8;;\u001b\\\u001b[2m:\u001b[0m\u001b]8;id=636526;file:///home/don/miniconda3/envs/lf/lib/python3.9/site-packages/pytorch_lightning/trainer/trainer.py#1757\u001b\\\u001b[2m1757\u001b[0m\u001b]8;;\u001b\\\n"
      ]
     },
     "metadata": {},
     "output_type": "display_data"
    },
    {
     "data": {
      "text/html": [
       "<pre style=\"white-space:pre;overflow-x:auto;line-height:normal;font-family:Menlo,'DejaVu Sans Mono',consolas,'Courier New',monospace\"><span style=\"color: #7fbfbf; text-decoration-color: #7fbfbf\">                    </span><span style=\"color: #000080; text-decoration-color: #000080\">INFO    </span> HPU available: <span style=\"color: #ff0000; text-decoration-color: #ff0000; font-style: italic\">False</span>, using: <span style=\"color: #008080; text-decoration-color: #008080; font-weight: bold\">0</span> HPUs         <a href=\"file:///home/don/miniconda3/envs/lf/lib/python3.9/site-packages/pytorch_lightning/trainer/trainer.py\" target=\"_blank\"><span style=\"color: #7f7f7f; text-decoration-color: #7f7f7f\">pytorch_lightning.utilities.rank_zero</span></a><span style=\"color: #7f7f7f; text-decoration-color: #7f7f7f\">:</span><a href=\"file:///home/don/miniconda3/envs/lf/lib/python3.9/site-packages/pytorch_lightning/trainer/trainer.py#1760\" target=\"_blank\"><span style=\"color: #7f7f7f; text-decoration-color: #7f7f7f\">1760</span></a>\n",
       "</pre>\n"
      ],
      "text/plain": [
       "\u001b[2;36m                   \u001b[0m\u001b[2;36m \u001b[0m\u001b[34mINFO    \u001b[0m HPU available: \u001b[3;91mFalse\u001b[0m, using: \u001b[1;36m0\u001b[0m HPUs         \u001b]8;id=819803;file:///home/don/miniconda3/envs/lf/lib/python3.9/site-packages/pytorch_lightning/trainer/trainer.py\u001b\\\u001b[2mpytorch_lightning.utilities.rank_zero\u001b[0m\u001b]8;;\u001b\\\u001b[2m:\u001b[0m\u001b]8;id=459936;file:///home/don/miniconda3/envs/lf/lib/python3.9/site-packages/pytorch_lightning/trainer/trainer.py#1760\u001b\\\u001b[2m1760\u001b[0m\u001b]8;;\u001b\\\n"
      ]
     },
     "metadata": {},
     "output_type": "display_data"
    },
    {
     "data": {
      "text/html": [
       "<pre style=\"white-space:pre;overflow-x:auto;line-height:normal;font-family:Menlo,'DejaVu Sans Mono',consolas,'Courier New',monospace\"><span style=\"color: #7fbfbf; text-decoration-color: #7fbfbf\">                    </span><span style=\"color: #000080; text-decoration-color: #000080\">INFO    </span> LOCAL_RANK: <span style=\"color: #008080; text-decoration-color: #008080; font-weight: bold\">0</span> - CUDA_VISIBLE_DEVICES: <span style=\"font-weight: bold\">[</span><span style=\"color: #008080; text-decoration-color: #008080; font-weight: bold\">0</span><span style=\"font-weight: bold\">]</span>       <a href=\"file:///home/don/miniconda3/envs/lf/lib/python3.9/site-packages/pytorch_lightning/accelerators/cuda.py\" target=\"_blank\"><span style=\"color: #7f7f7f; text-decoration-color: #7f7f7f\">pytorch_lightning.accelerators.cuda</span></a><span style=\"color: #7f7f7f; text-decoration-color: #7f7f7f\">:</span><a href=\"file:///home/don/miniconda3/envs/lf/lib/python3.9/site-packages/pytorch_lightning/accelerators/cuda.py#57\" target=\"_blank\"><span style=\"color: #7f7f7f; text-decoration-color: #7f7f7f\">57</span></a>\n",
       "</pre>\n"
      ],
      "text/plain": [
       "\u001b[2;36m                   \u001b[0m\u001b[2;36m \u001b[0m\u001b[34mINFO    \u001b[0m LOCAL_RANK: \u001b[1;36m0\u001b[0m - CUDA_VISIBLE_DEVICES: \u001b[1m[\u001b[0m\u001b[1;36m0\u001b[0m\u001b[1m]\u001b[0m       \u001b]8;id=956906;file:///home/don/miniconda3/envs/lf/lib/python3.9/site-packages/pytorch_lightning/accelerators/cuda.py\u001b\\\u001b[2mpytorch_lightning.accelerators.cuda\u001b[0m\u001b]8;;\u001b\\\u001b[2m:\u001b[0m\u001b]8;id=706827;file:///home/don/miniconda3/envs/lf/lib/python3.9/site-packages/pytorch_lightning/accelerators/cuda.py#57\u001b\\\u001b[2m57\u001b[0m\u001b]8;;\u001b\\\n"
      ]
     },
     "metadata": {},
     "output_type": "display_data"
    },
    {
     "data": {
      "text/html": [
       "<pre style=\"white-space:pre;overflow-x:auto;line-height:normal;font-family:Menlo,'DejaVu Sans Mono',consolas,'Courier New',monospace\"><span style=\"color: #7fbfbf; text-decoration-color: #7fbfbf\">                    </span><span style=\"color: #000080; text-decoration-color: #000080\">INFO    </span>                                           <a href=\"file:///home/don/miniconda3/envs/lf/lib/python3.9/site-packages/pytorch_lightning/callbacks/model_summary.py\" target=\"_blank\"><span style=\"color: #7f7f7f; text-decoration-color: #7f7f7f\">pytorch_lightning.callbacks.model_summary</span></a><span style=\"color: #7f7f7f; text-decoration-color: #7f7f7f\">:</span><a href=\"file:///home/don/miniconda3/envs/lf/lib/python3.9/site-packages/pytorch_lightning/callbacks/model_summary.py#83\" target=\"_blank\"><span style=\"color: #7f7f7f; text-decoration-color: #7f7f7f\">83</span></a>\n",
       "<span style=\"color: #7fbfbf; text-decoration-color: #7fbfbf\">                    </span>           | Name           | Type             |   <span style=\"color: #7f7f7f; text-decoration-color: #7f7f7f\">                                            </span>\n",
       "<span style=\"color: #7fbfbf; text-decoration-color: #7fbfbf\">                    </span>         Params                                    <span style=\"color: #7f7f7f; text-decoration-color: #7f7f7f\">                                            </span>\n",
       "<span style=\"color: #7fbfbf; text-decoration-color: #7fbfbf\">                    </span>         ----------------------------------------- <span style=\"color: #7f7f7f; text-decoration-color: #7f7f7f\">                                            </span>\n",
       "<span style=\"color: #7fbfbf; text-decoration-color: #7fbfbf\">                    </span>         -----------                               <span style=\"color: #7f7f7f; text-decoration-color: #7f7f7f\">                                            </span>\n",
       "<span style=\"color: #7fbfbf; text-decoration-color: #7fbfbf\">                    </span>         <span style=\"color: #008080; text-decoration-color: #008080; font-weight: bold\">0</span> | train_accuracy | Accuracy         | <span style=\"color: #008080; text-decoration-color: #008080; font-weight: bold\">0</span> <span style=\"color: #7f7f7f; text-decoration-color: #7f7f7f\">                                            </span>\n",
       "<span style=\"color: #7fbfbf; text-decoration-color: #7fbfbf\">                    </span>         <span style=\"color: #008080; text-decoration-color: #008080; font-weight: bold\">1</span> | val_accuracy   | Accuracy         | <span style=\"color: #008080; text-decoration-color: #008080; font-weight: bold\">0</span> <span style=\"color: #7f7f7f; text-decoration-color: #7f7f7f\">                                            </span>\n",
       "<span style=\"color: #7fbfbf; text-decoration-color: #7fbfbf\">                    </span>         <span style=\"color: #008080; text-decoration-color: #008080; font-weight: bold\">2</span> | test_accuracy  | Accuracy         | <span style=\"color: #008080; text-decoration-color: #008080; font-weight: bold\">0</span> <span style=\"color: #7f7f7f; text-decoration-color: #7f7f7f\">                                            </span>\n",
       "<span style=\"color: #7fbfbf; text-decoration-color: #7fbfbf\">                    </span>         <span style=\"color: #008080; text-decoration-color: #008080; font-weight: bold\">3</span> | data_augm      | DataAugmentation | <span style=\"color: #008080; text-decoration-color: #008080; font-weight: bold\">0</span> <span style=\"color: #7f7f7f; text-decoration-color: #7f7f7f\">                                            </span>\n",
       "<span style=\"color: #7fbfbf; text-decoration-color: #7fbfbf\">                    </span>         <span style=\"color: #008080; text-decoration-color: #008080; font-weight: bold\">4</span> | model          | StudentCNN       |   <span style=\"color: #7f7f7f; text-decoration-color: #7f7f7f\">                                            </span>\n",
       "<span style=\"color: #7fbfbf; text-decoration-color: #7fbfbf\">                    </span>         <span style=\"color: #008080; text-decoration-color: #008080; font-weight: bold\">127</span> K                                     <span style=\"color: #7f7f7f; text-decoration-color: #7f7f7f\">                                            </span>\n",
       "<span style=\"color: #7fbfbf; text-decoration-color: #7fbfbf\">                    </span>         ----------------------------------------- <span style=\"color: #7f7f7f; text-decoration-color: #7f7f7f\">                                            </span>\n",
       "<span style=\"color: #7fbfbf; text-decoration-color: #7fbfbf\">                    </span>         -----------                               <span style=\"color: #7f7f7f; text-decoration-color: #7f7f7f\">                                            </span>\n",
       "<span style=\"color: #7fbfbf; text-decoration-color: #7fbfbf\">                    </span>         <span style=\"color: #008080; text-decoration-color: #008080; font-weight: bold\">127</span> K     Trainable params                <span style=\"color: #7f7f7f; text-decoration-color: #7f7f7f\">                                            </span>\n",
       "<span style=\"color: #7fbfbf; text-decoration-color: #7fbfbf\">                    </span>         <span style=\"color: #008080; text-decoration-color: #008080; font-weight: bold\">0</span>         Non-trainable params            <span style=\"color: #7f7f7f; text-decoration-color: #7f7f7f\">                                            </span>\n",
       "<span style=\"color: #7fbfbf; text-decoration-color: #7fbfbf\">                    </span>         <span style=\"color: #008080; text-decoration-color: #008080; font-weight: bold\">127</span> K     Total params                    <span style=\"color: #7f7f7f; text-decoration-color: #7f7f7f\">                                            </span>\n",
       "<span style=\"color: #7fbfbf; text-decoration-color: #7fbfbf\">                    </span>         <span style=\"color: #008080; text-decoration-color: #008080; font-weight: bold\">0.510</span>     Total estimated model params    <span style=\"color: #7f7f7f; text-decoration-color: #7f7f7f\">                                            </span>\n",
       "<span style=\"color: #7fbfbf; text-decoration-color: #7fbfbf\">                    </span>         size <span style=\"font-weight: bold\">(</span>MB<span style=\"font-weight: bold\">)</span>                                 <span style=\"color: #7f7f7f; text-decoration-color: #7f7f7f\">                                            </span>\n",
       "</pre>\n"
      ],
      "text/plain": [
       "\u001b[2;36m                   \u001b[0m\u001b[2;36m \u001b[0m\u001b[34mINFO    \u001b[0m                                           \u001b]8;id=594412;file:///home/don/miniconda3/envs/lf/lib/python3.9/site-packages/pytorch_lightning/callbacks/model_summary.py\u001b\\\u001b[2mpytorch_lightning.callbacks.model_summary\u001b[0m\u001b]8;;\u001b\\\u001b[2m:\u001b[0m\u001b]8;id=503210;file:///home/don/miniconda3/envs/lf/lib/python3.9/site-packages/pytorch_lightning/callbacks/model_summary.py#83\u001b\\\u001b[2m83\u001b[0m\u001b]8;;\u001b\\\n",
       "\u001b[2;36m                    \u001b[0m           | Name           | Type             |   \u001b[2m                                            \u001b[0m\n",
       "\u001b[2;36m                    \u001b[0m         Params                                    \u001b[2m                                            \u001b[0m\n",
       "\u001b[2;36m                    \u001b[0m         ----------------------------------------- \u001b[2m                                            \u001b[0m\n",
       "\u001b[2;36m                    \u001b[0m         -----------                               \u001b[2m                                            \u001b[0m\n",
       "\u001b[2;36m                    \u001b[0m         \u001b[1;36m0\u001b[0m | train_accuracy | Accuracy         | \u001b[1;36m0\u001b[0m \u001b[2m                                            \u001b[0m\n",
       "\u001b[2;36m                    \u001b[0m         \u001b[1;36m1\u001b[0m | val_accuracy   | Accuracy         | \u001b[1;36m0\u001b[0m \u001b[2m                                            \u001b[0m\n",
       "\u001b[2;36m                    \u001b[0m         \u001b[1;36m2\u001b[0m | test_accuracy  | Accuracy         | \u001b[1;36m0\u001b[0m \u001b[2m                                            \u001b[0m\n",
       "\u001b[2;36m                    \u001b[0m         \u001b[1;36m3\u001b[0m | data_augm      | DataAugmentation | \u001b[1;36m0\u001b[0m \u001b[2m                                            \u001b[0m\n",
       "\u001b[2;36m                    \u001b[0m         \u001b[1;36m4\u001b[0m | model          | StudentCNN       |   \u001b[2m                                            \u001b[0m\n",
       "\u001b[2;36m                    \u001b[0m         \u001b[1;36m127\u001b[0m K                                     \u001b[2m                                            \u001b[0m\n",
       "\u001b[2;36m                    \u001b[0m         ----------------------------------------- \u001b[2m                                            \u001b[0m\n",
       "\u001b[2;36m                    \u001b[0m         -----------                               \u001b[2m                                            \u001b[0m\n",
       "\u001b[2;36m                    \u001b[0m         \u001b[1;36m127\u001b[0m K     Trainable params                \u001b[2m                                            \u001b[0m\n",
       "\u001b[2;36m                    \u001b[0m         \u001b[1;36m0\u001b[0m         Non-trainable params            \u001b[2m                                            \u001b[0m\n",
       "\u001b[2;36m                    \u001b[0m         \u001b[1;36m127\u001b[0m K     Total params                    \u001b[2m                                            \u001b[0m\n",
       "\u001b[2;36m                    \u001b[0m         \u001b[1;36m0.510\u001b[0m     Total estimated model params    \u001b[2m                                            \u001b[0m\n",
       "\u001b[2;36m                    \u001b[0m         size \u001b[1m(\u001b[0mMB\u001b[1m)\u001b[0m                                 \u001b[2m                                            \u001b[0m\n"
      ]
     },
     "metadata": {},
     "output_type": "display_data"
    },
    {
     "name": "stdout",
     "output_type": "stream",
     "text": [
      "Epoch 29: 100%|██████████| 1/1 [00:02<00:00,  2.04s/it, loss=3.78, loss/train=3.420]"
     ]
    },
    {
     "data": {
      "text/html": [
       "<pre style=\"white-space:pre;overflow-x:auto;line-height:normal;font-family:Menlo,'DejaVu Sans Mono',consolas,'Courier New',monospace\"><span style=\"color: #7fbfbf; text-decoration-color: #7fbfbf\">2023-10-01 16:14:37 </span><span style=\"color: #000080; text-decoration-color: #000080\">INFO    </span> `Trainer.fit` stopped: `<span style=\"color: #808000; text-decoration-color: #808000\">max_epochs</span>=<span style=\"color: #008080; text-decoration-color: #008080; font-weight: bold\">30</span>`       <a href=\"file:///home/don/miniconda3/envs/lf/lib/python3.9/site-packages/pytorch_lightning/loops/fit_loop.py\" target=\"_blank\"><span style=\"color: #7f7f7f; text-decoration-color: #7f7f7f\">pytorch_lightning.utilities.rank_zero</span></a><span style=\"color: #7f7f7f; text-decoration-color: #7f7f7f\">:</span><a href=\"file:///home/don/miniconda3/envs/lf/lib/python3.9/site-packages/pytorch_lightning/loops/fit_loop.py#170\" target=\"_blank\"><span style=\"color: #7f7f7f; text-decoration-color: #7f7f7f\">170</span></a>\n",
       "<span style=\"color: #7fbfbf; text-decoration-color: #7fbfbf\">                    </span>         reached.                                     <span style=\"color: #7f7f7f; text-decoration-color: #7f7f7f\">                                         </span>\n",
       "</pre>\n"
      ],
      "text/plain": [
       "\u001b[2;36m2023-10-01 16:14:37\u001b[0m\u001b[2;36m \u001b[0m\u001b[34mINFO    \u001b[0m `Trainer.fit` stopped: `\u001b[33mmax_epochs\u001b[0m=\u001b[1;36m30\u001b[0m`       \u001b]8;id=60856;file:///home/don/miniconda3/envs/lf/lib/python3.9/site-packages/pytorch_lightning/loops/fit_loop.py\u001b\\\u001b[2mpytorch_lightning.utilities.rank_zero\u001b[0m\u001b]8;;\u001b\\\u001b[2m:\u001b[0m\u001b]8;id=419118;file:///home/don/miniconda3/envs/lf/lib/python3.9/site-packages/pytorch_lightning/loops/fit_loop.py#170\u001b\\\u001b[2m170\u001b[0m\u001b]8;;\u001b\\\n",
       "\u001b[2;36m                    \u001b[0m         reached.                                     \u001b[2m                                         \u001b[0m\n"
      ]
     },
     "metadata": {},
     "output_type": "display_data"
    },
    {
     "name": "stdout",
     "output_type": "stream",
     "text": [
      "Epoch 29: 100%|██████████| 1/1 [00:02<00:00,  2.05s/it, loss=3.78, loss/train=3.420]\n"
     ]
    }
   ],
   "source": [
    "trainer = trainer_func()\n",
    "trainer.fit(student, train_loader)"
   ]
  },
  {
   "cell_type": "code",
   "execution_count": 19,
   "metadata": {},
   "outputs": [
    {
     "data": {
      "text/html": [
       "<pre style=\"white-space:pre;overflow-x:auto;line-height:normal;font-family:Menlo,'DejaVu Sans Mono',consolas,'Courier New',monospace\"><span style=\"color: #7fbfbf; text-decoration-color: #7fbfbf\">                    </span><span style=\"color: #000080; text-decoration-color: #000080\">INFO    </span> LOCAL_RANK: <span style=\"color: #008080; text-decoration-color: #008080; font-weight: bold\">0</span> - CUDA_VISIBLE_DEVICES: <span style=\"font-weight: bold\">[</span><span style=\"color: #008080; text-decoration-color: #008080; font-weight: bold\">0</span><span style=\"font-weight: bold\">]</span>       <a href=\"file:///home/don/miniconda3/envs/lf/lib/python3.9/site-packages/pytorch_lightning/accelerators/cuda.py\" target=\"_blank\"><span style=\"color: #7f7f7f; text-decoration-color: #7f7f7f\">pytorch_lightning.accelerators.cuda</span></a><span style=\"color: #7f7f7f; text-decoration-color: #7f7f7f\">:</span><a href=\"file:///home/don/miniconda3/envs/lf/lib/python3.9/site-packages/pytorch_lightning/accelerators/cuda.py#57\" target=\"_blank\"><span style=\"color: #7f7f7f; text-decoration-color: #7f7f7f\">57</span></a>\n",
       "</pre>\n"
      ],
      "text/plain": [
       "\u001b[2;36m                   \u001b[0m\u001b[2;36m \u001b[0m\u001b[34mINFO    \u001b[0m LOCAL_RANK: \u001b[1;36m0\u001b[0m - CUDA_VISIBLE_DEVICES: \u001b[1m[\u001b[0m\u001b[1;36m0\u001b[0m\u001b[1m]\u001b[0m       \u001b]8;id=268241;file:///home/don/miniconda3/envs/lf/lib/python3.9/site-packages/pytorch_lightning/accelerators/cuda.py\u001b\\\u001b[2mpytorch_lightning.accelerators.cuda\u001b[0m\u001b]8;;\u001b\\\u001b[2m:\u001b[0m\u001b]8;id=189134;file:///home/don/miniconda3/envs/lf/lib/python3.9/site-packages/pytorch_lightning/accelerators/cuda.py#57\u001b\\\u001b[2m57\u001b[0m\u001b]8;;\u001b\\\n"
      ]
     },
     "metadata": {},
     "output_type": "display_data"
    },
    {
     "name": "stdout",
     "output_type": "stream",
     "text": [
      "Testing DataLoader 0: 100%|██████████| 1/1 [00:00<00:00, 40.05it/s]\n"
     ]
    },
    {
     "data": {
      "text/html": [
       "<pre style=\"white-space:pre;overflow-x:auto;line-height:normal;font-family:Menlo,'DejaVu Sans Mono',consolas,'Courier New',monospace\">┏━━━━━━━━━━━━━━━━━━━━━━━━━━━┳━━━━━━━━━━━━━━━━━━━━━━━━━━━┓\n",
       "┃<span style=\"font-weight: bold\">        Test metric        </span>┃<span style=\"font-weight: bold\">       DataLoader 0        </span>┃\n",
       "┡━━━━━━━━━━━━━━━━━━━━━━━━━━━╇━━━━━━━━━━━━━━━━━━━━━━━━━━━┩\n",
       "│<span style=\"color: #008080; text-decoration-color: #008080\">         acc/test          </span>│<span style=\"color: #800080; text-decoration-color: #800080\">   0.029999999329447746    </span>│\n",
       "│<span style=\"color: #008080; text-decoration-color: #008080\">         loss/test         </span>│<span style=\"color: #800080; text-decoration-color: #800080\">      4.9328932762146      </span>│\n",
       "└───────────────────────────┴───────────────────────────┘\n",
       "</pre>\n"
      ],
      "text/plain": [
       "┏━━━━━━━━━━━━━━━━━━━━━━━━━━━┳━━━━━━━━━━━━━━━━━━━━━━━━━━━┓\n",
       "┃\u001b[1m \u001b[0m\u001b[1m       Test metric       \u001b[0m\u001b[1m \u001b[0m┃\u001b[1m \u001b[0m\u001b[1m      DataLoader 0       \u001b[0m\u001b[1m \u001b[0m┃\n",
       "┡━━━━━━━━━━━━━━━━━━━━━━━━━━━╇━━━━━━━━━━━━━━━━━━━━━━━━━━━┩\n",
       "│\u001b[36m \u001b[0m\u001b[36m        acc/test         \u001b[0m\u001b[36m \u001b[0m│\u001b[35m \u001b[0m\u001b[35m  0.029999999329447746   \u001b[0m\u001b[35m \u001b[0m│\n",
       "│\u001b[36m \u001b[0m\u001b[36m        loss/test        \u001b[0m\u001b[36m \u001b[0m│\u001b[35m \u001b[0m\u001b[35m     4.9328932762146     \u001b[0m\u001b[35m \u001b[0m│\n",
       "└───────────────────────────┴───────────────────────────┘\n"
      ]
     },
     "metadata": {},
     "output_type": "display_data"
    },
    {
     "data": {
      "text/plain": [
       "[{'loss/test': 4.9328932762146, 'acc/test': 0.029999999329447746}]"
      ]
     },
     "execution_count": 19,
     "metadata": {},
     "output_type": "execute_result"
    }
   ],
   "source": [
    "trainer.test(student, test_loader)"
   ]
  },
  {
   "cell_type": "markdown",
   "metadata": {},
   "source": [
    "# Standard distillation"
   ]
  },
  {
   "cell_type": "code",
   "execution_count": 20,
   "metadata": {},
   "outputs": [],
   "source": [
    "from tqdm import tqdm\n",
    "\n",
    "\n",
    "def embed_samples(dataset, model) -> Dict:\n",
    "\n",
    "    model = model.to(\"cuda\")\n",
    "    dataloader = loader_func(dataset, shuffle=False, batch_size=8)\n",
    "\n",
    "    all_embeddings = []\n",
    "    all_logits = []\n",
    "\n",
    "    for batch in tqdm(dataloader, desc=f\"Embedding {mode} samples\"):\n",
    "        x = batch[\"x\"].to(\"cuda\")\n",
    "        model_out = model(x)\n",
    "        embeds, logits = model_out[\"embeds\"].detach().cpu(), model_out[\"logits\"].detach().cpu()\n",
    "        all_embeddings.extend(embeds)\n",
    "        all_logits.extend(logits)\n",
    "\n",
    "    all_embeddings = torch.stack(all_embeddings)\n",
    "    all_logits = torch.stack(all_logits)\n",
    "\n",
    "    map_params = {\n",
    "        \"with_indices\": True,\n",
    "        \"batched\": True,\n",
    "        \"batch_size\": 128,\n",
    "        \"num_proc\": 1,\n",
    "        \"writer_batch_size\": 10,\n",
    "    }\n",
    "\n",
    "    dataset = dataset.map(\n",
    "        function=lambda x, ind: {\n",
    "            \"embedding\": all_embeddings[ind],\n",
    "        },\n",
    "        desc=f\"Storing embedded samples\",\n",
    "        **map_params,\n",
    "    )\n",
    "    dataset = dataset.map(\n",
    "        function=lambda x, ind: {\n",
    "            \"logits\": all_logits[ind],\n",
    "        },\n",
    "        desc=f\"Storing logits\",\n",
    "        **map_params,\n",
    "    )\n",
    "\n",
    "    return dataset"
   ]
  },
  {
   "cell_type": "code",
   "execution_count": 21,
   "metadata": {},
   "outputs": [
    {
     "name": "stderr",
     "output_type": "stream",
     "text": [
      "Embedding test samples: 100%|██████████| 13/13 [00:01<00:00, 10.79it/s]\n",
      "Storing embedded samples: 100%|██████████| 100/100 [00:01<00:00, 89.11 examples/s]\n",
      "Storing logits: 100%|██████████| 100/100 [00:01<00:00, 92.79 examples/s]\n",
      "Embedding test samples: 100%|██████████| 13/13 [00:01<00:00, 11.69it/s]\n",
      "Storing embedded samples: 100%|██████████| 100/100 [00:01<00:00, 84.04 examples/s]\n",
      "Storing logits: 100%|██████████| 100/100 [00:01<00:00, 79.64 examples/s]\n"
     ]
    }
   ],
   "source": [
    "dataset['train'] = embed_samples(dataset['train'], teacher)\n",
    "dataset['test'] = embed_samples(dataset['test'], teacher)"
   ]
  },
  {
   "cell_type": "code",
   "execution_count": 22,
   "metadata": {},
   "outputs": [],
   "source": [
    "dataset['train'].set_format(type=\"torch\", columns=['x', 'y', 'embedding', 'logits'])\n",
    "dataset['test'].set_format(type=\"torch\", columns=['x', 'y', 'embedding', 'logits'])"
   ]
  },
  {
   "cell_type": "markdown",
   "metadata": {},
   "source": [
    "# Stan"
   ]
  },
  {
   "cell_type": "code",
   "execution_count": 23,
   "metadata": {},
   "outputs": [],
   "source": [
    "num_anchors = 99\n",
    "anchor_idxs = np.random.choice(len(dataset['train']), size=num_anchors, replace=False)\n",
    "\n",
    "anchors = dataset['train'].select(anchor_idxs)"
   ]
  },
  {
   "cell_type": "code",
   "execution_count": 24,
   "metadata": {},
   "outputs": [
    {
     "data": {
      "text/html": [
       "<pre style=\"white-space:pre;overflow-x:auto;line-height:normal;font-family:Menlo,'DejaVu Sans Mono',consolas,'Courier New',monospace\"><span style=\"color: #7fbfbf; text-decoration-color: #7fbfbf\">2023-10-01 16:14:46 </span><span style=\"color: #000080; text-decoration-color: #000080\">INFO    </span> shapes: <span style=\"color: #800080; text-decoration-color: #800080; font-weight: bold\">torch.Size</span><span style=\"font-weight: bold\">([</span><span style=\"color: #008080; text-decoration-color: #008080; font-weight: bold\">1</span>, <span style=\"color: #008080; text-decoration-color: #008080; font-weight: bold\">16</span>, <span style=\"color: #008080; text-decoration-color: #008080; font-weight: bold\">7</span>, <span style=\"color: #008080; text-decoration-color: #008080; font-weight: bold\">7</span><span style=\"font-weight: bold\">])</span>                    <a href=\"file:///home/don/Code/latent-aggregation/src/la/modules/vanilla_cnn_student.py\" target=\"_blank\"><span style=\"color: #7f7f7f; text-decoration-color: #7f7f7f\">la.modules.vanilla_cnn_student</span></a><span style=\"color: #7f7f7f; text-decoration-color: #7f7f7f\">:</span><a href=\"file:///home/don/Code/latent-aggregation/src/la/modules/vanilla_cnn_student.py#55\" target=\"_blank\"><span style=\"color: #7f7f7f; text-decoration-color: #7f7f7f\">55</span></a>\n",
       "</pre>\n"
      ],
      "text/plain": [
       "\u001b[2;36m2023-10-01 16:14:46\u001b[0m\u001b[2;36m \u001b[0m\u001b[34mINFO    \u001b[0m shapes: \u001b[1;35mtorch.Size\u001b[0m\u001b[1m(\u001b[0m\u001b[1m[\u001b[0m\u001b[1;36m1\u001b[0m, \u001b[1;36m16\u001b[0m, \u001b[1;36m7\u001b[0m, \u001b[1;36m7\u001b[0m\u001b[1m]\u001b[0m\u001b[1m)\u001b[0m                    \u001b]8;id=903327;file:///home/don/Code/latent-aggregation/src/la/modules/vanilla_cnn_student.py\u001b\\\u001b[2mla.modules.vanilla_cnn_student\u001b[0m\u001b]8;;\u001b\\\u001b[2m:\u001b[0m\u001b]8;id=283981;file:///home/don/Code/latent-aggregation/src/la/modules/vanilla_cnn_student.py#55\u001b\\\u001b[2m55\u001b[0m\u001b]8;;\u001b\\\n"
      ]
     },
     "metadata": {},
     "output_type": "display_data"
    }
   ],
   "source": [
    "relative_student = hydra.utils.instantiate(\n",
    "    cfg.student_relative,\n",
    "    _recursive_=False,\n",
    "    num_classes=cfg.dataset.num_classes,\n",
    "    model=cfg.student_relative.model,\n",
    "    input_dim=img_size,\n",
    "    anchors=anchors\n",
    ")"
   ]
  },
  {
   "cell_type": "code",
   "execution_count": 25,
   "metadata": {},
   "outputs": [],
   "source": [
    "train_loader = loader_func(dataset['train'], shuffle=True)\n",
    "test_loader = loader_func(dataset['test'], shuffle=False)"
   ]
  },
  {
   "cell_type": "code",
   "execution_count": 26,
   "metadata": {},
   "outputs": [
    {
     "data": {
      "text/html": [
       "<pre style=\"white-space:pre;overflow-x:auto;line-height:normal;font-family:Menlo,'DejaVu Sans Mono',consolas,'Courier New',monospace\"><span style=\"color: #7fbfbf; text-decoration-color: #7fbfbf\">2023-10-01 16:14:48 </span><span style=\"color: #000080; text-decoration-color: #000080\">INFO    </span> GPU available: <span style=\"color: #00ff00; text-decoration-color: #00ff00; font-style: italic\">True</span> <span style=\"font-weight: bold\">(</span>cuda<span style=\"font-weight: bold\">)</span>, used: <span style=\"color: #00ff00; text-decoration-color: #00ff00; font-style: italic\">True</span>      <a href=\"file:///home/don/miniconda3/envs/lf/lib/python3.9/site-packages/pytorch_lightning/trainer/trainer.py\" target=\"_blank\"><span style=\"color: #7f7f7f; text-decoration-color: #7f7f7f\">pytorch_lightning.utilities.rank_zero</span></a><span style=\"color: #7f7f7f; text-decoration-color: #7f7f7f\">:</span><a href=\"file:///home/don/miniconda3/envs/lf/lib/python3.9/site-packages/pytorch_lightning/trainer/trainer.py#1751\" target=\"_blank\"><span style=\"color: #7f7f7f; text-decoration-color: #7f7f7f\">1751</span></a>\n",
       "</pre>\n"
      ],
      "text/plain": [
       "\u001b[2;36m2023-10-01 16:14:48\u001b[0m\u001b[2;36m \u001b[0m\u001b[34mINFO    \u001b[0m GPU available: \u001b[3;92mTrue\u001b[0m \u001b[1m(\u001b[0mcuda\u001b[1m)\u001b[0m, used: \u001b[3;92mTrue\u001b[0m      \u001b]8;id=794443;file:///home/don/miniconda3/envs/lf/lib/python3.9/site-packages/pytorch_lightning/trainer/trainer.py\u001b\\\u001b[2mpytorch_lightning.utilities.rank_zero\u001b[0m\u001b]8;;\u001b\\\u001b[2m:\u001b[0m\u001b]8;id=984853;file:///home/don/miniconda3/envs/lf/lib/python3.9/site-packages/pytorch_lightning/trainer/trainer.py#1751\u001b\\\u001b[2m1751\u001b[0m\u001b]8;;\u001b\\\n"
      ]
     },
     "metadata": {},
     "output_type": "display_data"
    },
    {
     "data": {
      "text/html": [
       "<pre style=\"white-space:pre;overflow-x:auto;line-height:normal;font-family:Menlo,'DejaVu Sans Mono',consolas,'Courier New',monospace\"><span style=\"color: #7fbfbf; text-decoration-color: #7fbfbf\">                    </span><span style=\"color: #000080; text-decoration-color: #000080\">INFO    </span> TPU available: <span style=\"color: #ff0000; text-decoration-color: #ff0000; font-style: italic\">False</span>, using: <span style=\"color: #008080; text-decoration-color: #008080; font-weight: bold\">0</span> TPU cores    <a href=\"file:///home/don/miniconda3/envs/lf/lib/python3.9/site-packages/pytorch_lightning/trainer/trainer.py\" target=\"_blank\"><span style=\"color: #7f7f7f; text-decoration-color: #7f7f7f\">pytorch_lightning.utilities.rank_zero</span></a><span style=\"color: #7f7f7f; text-decoration-color: #7f7f7f\">:</span><a href=\"file:///home/don/miniconda3/envs/lf/lib/python3.9/site-packages/pytorch_lightning/trainer/trainer.py#1754\" target=\"_blank\"><span style=\"color: #7f7f7f; text-decoration-color: #7f7f7f\">1754</span></a>\n",
       "</pre>\n"
      ],
      "text/plain": [
       "\u001b[2;36m                   \u001b[0m\u001b[2;36m \u001b[0m\u001b[34mINFO    \u001b[0m TPU available: \u001b[3;91mFalse\u001b[0m, using: \u001b[1;36m0\u001b[0m TPU cores    \u001b]8;id=643975;file:///home/don/miniconda3/envs/lf/lib/python3.9/site-packages/pytorch_lightning/trainer/trainer.py\u001b\\\u001b[2mpytorch_lightning.utilities.rank_zero\u001b[0m\u001b]8;;\u001b\\\u001b[2m:\u001b[0m\u001b]8;id=78739;file:///home/don/miniconda3/envs/lf/lib/python3.9/site-packages/pytorch_lightning/trainer/trainer.py#1754\u001b\\\u001b[2m1754\u001b[0m\u001b]8;;\u001b\\\n"
      ]
     },
     "metadata": {},
     "output_type": "display_data"
    },
    {
     "data": {
      "text/html": [
       "<pre style=\"white-space:pre;overflow-x:auto;line-height:normal;font-family:Menlo,'DejaVu Sans Mono',consolas,'Courier New',monospace\"><span style=\"color: #7fbfbf; text-decoration-color: #7fbfbf\">                    </span><span style=\"color: #000080; text-decoration-color: #000080\">INFO    </span> IPU available: <span style=\"color: #ff0000; text-decoration-color: #ff0000; font-style: italic\">False</span>, using: <span style=\"color: #008080; text-decoration-color: #008080; font-weight: bold\">0</span> IPUs         <a href=\"file:///home/don/miniconda3/envs/lf/lib/python3.9/site-packages/pytorch_lightning/trainer/trainer.py\" target=\"_blank\"><span style=\"color: #7f7f7f; text-decoration-color: #7f7f7f\">pytorch_lightning.utilities.rank_zero</span></a><span style=\"color: #7f7f7f; text-decoration-color: #7f7f7f\">:</span><a href=\"file:///home/don/miniconda3/envs/lf/lib/python3.9/site-packages/pytorch_lightning/trainer/trainer.py#1757\" target=\"_blank\"><span style=\"color: #7f7f7f; text-decoration-color: #7f7f7f\">1757</span></a>\n",
       "</pre>\n"
      ],
      "text/plain": [
       "\u001b[2;36m                   \u001b[0m\u001b[2;36m \u001b[0m\u001b[34mINFO    \u001b[0m IPU available: \u001b[3;91mFalse\u001b[0m, using: \u001b[1;36m0\u001b[0m IPUs         \u001b]8;id=657426;file:///home/don/miniconda3/envs/lf/lib/python3.9/site-packages/pytorch_lightning/trainer/trainer.py\u001b\\\u001b[2mpytorch_lightning.utilities.rank_zero\u001b[0m\u001b]8;;\u001b\\\u001b[2m:\u001b[0m\u001b]8;id=646280;file:///home/don/miniconda3/envs/lf/lib/python3.9/site-packages/pytorch_lightning/trainer/trainer.py#1757\u001b\\\u001b[2m1757\u001b[0m\u001b]8;;\u001b\\\n"
      ]
     },
     "metadata": {},
     "output_type": "display_data"
    },
    {
     "data": {
      "text/html": [
       "<pre style=\"white-space:pre;overflow-x:auto;line-height:normal;font-family:Menlo,'DejaVu Sans Mono',consolas,'Courier New',monospace\"><span style=\"color: #7fbfbf; text-decoration-color: #7fbfbf\">                    </span><span style=\"color: #000080; text-decoration-color: #000080\">INFO    </span> HPU available: <span style=\"color: #ff0000; text-decoration-color: #ff0000; font-style: italic\">False</span>, using: <span style=\"color: #008080; text-decoration-color: #008080; font-weight: bold\">0</span> HPUs         <a href=\"file:///home/don/miniconda3/envs/lf/lib/python3.9/site-packages/pytorch_lightning/trainer/trainer.py\" target=\"_blank\"><span style=\"color: #7f7f7f; text-decoration-color: #7f7f7f\">pytorch_lightning.utilities.rank_zero</span></a><span style=\"color: #7f7f7f; text-decoration-color: #7f7f7f\">:</span><a href=\"file:///home/don/miniconda3/envs/lf/lib/python3.9/site-packages/pytorch_lightning/trainer/trainer.py#1760\" target=\"_blank\"><span style=\"color: #7f7f7f; text-decoration-color: #7f7f7f\">1760</span></a>\n",
       "</pre>\n"
      ],
      "text/plain": [
       "\u001b[2;36m                   \u001b[0m\u001b[2;36m \u001b[0m\u001b[34mINFO    \u001b[0m HPU available: \u001b[3;91mFalse\u001b[0m, using: \u001b[1;36m0\u001b[0m HPUs         \u001b]8;id=704980;file:///home/don/miniconda3/envs/lf/lib/python3.9/site-packages/pytorch_lightning/trainer/trainer.py\u001b\\\u001b[2mpytorch_lightning.utilities.rank_zero\u001b[0m\u001b]8;;\u001b\\\u001b[2m:\u001b[0m\u001b]8;id=780428;file:///home/don/miniconda3/envs/lf/lib/python3.9/site-packages/pytorch_lightning/trainer/trainer.py#1760\u001b\\\u001b[2m1760\u001b[0m\u001b]8;;\u001b\\\n"
      ]
     },
     "metadata": {},
     "output_type": "display_data"
    },
    {
     "data": {
      "text/html": [
       "<pre style=\"white-space:pre;overflow-x:auto;line-height:normal;font-family:Menlo,'DejaVu Sans Mono',consolas,'Courier New',monospace\"><span style=\"color: #7fbfbf; text-decoration-color: #7fbfbf\">                    </span><span style=\"color: #000080; text-decoration-color: #000080\">INFO    </span> LOCAL_RANK: <span style=\"color: #008080; text-decoration-color: #008080; font-weight: bold\">0</span> - CUDA_VISIBLE_DEVICES: <span style=\"font-weight: bold\">[</span><span style=\"color: #008080; text-decoration-color: #008080; font-weight: bold\">0</span><span style=\"font-weight: bold\">]</span>       <a href=\"file:///home/don/miniconda3/envs/lf/lib/python3.9/site-packages/pytorch_lightning/accelerators/cuda.py\" target=\"_blank\"><span style=\"color: #7f7f7f; text-decoration-color: #7f7f7f\">pytorch_lightning.accelerators.cuda</span></a><span style=\"color: #7f7f7f; text-decoration-color: #7f7f7f\">:</span><a href=\"file:///home/don/miniconda3/envs/lf/lib/python3.9/site-packages/pytorch_lightning/accelerators/cuda.py#57\" target=\"_blank\"><span style=\"color: #7f7f7f; text-decoration-color: #7f7f7f\">57</span></a>\n",
       "</pre>\n"
      ],
      "text/plain": [
       "\u001b[2;36m                   \u001b[0m\u001b[2;36m \u001b[0m\u001b[34mINFO    \u001b[0m LOCAL_RANK: \u001b[1;36m0\u001b[0m - CUDA_VISIBLE_DEVICES: \u001b[1m[\u001b[0m\u001b[1;36m0\u001b[0m\u001b[1m]\u001b[0m       \u001b]8;id=472206;file:///home/don/miniconda3/envs/lf/lib/python3.9/site-packages/pytorch_lightning/accelerators/cuda.py\u001b\\\u001b[2mpytorch_lightning.accelerators.cuda\u001b[0m\u001b]8;;\u001b\\\u001b[2m:\u001b[0m\u001b]8;id=820932;file:///home/don/miniconda3/envs/lf/lib/python3.9/site-packages/pytorch_lightning/accelerators/cuda.py#57\u001b\\\u001b[2m57\u001b[0m\u001b]8;;\u001b\\\n"
      ]
     },
     "metadata": {},
     "output_type": "display_data"
    },
    {
     "data": {
      "text/html": [
       "<pre style=\"white-space:pre;overflow-x:auto;line-height:normal;font-family:Menlo,'DejaVu Sans Mono',consolas,'Courier New',monospace\"><span style=\"color: #7fbfbf; text-decoration-color: #7fbfbf\">                    </span><span style=\"color: #000080; text-decoration-color: #000080\">INFO    </span>                                           <a href=\"file:///home/don/miniconda3/envs/lf/lib/python3.9/site-packages/pytorch_lightning/callbacks/model_summary.py\" target=\"_blank\"><span style=\"color: #7f7f7f; text-decoration-color: #7f7f7f\">pytorch_lightning.callbacks.model_summary</span></a><span style=\"color: #7f7f7f; text-decoration-color: #7f7f7f\">:</span><a href=\"file:///home/don/miniconda3/envs/lf/lib/python3.9/site-packages/pytorch_lightning/callbacks/model_summary.py#83\" target=\"_blank\"><span style=\"color: #7f7f7f; text-decoration-color: #7f7f7f\">83</span></a>\n",
       "<span style=\"color: #7fbfbf; text-decoration-color: #7fbfbf\">                    </span>           | Name              | Type              <span style=\"color: #7f7f7f; text-decoration-color: #7f7f7f\">                                            </span>\n",
       "<span style=\"color: #7fbfbf; text-decoration-color: #7fbfbf\">                    </span>         | Params                                  <span style=\"color: #7f7f7f; text-decoration-color: #7f7f7f\">                                            </span>\n",
       "<span style=\"color: #7fbfbf; text-decoration-color: #7fbfbf\">                    </span>         ----------------------------------------- <span style=\"color: #7f7f7f; text-decoration-color: #7f7f7f\">                                            </span>\n",
       "<span style=\"color: #7fbfbf; text-decoration-color: #7fbfbf\">                    </span>         --------------                            <span style=\"color: #7f7f7f; text-decoration-color: #7f7f7f\">                                            </span>\n",
       "<span style=\"color: #7fbfbf; text-decoration-color: #7fbfbf\">                    </span>         <span style=\"color: #008080; text-decoration-color: #008080; font-weight: bold\">0</span> | train_accuracy    | Accuracy          <span style=\"color: #7f7f7f; text-decoration-color: #7f7f7f\">                                            </span>\n",
       "<span style=\"color: #7fbfbf; text-decoration-color: #7fbfbf\">                    </span>         | <span style=\"color: #008080; text-decoration-color: #008080; font-weight: bold\">0</span>                                       <span style=\"color: #7f7f7f; text-decoration-color: #7f7f7f\">                                            </span>\n",
       "<span style=\"color: #7fbfbf; text-decoration-color: #7fbfbf\">                    </span>         <span style=\"color: #008080; text-decoration-color: #008080; font-weight: bold\">1</span> | val_accuracy      | Accuracy          <span style=\"color: #7f7f7f; text-decoration-color: #7f7f7f\">                                            </span>\n",
       "<span style=\"color: #7fbfbf; text-decoration-color: #7fbfbf\">                    </span>         | <span style=\"color: #008080; text-decoration-color: #008080; font-weight: bold\">0</span>                                       <span style=\"color: #7f7f7f; text-decoration-color: #7f7f7f\">                                            </span>\n",
       "<span style=\"color: #7fbfbf; text-decoration-color: #7fbfbf\">                    </span>         <span style=\"color: #008080; text-decoration-color: #008080; font-weight: bold\">2</span> | test_accuracy     | Accuracy          <span style=\"color: #7f7f7f; text-decoration-color: #7f7f7f\">                                            </span>\n",
       "<span style=\"color: #7fbfbf; text-decoration-color: #7fbfbf\">                    </span>         | <span style=\"color: #008080; text-decoration-color: #008080; font-weight: bold\">0</span>                                       <span style=\"color: #7f7f7f; text-decoration-color: #7f7f7f\">                                            </span>\n",
       "<span style=\"color: #7fbfbf; text-decoration-color: #7fbfbf\">                    </span>         <span style=\"color: #008080; text-decoration-color: #008080; font-weight: bold\">3</span> | data_augm         | DataAugmentation  <span style=\"color: #7f7f7f; text-decoration-color: #7f7f7f\">                                            </span>\n",
       "<span style=\"color: #7fbfbf; text-decoration-color: #7fbfbf\">                    </span>         | <span style=\"color: #008080; text-decoration-color: #008080; font-weight: bold\">0</span>                                       <span style=\"color: #7f7f7f; text-decoration-color: #7f7f7f\">                                            </span>\n",
       "<span style=\"color: #7fbfbf; text-decoration-color: #7fbfbf\">                    </span>         <span style=\"color: #008080; text-decoration-color: #008080; font-weight: bold\">4</span> | model             | StudentCNN        <span style=\"color: #7f7f7f; text-decoration-color: #7f7f7f\">                                            </span>\n",
       "<span style=\"color: #7fbfbf; text-decoration-color: #7fbfbf\">                    </span>         | <span style=\"color: #008080; text-decoration-color: #008080; font-weight: bold\">127</span> K                                   <span style=\"color: #7f7f7f; text-decoration-color: #7f7f7f\">                                            </span>\n",
       "<span style=\"color: #7fbfbf; text-decoration-color: #7fbfbf\">                    </span>         <span style=\"color: #008080; text-decoration-color: #008080; font-weight: bold\">5</span> | distillation_loss | MSELoss           <span style=\"color: #7f7f7f; text-decoration-color: #7f7f7f\">                                            </span>\n",
       "<span style=\"color: #7fbfbf; text-decoration-color: #7fbfbf\">                    </span>         | <span style=\"color: #008080; text-decoration-color: #008080; font-weight: bold\">0</span>                                       <span style=\"color: #7f7f7f; text-decoration-color: #7f7f7f\">                                            </span>\n",
       "<span style=\"color: #7fbfbf; text-decoration-color: #7fbfbf\">                    </span>         ----------------------------------------- <span style=\"color: #7f7f7f; text-decoration-color: #7f7f7f\">                                            </span>\n",
       "<span style=\"color: #7fbfbf; text-decoration-color: #7fbfbf\">                    </span>         --------------                            <span style=\"color: #7f7f7f; text-decoration-color: #7f7f7f\">                                            </span>\n",
       "<span style=\"color: #7fbfbf; text-decoration-color: #7fbfbf\">                    </span>         <span style=\"color: #008080; text-decoration-color: #008080; font-weight: bold\">127</span> K     Trainable params                <span style=\"color: #7f7f7f; text-decoration-color: #7f7f7f\">                                            </span>\n",
       "<span style=\"color: #7fbfbf; text-decoration-color: #7fbfbf\">                    </span>         <span style=\"color: #008080; text-decoration-color: #008080; font-weight: bold\">0</span>         Non-trainable params            <span style=\"color: #7f7f7f; text-decoration-color: #7f7f7f\">                                            </span>\n",
       "<span style=\"color: #7fbfbf; text-decoration-color: #7fbfbf\">                    </span>         <span style=\"color: #008080; text-decoration-color: #008080; font-weight: bold\">127</span> K     Total params                    <span style=\"color: #7f7f7f; text-decoration-color: #7f7f7f\">                                            </span>\n",
       "<span style=\"color: #7fbfbf; text-decoration-color: #7fbfbf\">                    </span>         <span style=\"color: #008080; text-decoration-color: #008080; font-weight: bold\">0.510</span>     Total estimated model params    <span style=\"color: #7f7f7f; text-decoration-color: #7f7f7f\">                                            </span>\n",
       "<span style=\"color: #7fbfbf; text-decoration-color: #7fbfbf\">                    </span>         size <span style=\"font-weight: bold\">(</span>MB<span style=\"font-weight: bold\">)</span>                                 <span style=\"color: #7f7f7f; text-decoration-color: #7f7f7f\">                                            </span>\n",
       "</pre>\n"
      ],
      "text/plain": [
       "\u001b[2;36m                   \u001b[0m\u001b[2;36m \u001b[0m\u001b[34mINFO    \u001b[0m                                           \u001b]8;id=800691;file:///home/don/miniconda3/envs/lf/lib/python3.9/site-packages/pytorch_lightning/callbacks/model_summary.py\u001b\\\u001b[2mpytorch_lightning.callbacks.model_summary\u001b[0m\u001b]8;;\u001b\\\u001b[2m:\u001b[0m\u001b]8;id=313821;file:///home/don/miniconda3/envs/lf/lib/python3.9/site-packages/pytorch_lightning/callbacks/model_summary.py#83\u001b\\\u001b[2m83\u001b[0m\u001b]8;;\u001b\\\n",
       "\u001b[2;36m                    \u001b[0m           | Name              | Type              \u001b[2m                                            \u001b[0m\n",
       "\u001b[2;36m                    \u001b[0m         | Params                                  \u001b[2m                                            \u001b[0m\n",
       "\u001b[2;36m                    \u001b[0m         ----------------------------------------- \u001b[2m                                            \u001b[0m\n",
       "\u001b[2;36m                    \u001b[0m         --------------                            \u001b[2m                                            \u001b[0m\n",
       "\u001b[2;36m                    \u001b[0m         \u001b[1;36m0\u001b[0m | train_accuracy    | Accuracy          \u001b[2m                                            \u001b[0m\n",
       "\u001b[2;36m                    \u001b[0m         | \u001b[1;36m0\u001b[0m                                       \u001b[2m                                            \u001b[0m\n",
       "\u001b[2;36m                    \u001b[0m         \u001b[1;36m1\u001b[0m | val_accuracy      | Accuracy          \u001b[2m                                            \u001b[0m\n",
       "\u001b[2;36m                    \u001b[0m         | \u001b[1;36m0\u001b[0m                                       \u001b[2m                                            \u001b[0m\n",
       "\u001b[2;36m                    \u001b[0m         \u001b[1;36m2\u001b[0m | test_accuracy     | Accuracy          \u001b[2m                                            \u001b[0m\n",
       "\u001b[2;36m                    \u001b[0m         | \u001b[1;36m0\u001b[0m                                       \u001b[2m                                            \u001b[0m\n",
       "\u001b[2;36m                    \u001b[0m         \u001b[1;36m3\u001b[0m | data_augm         | DataAugmentation  \u001b[2m                                            \u001b[0m\n",
       "\u001b[2;36m                    \u001b[0m         | \u001b[1;36m0\u001b[0m                                       \u001b[2m                                            \u001b[0m\n",
       "\u001b[2;36m                    \u001b[0m         \u001b[1;36m4\u001b[0m | model             | StudentCNN        \u001b[2m                                            \u001b[0m\n",
       "\u001b[2;36m                    \u001b[0m         | \u001b[1;36m127\u001b[0m K                                   \u001b[2m                                            \u001b[0m\n",
       "\u001b[2;36m                    \u001b[0m         \u001b[1;36m5\u001b[0m | distillation_loss | MSELoss           \u001b[2m                                            \u001b[0m\n",
       "\u001b[2;36m                    \u001b[0m         | \u001b[1;36m0\u001b[0m                                       \u001b[2m                                            \u001b[0m\n",
       "\u001b[2;36m                    \u001b[0m         ----------------------------------------- \u001b[2m                                            \u001b[0m\n",
       "\u001b[2;36m                    \u001b[0m         --------------                            \u001b[2m                                            \u001b[0m\n",
       "\u001b[2;36m                    \u001b[0m         \u001b[1;36m127\u001b[0m K     Trainable params                \u001b[2m                                            \u001b[0m\n",
       "\u001b[2;36m                    \u001b[0m         \u001b[1;36m0\u001b[0m         Non-trainable params            \u001b[2m                                            \u001b[0m\n",
       "\u001b[2;36m                    \u001b[0m         \u001b[1;36m127\u001b[0m K     Total params                    \u001b[2m                                            \u001b[0m\n",
       "\u001b[2;36m                    \u001b[0m         \u001b[1;36m0.510\u001b[0m     Total estimated model params    \u001b[2m                                            \u001b[0m\n",
       "\u001b[2;36m                    \u001b[0m         size \u001b[1m(\u001b[0mMB\u001b[1m)\u001b[0m                                 \u001b[2m                                            \u001b[0m\n"
      ]
     },
     "metadata": {},
     "output_type": "display_data"
    },
    {
     "name": "stdout",
     "output_type": "stream",
     "text": [
      "Epoch 29: 100%|██████████| 1/1 [00:02<00:00,  2.03s/it, loss=4.76, loss/train=4.690]"
     ]
    },
    {
     "data": {
      "text/html": [
       "<pre style=\"white-space:pre;overflow-x:auto;line-height:normal;font-family:Menlo,'DejaVu Sans Mono',consolas,'Courier New',monospace\"><span style=\"color: #7fbfbf; text-decoration-color: #7fbfbf\">2023-10-01 16:15:45 </span><span style=\"color: #000080; text-decoration-color: #000080\">INFO    </span> `Trainer.fit` stopped: `<span style=\"color: #808000; text-decoration-color: #808000\">max_epochs</span>=<span style=\"color: #008080; text-decoration-color: #008080; font-weight: bold\">30</span>`       <a href=\"file:///home/don/miniconda3/envs/lf/lib/python3.9/site-packages/pytorch_lightning/loops/fit_loop.py\" target=\"_blank\"><span style=\"color: #7f7f7f; text-decoration-color: #7f7f7f\">pytorch_lightning.utilities.rank_zero</span></a><span style=\"color: #7f7f7f; text-decoration-color: #7f7f7f\">:</span><a href=\"file:///home/don/miniconda3/envs/lf/lib/python3.9/site-packages/pytorch_lightning/loops/fit_loop.py#170\" target=\"_blank\"><span style=\"color: #7f7f7f; text-decoration-color: #7f7f7f\">170</span></a>\n",
       "<span style=\"color: #7fbfbf; text-decoration-color: #7fbfbf\">                    </span>         reached.                                     <span style=\"color: #7f7f7f; text-decoration-color: #7f7f7f\">                                         </span>\n",
       "</pre>\n"
      ],
      "text/plain": [
       "\u001b[2;36m2023-10-01 16:15:45\u001b[0m\u001b[2;36m \u001b[0m\u001b[34mINFO    \u001b[0m `Trainer.fit` stopped: `\u001b[33mmax_epochs\u001b[0m=\u001b[1;36m30\u001b[0m`       \u001b]8;id=481964;file:///home/don/miniconda3/envs/lf/lib/python3.9/site-packages/pytorch_lightning/loops/fit_loop.py\u001b\\\u001b[2mpytorch_lightning.utilities.rank_zero\u001b[0m\u001b]8;;\u001b\\\u001b[2m:\u001b[0m\u001b]8;id=860210;file:///home/don/miniconda3/envs/lf/lib/python3.9/site-packages/pytorch_lightning/loops/fit_loop.py#170\u001b\\\u001b[2m170\u001b[0m\u001b]8;;\u001b\\\n",
       "\u001b[2;36m                    \u001b[0m         reached.                                     \u001b[2m                                         \u001b[0m\n"
      ]
     },
     "metadata": {},
     "output_type": "display_data"
    },
    {
     "name": "stdout",
     "output_type": "stream",
     "text": [
      "Epoch 29: 100%|██████████| 1/1 [00:02<00:00,  2.20s/it, loss=4.76, loss/train=4.690]\n"
     ]
    }
   ],
   "source": [
    "trainer = trainer_func()\n",
    "trainer.fit(relative_student, train_loader)"
   ]
  },
  {
   "cell_type": "code",
   "execution_count": 27,
   "metadata": {},
   "outputs": [
    {
     "data": {
      "text/html": [
       "<pre style=\"white-space:pre;overflow-x:auto;line-height:normal;font-family:Menlo,'DejaVu Sans Mono',consolas,'Courier New',monospace\"><span style=\"color: #7fbfbf; text-decoration-color: #7fbfbf\">                    </span><span style=\"color: #000080; text-decoration-color: #000080\">INFO    </span> LOCAL_RANK: <span style=\"color: #008080; text-decoration-color: #008080; font-weight: bold\">0</span> - CUDA_VISIBLE_DEVICES: <span style=\"font-weight: bold\">[</span><span style=\"color: #008080; text-decoration-color: #008080; font-weight: bold\">0</span><span style=\"font-weight: bold\">]</span>       <a href=\"file:///home/don/miniconda3/envs/lf/lib/python3.9/site-packages/pytorch_lightning/accelerators/cuda.py\" target=\"_blank\"><span style=\"color: #7f7f7f; text-decoration-color: #7f7f7f\">pytorch_lightning.accelerators.cuda</span></a><span style=\"color: #7f7f7f; text-decoration-color: #7f7f7f\">:</span><a href=\"file:///home/don/miniconda3/envs/lf/lib/python3.9/site-packages/pytorch_lightning/accelerators/cuda.py#57\" target=\"_blank\"><span style=\"color: #7f7f7f; text-decoration-color: #7f7f7f\">57</span></a>\n",
       "</pre>\n"
      ],
      "text/plain": [
       "\u001b[2;36m                   \u001b[0m\u001b[2;36m \u001b[0m\u001b[34mINFO    \u001b[0m LOCAL_RANK: \u001b[1;36m0\u001b[0m - CUDA_VISIBLE_DEVICES: \u001b[1m[\u001b[0m\u001b[1;36m0\u001b[0m\u001b[1m]\u001b[0m       \u001b]8;id=523983;file:///home/don/miniconda3/envs/lf/lib/python3.9/site-packages/pytorch_lightning/accelerators/cuda.py\u001b\\\u001b[2mpytorch_lightning.accelerators.cuda\u001b[0m\u001b]8;;\u001b\\\u001b[2m:\u001b[0m\u001b]8;id=775430;file:///home/don/miniconda3/envs/lf/lib/python3.9/site-packages/pytorch_lightning/accelerators/cuda.py#57\u001b\\\u001b[2m57\u001b[0m\u001b]8;;\u001b\\\n"
      ]
     },
     "metadata": {},
     "output_type": "display_data"
    },
    {
     "name": "stdout",
     "output_type": "stream",
     "text": [
      "Testing: 0it [00:00, ?it/s]"
     ]
    },
    {
     "name": "stderr",
     "output_type": "stream",
     "text": [
      "/home/don/miniconda3/envs/lf/lib/python3.9/site-packages/pytorch_lightning/trainer/trainer.py:653: UserWarning: Detected KeyboardInterrupt, attempting graceful shutdown...\n",
      "  rank_zero_warn(\"Detected KeyboardInterrupt, attempting graceful shutdown...\")\n"
     ]
    }
   ],
   "source": [
    "trainer.test(relative_student, test_loader)"
   ]
  },
  {
   "cell_type": "code",
   "execution_count": null,
   "metadata": {},
   "outputs": [],
   "source": []
  }
 ],
 "metadata": {
  "kernelspec": {
   "display_name": "lf",
   "language": "python",
   "name": "python3"
  },
  "language_info": {
   "codemirror_mode": {
    "name": "ipython",
    "version": 3
   },
   "file_extension": ".py",
   "mimetype": "text/x-python",
   "name": "python",
   "nbconvert_exporter": "python",
   "pygments_lexer": "ipython3",
   "version": "3.9.17"
  },
  "orig_nbformat": 4
 },
 "nbformat": 4,
 "nbformat_minor": 2
}
